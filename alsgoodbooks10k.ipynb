{
 "cells": [
  {
   "cell_type": "code",
   "execution_count": 1,
   "id": "8e13b9f4",
   "metadata": {
    "execution": {
     "iopub.execute_input": "2022-04-11T15:10:55.410254Z",
     "iopub.status.busy": "2022-04-11T15:10:55.409101Z",
     "iopub.status.idle": "2022-04-11T15:11:47.387686Z",
     "shell.execute_reply": "2022-04-11T15:11:47.388354Z",
     "shell.execute_reply.started": "2022-04-11T14:37:59.999265Z"
    },
    "papermill": {
     "duration": 52.040673,
     "end_time": "2022-04-11T15:11:47.389226",
     "exception": false,
     "start_time": "2022-04-11T15:10:55.348553",
     "status": "completed"
    },
    "tags": []
   },
   "outputs": [
    {
     "name": "stdout",
     "output_type": "stream",
     "text": [
      "Collecting pyspark\r\n",
      "  Downloading pyspark-3.2.1.tar.gz (281.4 MB)\r\n",
      "     |████████████████████████████████| 281.4 MB 32 kB/s              \r\n",
      "\u001b[?25h  Preparing metadata (setup.py) ... \u001b[?25l-\b \b\\\b \bdone\r\n",
      "\u001b[?25hCollecting py4j==0.10.9.3\r\n",
      "  Downloading py4j-0.10.9.3-py2.py3-none-any.whl (198 kB)\r\n",
      "     |████████████████████████████████| 198 kB 66.7 MB/s            \r\n",
      "\u001b[?25hBuilding wheels for collected packages: pyspark\r\n",
      "  Building wheel for pyspark (setup.py) ... \u001b[?25l-\b \b\\\b \b|\b \b/\b \b-\b \b\\\b \b|\b \b/\b \b-\b \b\\\b \b|\b \b/\b \b-\b \b\\\b \b|\b \b/\b \b-\b \b\\\b \b|\b \b/\b \b-\b \b\\\b \b|\b \b/\b \b-\b \b\\\b \b|\b \b/\b \b-\b \b\\\b \b|\b \b/\b \b-\b \b\\\b \b|\b \b/\b \b-\b \b\\\b \b|\b \b/\b \b-\b \b\\\b \b|\b \b/\b \b-\b \b\\\b \b|\b \b/\b \b-\b \b\\\b \b|\b \b/\b \b-\b \b\\\b \b|\b \b/\b \b-\b \b\\\b \b|\b \bdone\r\n",
      "\u001b[?25h  Created wheel for pyspark: filename=pyspark-3.2.1-py2.py3-none-any.whl size=281853642 sha256=ecba71c04231c220d2e2a06d96d82923abb23d70a5ceb108112ecd5547f33fe7\r\n",
      "  Stored in directory: /root/.cache/pip/wheels/9f/f5/07/7cd8017084dce4e93e84e92efd1e1d5334db05f2e83bcef74f\r\n",
      "Successfully built pyspark\r\n",
      "Installing collected packages: py4j, pyspark\r\n",
      "  Attempting uninstall: py4j\r\n",
      "    Found existing installation: py4j 0.10.9.4\r\n",
      "    Uninstalling py4j-0.10.9.4:\r\n",
      "      Successfully uninstalled py4j-0.10.9.4\r\n",
      "Successfully installed py4j-0.10.9.3 pyspark-3.2.1\r\n",
      "\u001b[33mWARNING: Running pip as the 'root' user can result in broken permissions and conflicting behaviour with the system package manager. It is recommended to use a virtual environment instead: https://pip.pypa.io/warnings/venv\u001b[0m\r\n"
     ]
    }
   ],
   "source": [
    "!pip install pyspark"
   ]
  },
  {
   "cell_type": "code",
   "execution_count": 2,
   "id": "903f0ea4",
   "metadata": {
    "execution": {
     "iopub.execute_input": "2022-04-11T15:11:47.872986Z",
     "iopub.status.busy": "2022-04-11T15:11:47.872219Z",
     "iopub.status.idle": "2022-04-11T15:11:54.847847Z",
     "shell.execute_reply": "2022-04-11T15:11:54.846775Z",
     "shell.execute_reply.started": "2022-04-11T14:55:51.200597Z"
    },
    "papermill": {
     "duration": 7.21858,
     "end_time": "2022-04-11T15:11:54.848073",
     "exception": false,
     "start_time": "2022-04-11T15:11:47.629493",
     "status": "completed"
    },
    "tags": []
   },
   "outputs": [
    {
     "name": "stderr",
     "output_type": "stream",
     "text": [
      "WARNING: An illegal reflective access operation has occurred\n",
      "WARNING: Illegal reflective access by org.apache.spark.unsafe.Platform (file:/opt/conda/lib/python3.7/site-packages/pyspark/jars/spark-unsafe_2.12-3.2.1.jar) to constructor java.nio.DirectByteBuffer(long,int)\n",
      "WARNING: Please consider reporting this to the maintainers of org.apache.spark.unsafe.Platform\n",
      "WARNING: Use --illegal-access=warn to enable warnings of further illegal reflective access operations\n",
      "WARNING: All illegal access operations will be denied in a future release\n",
      "Using Spark's default log4j profile: org/apache/spark/log4j-defaults.properties\n",
      "Setting default log level to \"WARN\".\n",
      "To adjust logging level use sc.setLogLevel(newLevel). For SparkR, use setLogLevel(newLevel).\n",
      "22/04/11 15:11:51 WARN NativeCodeLoader: Unable to load native-hadoop library for your platform... using builtin-java classes where applicable\n"
     ]
    }
   ],
   "source": [
    "import pyspark\n",
    "from pyspark.sql import SparkSession\n",
    "from pyspark.sql.types import StructType,StructField, StringType, IntegerType \n",
    "from pyspark.sql.types import ArrayType, DoubleType, BooleanType\n",
    "from pyspark.sql.functions import col,array_contains\n",
    "from pyspark.sql import SQLContext \n",
    "from pyspark.ml.recommendation import ALS\n",
    "from pyspark.sql.functions import udf,col,when\n",
    "from pyspark.sql.functions import to_timestamp,date_format\n",
    "import numpy as np\n",
    "import pandas as pd\n",
    "from pyspark.sql.types import *\n",
    "from pyspark.sql.functions import *\n",
    "from pyspark.sql.window import *\n",
    "sc = SparkSession.builder.appName(\"Recommendations\").config(\"spark.sql.files.maxPartitionBytes\", 5000000).getOrCreate()\n",
    "spark = SparkSession(sc)"
   ]
  },
  {
   "cell_type": "code",
   "execution_count": 3,
   "id": "16525f8f",
   "metadata": {
    "execution": {
     "iopub.execute_input": "2022-04-11T15:11:55.329610Z",
     "iopub.status.busy": "2022-04-11T15:11:55.328884Z",
     "iopub.status.idle": "2022-04-11T15:12:03.204777Z",
     "shell.execute_reply": "2022-04-11T15:12:03.203641Z",
     "shell.execute_reply.started": "2022-04-11T14:39:11.999830Z"
    },
    "papermill": {
     "duration": 8.110367,
     "end_time": "2022-04-11T15:12:03.205011",
     "exception": false,
     "start_time": "2022-04-11T15:11:55.094644",
     "status": "completed"
    },
    "tags": []
   },
   "outputs": [
    {
     "name": "stderr",
     "output_type": "stream",
     "text": [
      "                                                                                \r"
     ]
    },
    {
     "data": {
      "text/plain": [
       "DataFrame[user_id: int, book_id: int]"
      ]
     },
     "metadata": {},
     "output_type": "display_data"
    }
   ],
   "source": [
    "#import to_read data\n",
    "\n",
    "file_location = \"../input/goodbooks-10k/to_read.csv\"\n",
    "file_type = \"csv\"\n",
    "\n",
    "# CSV options\n",
    "infer_schema = \"True\"\n",
    "first_row_is_header = \"True\"\n",
    "delimiter = \",\"\n",
    "\n",
    "# The applied options are for CSV files. For other file types, these will be ignored.\n",
    "to_read = spark.read.format(file_type) \\\n",
    "  .option(\"inferSchema\", infer_schema) \\\n",
    "  .option(\"header\", first_row_is_header) \\\n",
    "  .option(\"sep\", delimiter) \\\n",
    "  .load(file_location)\n",
    "\n",
    "display(to_read)\n",
    "\n",
    "# Create Temporary Tables\n",
    "to_read.createOrReplaceTempView(\"to_read\")"
   ]
  },
  {
   "cell_type": "code",
   "execution_count": 4,
   "id": "76334712",
   "metadata": {
    "execution": {
     "iopub.execute_input": "2022-04-11T15:12:03.688770Z",
     "iopub.status.busy": "2022-04-11T15:12:03.688085Z",
     "iopub.status.idle": "2022-04-11T15:12:05.492704Z",
     "shell.execute_reply": "2022-04-11T15:12:05.491787Z",
     "shell.execute_reply.started": "2022-04-11T14:39:19.770507Z"
    },
    "papermill": {
     "duration": 2.049447,
     "end_time": "2022-04-11T15:12:05.492860",
     "exception": false,
     "start_time": "2022-04-11T15:12:03.443413",
     "status": "completed"
    },
    "tags": []
   },
   "outputs": [
    {
     "name": "stderr",
     "output_type": "stream",
     "text": [
      "                                                                                \r"
     ]
    },
    {
     "data": {
      "text/plain": [
       "DataFrame[book_id: int, user_id: int, rating: int]"
      ]
     },
     "metadata": {},
     "output_type": "display_data"
    }
   ],
   "source": [
    "#import ratings data\n",
    "file_location = \"../input/goodbooks-10k/ratings.csv\"\n",
    "file_type = \"csv\"\n",
    "\n",
    "# CSV options\n",
    "infer_schema = \"True\"\n",
    "first_row_is_header = \"True\"\n",
    "delimiter = \",\"\n",
    "\n",
    "# The applied options are for CSV files. For other file types, these will be ignored.\n",
    "ratings = spark.read.format(file_type) \\\n",
    "  .option(\"inferSchema\", infer_schema) \\\n",
    "  .option(\"header\", first_row_is_header) \\\n",
    "  .option(\"sep\", delimiter) \\\n",
    "  .load(file_location)\n",
    "\n",
    "display(ratings)\n",
    "\n",
    "# Create Temporary Tables\n",
    "ratings.createOrReplaceTempView(\"ratings\")"
   ]
  },
  {
   "cell_type": "code",
   "execution_count": 5,
   "id": "aa5ab027",
   "metadata": {
    "execution": {
     "iopub.execute_input": "2022-04-11T15:12:05.991404Z",
     "iopub.status.busy": "2022-04-11T15:12:05.990700Z",
     "iopub.status.idle": "2022-04-11T15:12:05.995116Z",
     "shell.execute_reply": "2022-04-11T15:12:05.995644Z",
     "shell.execute_reply.started": "2022-04-11T15:01:23.622702Z"
    },
    "papermill": {
     "duration": 0.250741,
     "end_time": "2022-04-11T15:12:05.995834",
     "exception": false,
     "start_time": "2022-04-11T15:12:05.745093",
     "status": "completed"
    },
    "tags": []
   },
   "outputs": [
    {
     "data": {
      "text/plain": [
       "DataFrame[book_id: int, user_id: int, rating: int]"
      ]
     },
     "metadata": {},
     "output_type": "display_data"
    }
   ],
   "source": [
    "display(ratings)"
   ]
  },
  {
   "cell_type": "markdown",
   "id": "c390f938",
   "metadata": {
    "execution": {
     "iopub.execute_input": "2022-04-11T14:40:46.262658Z",
     "iopub.status.busy": "2022-04-11T14:40:46.261255Z",
     "iopub.status.idle": "2022-04-11T14:40:46.271900Z",
     "shell.execute_reply": "2022-04-11T14:40:46.270791Z",
     "shell.execute_reply.started": "2022-04-11T14:40:46.262601Z"
    },
    "papermill": {
     "duration": 0.228394,
     "end_time": "2022-04-11T15:12:06.452881",
     "exception": false,
     "start_time": "2022-04-11T15:12:06.224487",
     "status": "completed"
    },
    "tags": []
   },
   "source": [
    "%sql\n",
    "select * from ratings"
   ]
  },
  {
   "cell_type": "code",
   "execution_count": 6,
   "id": "c1bdc23c",
   "metadata": {
    "execution": {
     "iopub.execute_input": "2022-04-11T15:12:06.916306Z",
     "iopub.status.busy": "2022-04-11T15:12:06.912647Z",
     "iopub.status.idle": "2022-04-11T15:12:07.861723Z",
     "shell.execute_reply": "2022-04-11T15:12:07.860683Z",
     "shell.execute_reply.started": "2022-04-11T14:42:06.398733Z"
    },
    "papermill": {
     "duration": 1.179272,
     "end_time": "2022-04-11T15:12:07.861940",
     "exception": false,
     "start_time": "2022-04-11T15:12:06.682668",
     "status": "completed"
    },
    "tags": []
   },
   "outputs": [
    {
     "name": "stderr",
     "output_type": "stream",
     "text": [
      "                                                                                \r"
     ]
    },
    {
     "data": {
      "text/plain": [
       "DataFrame[id: int, book_id: int, best_book_id: int, work_id: int, books_count: int, isbn: string, isbn13: double, authors: string, original_publication_year: double, original_title: string, title: string, language_code: string, average_rating: string, ratings_count: string, work_ratings_count: string, work_text_reviews_count: string, ratings_1: double, ratings_2: int, ratings_3: int, ratings_4: int, ratings_5: int, image_url: string, small_image_url: string]"
      ]
     },
     "metadata": {},
     "output_type": "display_data"
    }
   ],
   "source": [
    "#import books data\n",
    "file_location = \"../input/goodbooks-10k/books.csv\"\n",
    "infer_schema = \"True\"\n",
    "first_row_is_header = \"True\"\n",
    "delimiter = \",\"\n",
    "\n",
    "# The applied options are for CSV files. For other file types, these will be ignored.\n",
    "books = spark.read.format(file_type) \\\n",
    "  .option(\"inferSchema\", infer_schema) \\\n",
    "  .option(\"header\", first_row_is_header) \\\n",
    "  .option(\"sto_readep\", delimiter) \\\n",
    "  .load(file_location)\n",
    "\n",
    "display(books)\n",
    "\n",
    "# Create Temporary Tables\n",
    "books.createOrReplaceTempView(\"books\")"
   ]
  },
  {
   "cell_type": "code",
   "execution_count": 7,
   "id": "58310118",
   "metadata": {
    "execution": {
     "iopub.execute_input": "2022-04-11T15:12:08.337927Z",
     "iopub.status.busy": "2022-04-11T15:12:08.337260Z",
     "iopub.status.idle": "2022-04-11T15:12:09.757801Z",
     "shell.execute_reply": "2022-04-11T15:12:09.756839Z",
     "shell.execute_reply.started": "2022-04-11T14:42:11.622186Z"
    },
    "papermill": {
     "duration": 1.658235,
     "end_time": "2022-04-11T15:12:09.757966",
     "exception": false,
     "start_time": "2022-04-11T15:12:08.099731",
     "status": "completed"
    },
    "tags": []
   },
   "outputs": [
    {
     "name": "stderr",
     "output_type": "stream",
     "text": [
      "                                                                                \r"
     ]
    },
    {
     "data": {
      "text/html": [
       "<div>\n",
       "<style scoped>\n",
       "    .dataframe tbody tr th:only-of-type {\n",
       "        vertical-align: middle;\n",
       "    }\n",
       "\n",
       "    .dataframe tbody tr th {\n",
       "        vertical-align: top;\n",
       "    }\n",
       "\n",
       "    .dataframe thead th {\n",
       "        text-align: right;\n",
       "    }\n",
       "</style>\n",
       "<table border=\"1\" class=\"dataframe\">\n",
       "  <thead>\n",
       "    <tr style=\"text-align: right;\">\n",
       "      <th></th>\n",
       "      <th>id</th>\n",
       "      <th>book_id</th>\n",
       "      <th>best_book_id</th>\n",
       "      <th>work_id</th>\n",
       "      <th>books_count</th>\n",
       "      <th>isbn</th>\n",
       "      <th>isbn13</th>\n",
       "      <th>authors</th>\n",
       "      <th>original_publication_year</th>\n",
       "      <th>original_title</th>\n",
       "      <th>...</th>\n",
       "      <th>ratings_count</th>\n",
       "      <th>work_ratings_count</th>\n",
       "      <th>work_text_reviews_count</th>\n",
       "      <th>ratings_1</th>\n",
       "      <th>ratings_2</th>\n",
       "      <th>ratings_3</th>\n",
       "      <th>ratings_4</th>\n",
       "      <th>ratings_5</th>\n",
       "      <th>image_url</th>\n",
       "      <th>small_image_url</th>\n",
       "    </tr>\n",
       "  </thead>\n",
       "  <tbody>\n",
       "    <tr>\n",
       "      <th>0</th>\n",
       "      <td>1</td>\n",
       "      <td>2767052</td>\n",
       "      <td>2767052</td>\n",
       "      <td>2792775</td>\n",
       "      <td>272</td>\n",
       "      <td>439023483</td>\n",
       "      <td>9.780439e+12</td>\n",
       "      <td>Suzanne Collins</td>\n",
       "      <td>2008.0</td>\n",
       "      <td>The Hunger Games</td>\n",
       "      <td>...</td>\n",
       "      <td>4780653</td>\n",
       "      <td>4942365</td>\n",
       "      <td>155254</td>\n",
       "      <td>66715.0</td>\n",
       "      <td>127936</td>\n",
       "      <td>560092</td>\n",
       "      <td>1481305</td>\n",
       "      <td>2706317</td>\n",
       "      <td>https://images.gr-assets.com/books/1447303603m...</td>\n",
       "      <td>https://images.gr-assets.com/books/1447303603s...</td>\n",
       "    </tr>\n",
       "    <tr>\n",
       "      <th>1</th>\n",
       "      <td>2</td>\n",
       "      <td>3</td>\n",
       "      <td>3</td>\n",
       "      <td>4640799</td>\n",
       "      <td>491</td>\n",
       "      <td>439554934</td>\n",
       "      <td>9.780440e+12</td>\n",
       "      <td>J.K. Rowling, Mary GrandPré</td>\n",
       "      <td>1997.0</td>\n",
       "      <td>Harry Potter and the Philosopher's Stone</td>\n",
       "      <td>...</td>\n",
       "      <td>4602479</td>\n",
       "      <td>4800065</td>\n",
       "      <td>75867</td>\n",
       "      <td>75504.0</td>\n",
       "      <td>101676</td>\n",
       "      <td>455024</td>\n",
       "      <td>1156318</td>\n",
       "      <td>3011543</td>\n",
       "      <td>https://images.gr-assets.com/books/1474154022m...</td>\n",
       "      <td>https://images.gr-assets.com/books/1474154022s...</td>\n",
       "    </tr>\n",
       "    <tr>\n",
       "      <th>2</th>\n",
       "      <td>3</td>\n",
       "      <td>41865</td>\n",
       "      <td>41865</td>\n",
       "      <td>3212258</td>\n",
       "      <td>226</td>\n",
       "      <td>316015849</td>\n",
       "      <td>9.780316e+12</td>\n",
       "      <td>Stephenie Meyer</td>\n",
       "      <td>2005.0</td>\n",
       "      <td>Twilight</td>\n",
       "      <td>...</td>\n",
       "      <td>3866839</td>\n",
       "      <td>3916824</td>\n",
       "      <td>95009</td>\n",
       "      <td>456191.0</td>\n",
       "      <td>436802</td>\n",
       "      <td>793319</td>\n",
       "      <td>875073</td>\n",
       "      <td>1355439</td>\n",
       "      <td>https://images.gr-assets.com/books/1361039443m...</td>\n",
       "      <td>https://images.gr-assets.com/books/1361039443s...</td>\n",
       "    </tr>\n",
       "    <tr>\n",
       "      <th>3</th>\n",
       "      <td>4</td>\n",
       "      <td>2657</td>\n",
       "      <td>2657</td>\n",
       "      <td>3275794</td>\n",
       "      <td>487</td>\n",
       "      <td>61120081</td>\n",
       "      <td>9.780061e+12</td>\n",
       "      <td>Harper Lee</td>\n",
       "      <td>1960.0</td>\n",
       "      <td>To Kill a Mockingbird</td>\n",
       "      <td>...</td>\n",
       "      <td>3198671</td>\n",
       "      <td>3340896</td>\n",
       "      <td>72586</td>\n",
       "      <td>60427.0</td>\n",
       "      <td>117415</td>\n",
       "      <td>446835</td>\n",
       "      <td>1001952</td>\n",
       "      <td>1714267</td>\n",
       "      <td>https://images.gr-assets.com/books/1361975680m...</td>\n",
       "      <td>https://images.gr-assets.com/books/1361975680s...</td>\n",
       "    </tr>\n",
       "    <tr>\n",
       "      <th>4</th>\n",
       "      <td>5</td>\n",
       "      <td>4671</td>\n",
       "      <td>4671</td>\n",
       "      <td>245494</td>\n",
       "      <td>1356</td>\n",
       "      <td>743273567</td>\n",
       "      <td>9.780743e+12</td>\n",
       "      <td>F. Scott Fitzgerald</td>\n",
       "      <td>1925.0</td>\n",
       "      <td>The Great Gatsby</td>\n",
       "      <td>...</td>\n",
       "      <td>2683664</td>\n",
       "      <td>2773745</td>\n",
       "      <td>51992</td>\n",
       "      <td>86236.0</td>\n",
       "      <td>197621</td>\n",
       "      <td>606158</td>\n",
       "      <td>936012</td>\n",
       "      <td>947718</td>\n",
       "      <td>https://images.gr-assets.com/books/1490528560m...</td>\n",
       "      <td>https://images.gr-assets.com/books/1490528560s...</td>\n",
       "    </tr>\n",
       "  </tbody>\n",
       "</table>\n",
       "<p>5 rows × 23 columns</p>\n",
       "</div>"
      ],
      "text/plain": [
       "   id  book_id  best_book_id  work_id  books_count       isbn        isbn13  \\\n",
       "0   1  2767052       2767052  2792775          272  439023483  9.780439e+12   \n",
       "1   2        3             3  4640799          491  439554934  9.780440e+12   \n",
       "2   3    41865         41865  3212258          226  316015849  9.780316e+12   \n",
       "3   4     2657          2657  3275794          487   61120081  9.780061e+12   \n",
       "4   5     4671          4671   245494         1356  743273567  9.780743e+12   \n",
       "\n",
       "                       authors  original_publication_year  \\\n",
       "0              Suzanne Collins                     2008.0   \n",
       "1  J.K. Rowling, Mary GrandPré                     1997.0   \n",
       "2              Stephenie Meyer                     2005.0   \n",
       "3                   Harper Lee                     1960.0   \n",
       "4          F. Scott Fitzgerald                     1925.0   \n",
       "\n",
       "                             original_title  ... ratings_count  \\\n",
       "0                          The Hunger Games  ...       4780653   \n",
       "1  Harry Potter and the Philosopher's Stone  ...       4602479   \n",
       "2                                  Twilight  ...       3866839   \n",
       "3                     To Kill a Mockingbird  ...       3198671   \n",
       "4                          The Great Gatsby  ...       2683664   \n",
       "\n",
       "  work_ratings_count work_text_reviews_count ratings_1 ratings_2 ratings_3  \\\n",
       "0            4942365                  155254   66715.0    127936    560092   \n",
       "1            4800065                   75867   75504.0    101676    455024   \n",
       "2            3916824                   95009  456191.0    436802    793319   \n",
       "3            3340896                   72586   60427.0    117415    446835   \n",
       "4            2773745                   51992   86236.0    197621    606158   \n",
       "\n",
       "   ratings_4  ratings_5                                          image_url  \\\n",
       "0    1481305    2706317  https://images.gr-assets.com/books/1447303603m...   \n",
       "1    1156318    3011543  https://images.gr-assets.com/books/1474154022m...   \n",
       "2     875073    1355439  https://images.gr-assets.com/books/1361039443m...   \n",
       "3    1001952    1714267  https://images.gr-assets.com/books/1361975680m...   \n",
       "4     936012     947718  https://images.gr-assets.com/books/1490528560m...   \n",
       "\n",
       "                                     small_image_url  \n",
       "0  https://images.gr-assets.com/books/1447303603s...  \n",
       "1  https://images.gr-assets.com/books/1474154022s...  \n",
       "2  https://images.gr-assets.com/books/1361039443s...  \n",
       "3  https://images.gr-assets.com/books/1361975680s...  \n",
       "4  https://images.gr-assets.com/books/1490528560s...  \n",
       "\n",
       "[5 rows x 23 columns]"
      ]
     },
     "execution_count": 7,
     "metadata": {},
     "output_type": "execute_result"
    }
   ],
   "source": [
    "#converting books data into pandas dataframe\n",
    "\n",
    "books_df = books.toPandas()\n",
    "books_df.head()"
   ]
  },
  {
   "cell_type": "markdown",
   "id": "17d105db",
   "metadata": {
    "execution": {
     "iopub.execute_input": "2022-04-11T14:42:16.501955Z",
     "iopub.status.busy": "2022-04-11T14:42:16.501458Z",
     "iopub.status.idle": "2022-04-11T14:42:16.510348Z",
     "shell.execute_reply": "2022-04-11T14:42:16.508928Z",
     "shell.execute_reply.started": "2022-04-11T14:42:16.501922Z"
    },
    "papermill": {
     "duration": 0.231001,
     "end_time": "2022-04-11T15:12:10.231935",
     "exception": false,
     "start_time": "2022-04-11T15:12:10.000934",
     "status": "completed"
    },
    "tags": []
   },
   "source": [
    "%sql\n",
    "\n",
    "select * from books where original_publication_year = -1750"
   ]
  },
  {
   "cell_type": "markdown",
   "id": "2c1f4f25",
   "metadata": {
    "execution": {
     "iopub.execute_input": "2022-04-11T14:42:21.656600Z",
     "iopub.status.busy": "2022-04-11T14:42:21.656296Z",
     "iopub.status.idle": "2022-04-11T14:42:21.663540Z",
     "shell.execute_reply": "2022-04-11T14:42:21.662587Z",
     "shell.execute_reply.started": "2022-04-11T14:42:21.656565Z"
    },
    "papermill": {
     "duration": 0.227865,
     "end_time": "2022-04-11T15:12:10.687854",
     "exception": false,
     "start_time": "2022-04-11T15:12:10.459989",
     "status": "completed"
    },
    "tags": []
   },
   "source": [
    "%sql\n",
    "\n",
    "select original_publication_year, count(*) as count from books where original_publication_year > 1950 group by original_publication_year"
   ]
  },
  {
   "cell_type": "code",
   "execution_count": 8,
   "id": "38ca3ea2",
   "metadata": {
    "execution": {
     "iopub.execute_input": "2022-04-11T15:12:11.147881Z",
     "iopub.status.busy": "2022-04-11T15:12:11.146917Z",
     "iopub.status.idle": "2022-04-11T15:12:11.150975Z",
     "shell.execute_reply": "2022-04-11T15:12:11.150312Z",
     "shell.execute_reply.started": "2022-04-11T14:42:28.439558Z"
    },
    "papermill": {
     "duration": 0.235657,
     "end_time": "2022-04-11T15:12:11.151119",
     "exception": false,
     "start_time": "2022-04-11T15:12:10.915462",
     "status": "completed"
    },
    "tags": []
   },
   "outputs": [
    {
     "data": {
      "text/plain": [
       "(10000, 23)"
      ]
     },
     "execution_count": 8,
     "metadata": {},
     "output_type": "execute_result"
    }
   ],
   "source": [
    "import pandas as pd\n",
    "import numpy as np\n",
    "books_df.shape"
   ]
  },
  {
   "cell_type": "code",
   "execution_count": 9,
   "id": "96118d7e",
   "metadata": {
    "execution": {
     "iopub.execute_input": "2022-04-11T15:12:11.611493Z",
     "iopub.status.busy": "2022-04-11T15:12:11.610824Z",
     "iopub.status.idle": "2022-04-11T15:12:11.648849Z",
     "shell.execute_reply": "2022-04-11T15:12:11.649339Z",
     "shell.execute_reply.started": "2022-04-11T14:45:46.386215Z"
    },
    "papermill": {
     "duration": 0.271291,
     "end_time": "2022-04-11T15:12:11.649567",
     "exception": false,
     "start_time": "2022-04-11T15:12:11.378276",
     "status": "completed"
    },
    "tags": []
   },
   "outputs": [
    {
     "data": {
      "text/html": [
       "<div>\n",
       "<style scoped>\n",
       "    .dataframe tbody tr th:only-of-type {\n",
       "        vertical-align: middle;\n",
       "    }\n",
       "\n",
       "    .dataframe tbody tr th {\n",
       "        vertical-align: top;\n",
       "    }\n",
       "\n",
       "    .dataframe thead th {\n",
       "        text-align: right;\n",
       "    }\n",
       "</style>\n",
       "<table border=\"1\" class=\"dataframe\">\n",
       "  <thead>\n",
       "    <tr style=\"text-align: right;\">\n",
       "      <th></th>\n",
       "      <th>original_title</th>\n",
       "      <th>ratings_count</th>\n",
       "      <th>average_rating</th>\n",
       "    </tr>\n",
       "  </thead>\n",
       "  <tbody>\n",
       "    <tr>\n",
       "      <th>0</th>\n",
       "      <td>The Hunger Games</td>\n",
       "      <td>4780653</td>\n",
       "      <td>4.34</td>\n",
       "    </tr>\n",
       "    <tr>\n",
       "      <th>1</th>\n",
       "      <td>Harry Potter and the Philosopher's Stone</td>\n",
       "      <td>4602479</td>\n",
       "      <td>4.44</td>\n",
       "    </tr>\n",
       "    <tr>\n",
       "      <th>2</th>\n",
       "      <td>Twilight</td>\n",
       "      <td>3866839</td>\n",
       "      <td>3.57</td>\n",
       "    </tr>\n",
       "    <tr>\n",
       "      <th>3</th>\n",
       "      <td>To Kill a Mockingbird</td>\n",
       "      <td>3198671</td>\n",
       "      <td>4.25</td>\n",
       "    </tr>\n",
       "    <tr>\n",
       "      <th>4</th>\n",
       "      <td>The Great Gatsby</td>\n",
       "      <td>2683664</td>\n",
       "      <td>3.89</td>\n",
       "    </tr>\n",
       "    <tr>\n",
       "      <th>5</th>\n",
       "      <td>The Fault in Our Stars</td>\n",
       "      <td>2346404</td>\n",
       "      <td>4.26</td>\n",
       "    </tr>\n",
       "    <tr>\n",
       "      <th>6</th>\n",
       "      <td>The Hobbit or There and Back Again</td>\n",
       "      <td>2071616</td>\n",
       "      <td>4.25</td>\n",
       "    </tr>\n",
       "    <tr>\n",
       "      <th>7</th>\n",
       "      <td>The Catcher in the Rye</td>\n",
       "      <td>2044241</td>\n",
       "      <td>3.79</td>\n",
       "    </tr>\n",
       "    <tr>\n",
       "      <th>9</th>\n",
       "      <td>Pride and Prejudice</td>\n",
       "      <td>2035490</td>\n",
       "      <td>4.24</td>\n",
       "    </tr>\n",
       "    <tr>\n",
       "      <th>8</th>\n",
       "      <td>Angels &amp; Demons</td>\n",
       "      <td>2001311</td>\n",
       "      <td>3.85</td>\n",
       "    </tr>\n",
       "  </tbody>\n",
       "</table>\n",
       "</div>"
      ],
      "text/plain": [
       "                             original_title  ratings_count average_rating\n",
       "0                          The Hunger Games        4780653           4.34\n",
       "1  Harry Potter and the Philosopher's Stone        4602479           4.44\n",
       "2                                  Twilight        3866839           3.57\n",
       "3                     To Kill a Mockingbird        3198671           4.25\n",
       "4                          The Great Gatsby        2683664           3.89\n",
       "5                    The Fault in Our Stars        2346404           4.26\n",
       "6        The Hobbit or There and Back Again        2071616           4.25\n",
       "7                    The Catcher in the Rye        2044241           3.79\n",
       "9                       Pride and Prejudice        2035490           4.24\n",
       "8                          Angels & Demons         2001311           3.85"
      ]
     },
     "execution_count": 9,
     "metadata": {},
     "output_type": "execute_result"
    }
   ],
   "source": [
    "#3sanity check\n",
    "books_df = books_df[books_df.ratings_count.str.isdigit() == True]\n",
    "books_df.ratings_count = books_df.ratings_count.astype('int')\n",
    "#Top books with most number of ratings on goodbooks\n",
    "\n",
    "books_df.sort_values(by = 'ratings_count', ascending = False)[['original_title','ratings_count', 'average_rating' ]][0:10]"
   ]
  },
  {
   "cell_type": "code",
   "execution_count": 10,
   "id": "4185bc17",
   "metadata": {
    "execution": {
     "iopub.execute_input": "2022-04-11T15:12:12.110761Z",
     "iopub.status.busy": "2022-04-11T15:12:12.110017Z",
     "iopub.status.idle": "2022-04-11T15:12:12.122835Z",
     "shell.execute_reply": "2022-04-11T15:12:12.123369Z",
     "shell.execute_reply.started": "2022-04-11T14:45:49.320000Z"
    },
    "papermill": {
     "duration": 0.244073,
     "end_time": "2022-04-11T15:12:12.123557",
     "exception": false,
     "start_time": "2022-04-11T15:12:11.879484",
     "status": "completed"
    },
    "tags": []
   },
   "outputs": [],
   "source": [
    "most_ratings = books_df.sort_values(by = 'ratings_count', ascending = False)[['original_title','ratings_count', 'average_rating', 'image_url' ]][0:10]"
   ]
  },
  {
   "cell_type": "code",
   "execution_count": 11,
   "id": "69c0621a",
   "metadata": {
    "execution": {
     "iopub.execute_input": "2022-04-11T15:12:12.613060Z",
     "iopub.status.busy": "2022-04-11T15:12:12.602926Z",
     "iopub.status.idle": "2022-04-11T15:12:12.617103Z",
     "shell.execute_reply": "2022-04-11T15:12:12.617833Z",
     "shell.execute_reply.started": "2022-04-11T14:43:42.759597Z"
    },
    "papermill": {
     "duration": 0.268891,
     "end_time": "2022-04-11T15:12:12.618068",
     "exception": false,
     "start_time": "2022-04-11T15:12:12.349177",
     "status": "completed"
    },
    "tags": []
   },
   "outputs": [
    {
     "name": "stderr",
     "output_type": "stream",
     "text": [
      "/opt/conda/lib/python3.7/site-packages/ipykernel_launcher.py:6: FutureWarning: The default value of regex will change from True to False in a future version.\n",
      "  \n"
     ]
    },
    {
     "data": {
      "text/html": [
       "<table border=\"1\" class=\"dataframe\">\n",
       "  <thead>\n",
       "    <tr style=\"text-align: right;\">\n",
       "      <th></th>\n",
       "      <th>original_title</th>\n",
       "      <th>img_html</th>\n",
       "      <th>ratings_count</th>\n",
       "      <th>average_rating</th>\n",
       "    </tr>\n",
       "  </thead>\n",
       "  <tbody>\n",
       "    <tr>\n",
       "      <th>0</th>\n",
       "      <td>The Hunger Games</td>\n",
       "      <td><img src=\"https://images.gr-assets.com/books/1447303603m/2767052.jpg\" style=\"max-height:124px;\"></img><img src=\"\" style=\"max-height:124px;\"></img></td>\n",
       "      <td>4780653</td>\n",
       "      <td>4.34</td>\n",
       "    </tr>\n",
       "    <tr>\n",
       "      <th>1</th>\n",
       "      <td>Harry Potter and the Philosopher's Stone</td>\n",
       "      <td><img src=\"https://images.gr-assets.com/books/1474154022m/3.jpg\" style=\"max-height:124px;\"></img><img src=\"\" style=\"max-height:124px;\"></img></td>\n",
       "      <td>4602479</td>\n",
       "      <td>4.44</td>\n",
       "    </tr>\n",
       "    <tr>\n",
       "      <th>2</th>\n",
       "      <td>Twilight</td>\n",
       "      <td><img src=\"https://images.gr-assets.com/books/1361039443m/41865.jpg\" style=\"max-height:124px;\"></img><img src=\"\" style=\"max-height:124px;\"></img></td>\n",
       "      <td>3866839</td>\n",
       "      <td>3.57</td>\n",
       "    </tr>\n",
       "    <tr>\n",
       "      <th>3</th>\n",
       "      <td>To Kill a Mockingbird</td>\n",
       "      <td><img src=\"https://images.gr-assets.com/books/1361975680m/2657.jpg\" style=\"max-height:124px;\"></img><img src=\"\" style=\"max-height:124px;\"></img></td>\n",
       "      <td>3198671</td>\n",
       "      <td>4.25</td>\n",
       "    </tr>\n",
       "    <tr>\n",
       "      <th>4</th>\n",
       "      <td>The Great Gatsby</td>\n",
       "      <td><img src=\"https://images.gr-assets.com/books/1490528560m/4671.jpg\" style=\"max-height:124px;\"></img><img src=\"\" style=\"max-height:124px;\"></img></td>\n",
       "      <td>2683664</td>\n",
       "      <td>3.89</td>\n",
       "    </tr>\n",
       "    <tr>\n",
       "      <th>5</th>\n",
       "      <td>The Fault in Our Stars</td>\n",
       "      <td><img src=\"https://images.gr-assets.com/books/1360206420m/11870085.jpg\" style=\"max-height:124px;\"></img><img src=\"\" style=\"max-height:124px;\"></img></td>\n",
       "      <td>2346404</td>\n",
       "      <td>4.26</td>\n",
       "    </tr>\n",
       "    <tr>\n",
       "      <th>6</th>\n",
       "      <td>The Hobbit or There and Back Again</td>\n",
       "      <td><img src=\"https://images.gr-assets.com/books/1372847500m/5907.jpg\" style=\"max-height:124px;\"></img><img src=\"\" style=\"max-height:124px;\"></img></td>\n",
       "      <td>2071616</td>\n",
       "      <td>4.25</td>\n",
       "    </tr>\n",
       "    <tr>\n",
       "      <th>7</th>\n",
       "      <td>The Catcher in the Rye</td>\n",
       "      <td><img src=\"https://images.gr-assets.com/books/1398034300m/5107.jpg\" style=\"max-height:124px;\"></img><img src=\"\" style=\"max-height:124px;\"></img></td>\n",
       "      <td>2044241</td>\n",
       "      <td>3.79</td>\n",
       "    </tr>\n",
       "    <tr>\n",
       "      <th>9</th>\n",
       "      <td>Pride and Prejudice</td>\n",
       "      <td><img src=\"https://images.gr-assets.com/books/1320399351m/1885.jpg\" style=\"max-height:124px;\"></img><img src=\"\" style=\"max-height:124px;\"></img></td>\n",
       "      <td>2035490</td>\n",
       "      <td>4.24</td>\n",
       "    </tr>\n",
       "    <tr>\n",
       "      <th>8</th>\n",
       "      <td>Angels & Demons</td>\n",
       "      <td><img src=\"https://images.gr-assets.com/books/1303390735m/960.jpg\" style=\"max-height:124px;\"></img><img src=\"\" style=\"max-height:124px;\"></img></td>\n",
       "      <td>2001311</td>\n",
       "      <td>3.85</td>\n",
       "    </tr>\n",
       "  </tbody>\n",
       "</table>"
      ],
      "text/plain": [
       "<IPython.core.display.HTML object>"
      ]
     },
     "metadata": {},
     "output_type": "display_data"
    }
   ],
   "source": [
    "import pandas as pd\n",
    "from IPython.display import Image, HTML\n",
    "most_ratings['img_html'] = most_ratings['image_url']\\\n",
    "    .str.replace(\n",
    "        '(.*)', \n",
    "        '<img src=\"\\\\1\" style=\"max-height:124px;\"></img>'\n",
    "    )\n",
    "with pd.option_context('display.max_colwidth', 10000):\n",
    "  \n",
    "  display(HTML(most_ratings[['original_title', 'img_html', 'ratings_count', 'average_rating' ]].to_html(escape=False)))"
   ]
  },
  {
   "cell_type": "code",
   "execution_count": 12,
   "id": "1e5fbc16",
   "metadata": {
    "execution": {
     "iopub.execute_input": "2022-04-11T15:12:13.079507Z",
     "iopub.status.busy": "2022-04-11T15:12:13.078773Z",
     "iopub.status.idle": "2022-04-11T15:12:13.104510Z",
     "shell.execute_reply": "2022-04-11T15:12:13.105074Z",
     "shell.execute_reply.started": "2022-04-11T14:43:47.332092Z"
    },
    "papermill": {
     "duration": 0.259502,
     "end_time": "2022-04-11T15:12:13.105252",
     "exception": false,
     "start_time": "2022-04-11T15:12:12.845750",
     "status": "completed"
    },
    "tags": []
   },
   "outputs": [
    {
     "data": {
      "text/html": [
       "<div>\n",
       "<style scoped>\n",
       "    .dataframe tbody tr th:only-of-type {\n",
       "        vertical-align: middle;\n",
       "    }\n",
       "\n",
       "    .dataframe tbody tr th {\n",
       "        vertical-align: top;\n",
       "    }\n",
       "\n",
       "    .dataframe thead th {\n",
       "        text-align: right;\n",
       "    }\n",
       "</style>\n",
       "<table border=\"1\" class=\"dataframe\">\n",
       "  <thead>\n",
       "    <tr style=\"text-align: right;\">\n",
       "      <th></th>\n",
       "      <th>id</th>\n",
       "      <th>book_id</th>\n",
       "      <th>best_book_id</th>\n",
       "      <th>work_id</th>\n",
       "      <th>books_count</th>\n",
       "      <th>isbn</th>\n",
       "      <th>isbn13</th>\n",
       "      <th>authors</th>\n",
       "      <th>original_publication_year</th>\n",
       "      <th>original_title</th>\n",
       "      <th>...</th>\n",
       "      <th>ratings_count</th>\n",
       "      <th>work_ratings_count</th>\n",
       "      <th>work_text_reviews_count</th>\n",
       "      <th>ratings_1</th>\n",
       "      <th>ratings_2</th>\n",
       "      <th>ratings_3</th>\n",
       "      <th>ratings_4</th>\n",
       "      <th>ratings_5</th>\n",
       "      <th>image_url</th>\n",
       "      <th>small_image_url</th>\n",
       "    </tr>\n",
       "  </thead>\n",
       "  <tbody>\n",
       "    <tr>\n",
       "      <th>0</th>\n",
       "      <td>1</td>\n",
       "      <td>2767052</td>\n",
       "      <td>2767052</td>\n",
       "      <td>2792775</td>\n",
       "      <td>272</td>\n",
       "      <td>439023483</td>\n",
       "      <td>9.780439e+12</td>\n",
       "      <td>Suzanne Collins</td>\n",
       "      <td>2008.0</td>\n",
       "      <td>The Hunger Games</td>\n",
       "      <td>...</td>\n",
       "      <td>4780653</td>\n",
       "      <td>4942365</td>\n",
       "      <td>155254</td>\n",
       "      <td>66715.0</td>\n",
       "      <td>127936</td>\n",
       "      <td>560092</td>\n",
       "      <td>1481305</td>\n",
       "      <td>2706317</td>\n",
       "      <td>https://images.gr-assets.com/books/1447303603m...</td>\n",
       "      <td>https://images.gr-assets.com/books/1447303603s...</td>\n",
       "    </tr>\n",
       "    <tr>\n",
       "      <th>1</th>\n",
       "      <td>2</td>\n",
       "      <td>3</td>\n",
       "      <td>3</td>\n",
       "      <td>4640799</td>\n",
       "      <td>491</td>\n",
       "      <td>439554934</td>\n",
       "      <td>9.780440e+12</td>\n",
       "      <td>J.K. Rowling, Mary GrandPré</td>\n",
       "      <td>1997.0</td>\n",
       "      <td>Harry Potter and the Philosopher's Stone</td>\n",
       "      <td>...</td>\n",
       "      <td>4602479</td>\n",
       "      <td>4800065</td>\n",
       "      <td>75867</td>\n",
       "      <td>75504.0</td>\n",
       "      <td>101676</td>\n",
       "      <td>455024</td>\n",
       "      <td>1156318</td>\n",
       "      <td>3011543</td>\n",
       "      <td>https://images.gr-assets.com/books/1474154022m...</td>\n",
       "      <td>https://images.gr-assets.com/books/1474154022s...</td>\n",
       "    </tr>\n",
       "    <tr>\n",
       "      <th>2</th>\n",
       "      <td>3</td>\n",
       "      <td>41865</td>\n",
       "      <td>41865</td>\n",
       "      <td>3212258</td>\n",
       "      <td>226</td>\n",
       "      <td>316015849</td>\n",
       "      <td>9.780316e+12</td>\n",
       "      <td>Stephenie Meyer</td>\n",
       "      <td>2005.0</td>\n",
       "      <td>Twilight</td>\n",
       "      <td>...</td>\n",
       "      <td>3866839</td>\n",
       "      <td>3916824</td>\n",
       "      <td>95009</td>\n",
       "      <td>456191.0</td>\n",
       "      <td>436802</td>\n",
       "      <td>793319</td>\n",
       "      <td>875073</td>\n",
       "      <td>1355439</td>\n",
       "      <td>https://images.gr-assets.com/books/1361039443m...</td>\n",
       "      <td>https://images.gr-assets.com/books/1361039443s...</td>\n",
       "    </tr>\n",
       "    <tr>\n",
       "      <th>3</th>\n",
       "      <td>4</td>\n",
       "      <td>2657</td>\n",
       "      <td>2657</td>\n",
       "      <td>3275794</td>\n",
       "      <td>487</td>\n",
       "      <td>61120081</td>\n",
       "      <td>9.780061e+12</td>\n",
       "      <td>Harper Lee</td>\n",
       "      <td>1960.0</td>\n",
       "      <td>To Kill a Mockingbird</td>\n",
       "      <td>...</td>\n",
       "      <td>3198671</td>\n",
       "      <td>3340896</td>\n",
       "      <td>72586</td>\n",
       "      <td>60427.0</td>\n",
       "      <td>117415</td>\n",
       "      <td>446835</td>\n",
       "      <td>1001952</td>\n",
       "      <td>1714267</td>\n",
       "      <td>https://images.gr-assets.com/books/1361975680m...</td>\n",
       "      <td>https://images.gr-assets.com/books/1361975680s...</td>\n",
       "    </tr>\n",
       "    <tr>\n",
       "      <th>4</th>\n",
       "      <td>5</td>\n",
       "      <td>4671</td>\n",
       "      <td>4671</td>\n",
       "      <td>245494</td>\n",
       "      <td>1356</td>\n",
       "      <td>743273567</td>\n",
       "      <td>9.780743e+12</td>\n",
       "      <td>F. Scott Fitzgerald</td>\n",
       "      <td>1925.0</td>\n",
       "      <td>The Great Gatsby</td>\n",
       "      <td>...</td>\n",
       "      <td>2683664</td>\n",
       "      <td>2773745</td>\n",
       "      <td>51992</td>\n",
       "      <td>86236.0</td>\n",
       "      <td>197621</td>\n",
       "      <td>606158</td>\n",
       "      <td>936012</td>\n",
       "      <td>947718</td>\n",
       "      <td>https://images.gr-assets.com/books/1490528560m...</td>\n",
       "      <td>https://images.gr-assets.com/books/1490528560s...</td>\n",
       "    </tr>\n",
       "  </tbody>\n",
       "</table>\n",
       "<p>5 rows × 23 columns</p>\n",
       "</div>"
      ],
      "text/plain": [
       "   id  book_id  best_book_id  work_id  books_count       isbn        isbn13  \\\n",
       "0   1  2767052       2767052  2792775          272  439023483  9.780439e+12   \n",
       "1   2        3             3  4640799          491  439554934  9.780440e+12   \n",
       "2   3    41865         41865  3212258          226  316015849  9.780316e+12   \n",
       "3   4     2657          2657  3275794          487   61120081  9.780061e+12   \n",
       "4   5     4671          4671   245494         1356  743273567  9.780743e+12   \n",
       "\n",
       "                       authors  original_publication_year  \\\n",
       "0              Suzanne Collins                     2008.0   \n",
       "1  J.K. Rowling, Mary GrandPré                     1997.0   \n",
       "2              Stephenie Meyer                     2005.0   \n",
       "3                   Harper Lee                     1960.0   \n",
       "4          F. Scott Fitzgerald                     1925.0   \n",
       "\n",
       "                             original_title  ... ratings_count  \\\n",
       "0                          The Hunger Games  ...       4780653   \n",
       "1  Harry Potter and the Philosopher's Stone  ...       4602479   \n",
       "2                                  Twilight  ...       3866839   \n",
       "3                     To Kill a Mockingbird  ...       3198671   \n",
       "4                          The Great Gatsby  ...       2683664   \n",
       "\n",
       "  work_ratings_count work_text_reviews_count  ratings_1 ratings_2 ratings_3  \\\n",
       "0            4942365                  155254    66715.0    127936    560092   \n",
       "1            4800065                   75867    75504.0    101676    455024   \n",
       "2            3916824                   95009   456191.0    436802    793319   \n",
       "3            3340896                   72586    60427.0    117415    446835   \n",
       "4            2773745                   51992    86236.0    197621    606158   \n",
       "\n",
       "   ratings_4  ratings_5                                          image_url  \\\n",
       "0    1481305    2706317  https://images.gr-assets.com/books/1447303603m...   \n",
       "1    1156318    3011543  https://images.gr-assets.com/books/1474154022m...   \n",
       "2     875073    1355439  https://images.gr-assets.com/books/1361039443m...   \n",
       "3    1001952    1714267  https://images.gr-assets.com/books/1361975680m...   \n",
       "4     936012     947718  https://images.gr-assets.com/books/1490528560m...   \n",
       "\n",
       "                                     small_image_url  \n",
       "0  https://images.gr-assets.com/books/1447303603s...  \n",
       "1  https://images.gr-assets.com/books/1474154022s...  \n",
       "2  https://images.gr-assets.com/books/1361039443s...  \n",
       "3  https://images.gr-assets.com/books/1361975680s...  \n",
       "4  https://images.gr-assets.com/books/1490528560s...  \n",
       "\n",
       "[5 rows x 23 columns]"
      ]
     },
     "execution_count": 12,
     "metadata": {},
     "output_type": "execute_result"
    }
   ],
   "source": [
    "books_df.head()"
   ]
  },
  {
   "cell_type": "code",
   "execution_count": 13,
   "id": "1882274b",
   "metadata": {
    "execution": {
     "iopub.execute_input": "2022-04-11T15:12:13.573306Z",
     "iopub.status.busy": "2022-04-11T15:12:13.572623Z",
     "iopub.status.idle": "2022-04-11T15:12:13.596588Z",
     "shell.execute_reply": "2022-04-11T15:12:13.597174Z",
     "shell.execute_reply.started": "2022-04-11T14:45:55.015160Z"
    },
    "papermill": {
     "duration": 0.26319,
     "end_time": "2022-04-11T15:12:13.597345",
     "exception": false,
     "start_time": "2022-04-11T15:12:13.334155",
     "status": "completed"
    },
    "tags": []
   },
   "outputs": [
    {
     "data": {
      "text/html": [
       "<div>\n",
       "<style scoped>\n",
       "    .dataframe tbody tr th:only-of-type {\n",
       "        vertical-align: middle;\n",
       "    }\n",
       "\n",
       "    .dataframe tbody tr th {\n",
       "        vertical-align: top;\n",
       "    }\n",
       "\n",
       "    .dataframe thead th {\n",
       "        text-align: right;\n",
       "    }\n",
       "</style>\n",
       "<table border=\"1\" class=\"dataframe\">\n",
       "  <thead>\n",
       "    <tr style=\"text-align: right;\">\n",
       "      <th></th>\n",
       "      <th>original_title</th>\n",
       "      <th>ratings_count</th>\n",
       "      <th>average_rating</th>\n",
       "    </tr>\n",
       "  </thead>\n",
       "  <tbody>\n",
       "    <tr>\n",
       "      <th>3627</th>\n",
       "      <td>The Complete Calvin and Hobbes</td>\n",
       "      <td>28900</td>\n",
       "      <td>4.82</td>\n",
       "    </tr>\n",
       "    <tr>\n",
       "      <th>861</th>\n",
       "      <td>Words of Radiance</td>\n",
       "      <td>73572</td>\n",
       "      <td>4.77</td>\n",
       "    </tr>\n",
       "    <tr>\n",
       "      <th>3274</th>\n",
       "      <td>None</td>\n",
       "      <td>33220</td>\n",
       "      <td>4.77</td>\n",
       "    </tr>\n",
       "    <tr>\n",
       "      <th>8853</th>\n",
       "      <td>Mark of the Lion Trilogy</td>\n",
       "      <td>9081</td>\n",
       "      <td>4.76</td>\n",
       "    </tr>\n",
       "    <tr>\n",
       "      <th>7946</th>\n",
       "      <td>None</td>\n",
       "      <td>8953</td>\n",
       "      <td>4.76</td>\n",
       "    </tr>\n",
       "    <tr>\n",
       "      <th>4482</th>\n",
       "      <td>It's a Magical World: A Calvin and Hobbes Coll...</td>\n",
       "      <td>22351</td>\n",
       "      <td>4.75</td>\n",
       "    </tr>\n",
       "    <tr>\n",
       "      <th>6360</th>\n",
       "      <td>There's Treasure Everywhere: A Calvin and Hobb...</td>\n",
       "      <td>16766</td>\n",
       "      <td>4.74</td>\n",
       "    </tr>\n",
       "    <tr>\n",
       "      <th>421</th>\n",
       "      <td>Complete Harry Potter Boxed Set</td>\n",
       "      <td>190050</td>\n",
       "      <td>4.74</td>\n",
       "    </tr>\n",
       "    <tr>\n",
       "      <th>6589</th>\n",
       "      <td>The Authoritative Calvin and Hobbes</td>\n",
       "      <td>16087</td>\n",
       "      <td>4.73</td>\n",
       "    </tr>\n",
       "    <tr>\n",
       "      <th>6919</th>\n",
       "      <td>The Indispensable Calvin and Hobbes: A Calvin ...</td>\n",
       "      <td>14597</td>\n",
       "      <td>4.73</td>\n",
       "    </tr>\n",
       "  </tbody>\n",
       "</table>\n",
       "</div>"
      ],
      "text/plain": [
       "                                         original_title  ratings_count  \\\n",
       "3627                     The Complete Calvin and Hobbes          28900   \n",
       "861                                   Words of Radiance          73572   \n",
       "3274                                               None          33220   \n",
       "8853                           Mark of the Lion Trilogy           9081   \n",
       "7946                                               None           8953   \n",
       "4482  It's a Magical World: A Calvin and Hobbes Coll...          22351   \n",
       "6360  There's Treasure Everywhere: A Calvin and Hobb...          16766   \n",
       "421                     Complete Harry Potter Boxed Set         190050   \n",
       "6589                The Authoritative Calvin and Hobbes          16087   \n",
       "6919  The Indispensable Calvin and Hobbes: A Calvin ...          14597   \n",
       "\n",
       "      average_rating  \n",
       "3627            4.82  \n",
       "861             4.77  \n",
       "3274            4.77  \n",
       "8853            4.76  \n",
       "7946            4.76  \n",
       "4482            4.75  \n",
       "6360            4.74  \n",
       "421             4.74  \n",
       "6589            4.73  \n",
       "6919            4.73  "
      ]
     },
     "execution_count": 13,
     "metadata": {},
     "output_type": "execute_result"
    }
   ],
   "source": [
    "books_df.average_rating = books_df.average_rating.astype('float')\n",
    "#Top books with top average ratings on goodbooks\n",
    "\n",
    "books_df.sort_values(by = 'average_rating', ascending = False)[['original_title','ratings_count', 'average_rating' ]][0:10]"
   ]
  },
  {
   "cell_type": "code",
   "execution_count": 14,
   "id": "bda0f3ad",
   "metadata": {
    "execution": {
     "iopub.execute_input": "2022-04-11T15:12:14.069721Z",
     "iopub.status.busy": "2022-04-11T15:12:14.069001Z",
     "iopub.status.idle": "2022-04-11T15:12:14.081543Z",
     "shell.execute_reply": "2022-04-11T15:12:14.082085Z",
     "shell.execute_reply.started": "2022-04-11T14:46:42.207851Z"
    },
    "papermill": {
     "duration": 0.252612,
     "end_time": "2022-04-11T15:12:14.082256",
     "exception": false,
     "start_time": "2022-04-11T15:12:13.829644",
     "status": "completed"
    },
    "tags": []
   },
   "outputs": [],
   "source": [
    "high_rating_books = books_df.sort_values(by = 'average_rating', ascending = False)[['original_title','ratings_count','image_url', 'average_rating' ]][0:10]"
   ]
  },
  {
   "cell_type": "code",
   "execution_count": 15,
   "id": "051c7f9c",
   "metadata": {
    "execution": {
     "iopub.execute_input": "2022-04-11T15:12:14.544897Z",
     "iopub.status.busy": "2022-04-11T15:12:14.544171Z",
     "iopub.status.idle": "2022-04-11T15:12:14.557931Z",
     "shell.execute_reply": "2022-04-11T15:12:14.557222Z",
     "shell.execute_reply.started": "2022-04-11T14:46:47.993495Z"
    },
    "papermill": {
     "duration": 0.247317,
     "end_time": "2022-04-11T15:12:14.558080",
     "exception": false,
     "start_time": "2022-04-11T15:12:14.310763",
     "status": "completed"
    },
    "tags": []
   },
   "outputs": [
    {
     "name": "stderr",
     "output_type": "stream",
     "text": [
      "/opt/conda/lib/python3.7/site-packages/ipykernel_launcher.py:4: FutureWarning: The default value of regex will change from True to False in a future version.\n",
      "  after removing the cwd from sys.path.\n"
     ]
    },
    {
     "data": {
      "text/html": [
       "<table border=\"1\" class=\"dataframe\">\n",
       "  <thead>\n",
       "    <tr style=\"text-align: right;\">\n",
       "      <th></th>\n",
       "      <th>original_title</th>\n",
       "      <th>img_html</th>\n",
       "      <th>ratings_count</th>\n",
       "      <th>average_rating</th>\n",
       "    </tr>\n",
       "  </thead>\n",
       "  <tbody>\n",
       "    <tr>\n",
       "      <th>3627</th>\n",
       "      <td>The Complete Calvin and Hobbes</td>\n",
       "      <td><img src=\"https://images.gr-assets.com/books/1473064526m/24812.jpg\" style=\"max-height:124px;\"></img><img src=\"\" style=\"max-height:124px;\"></img></td>\n",
       "      <td>28900</td>\n",
       "      <td>4.82</td>\n",
       "    </tr>\n",
       "    <tr>\n",
       "      <th>861</th>\n",
       "      <td>Words of Radiance</td>\n",
       "      <td><img src=\"https://images.gr-assets.com/books/1391535251m/17332218.jpg\" style=\"max-height:124px;\"></img><img src=\"\" style=\"max-height:124px;\"></img></td>\n",
       "      <td>73572</td>\n",
       "      <td>4.77</td>\n",
       "    </tr>\n",
       "    <tr>\n",
       "      <th>3274</th>\n",
       "      <td>None</td>\n",
       "      <td><img src=\"https://s.gr-assets.com/assets/nophoto/book/111x148-bcc042a9c91a29c1d680899eff700a03.png\" style=\"max-height:124px;\"></img><img src=\"\" style=\"max-height:124px;\"></img></td>\n",
       "      <td>33220</td>\n",
       "      <td>4.77</td>\n",
       "    </tr>\n",
       "    <tr>\n",
       "      <th>8853</th>\n",
       "      <td>Mark of the Lion Trilogy</td>\n",
       "      <td><img src=\"https://images.gr-assets.com/books/1349032180m/95602.jpg\" style=\"max-height:124px;\"></img><img src=\"\" style=\"max-height:124px;\"></img></td>\n",
       "      <td>9081</td>\n",
       "      <td>4.76</td>\n",
       "    </tr>\n",
       "    <tr>\n",
       "      <th>7946</th>\n",
       "      <td>None</td>\n",
       "      <td><img src=\"https://images.gr-assets.com/books/1410151002m/5031805.jpg\" style=\"max-height:124px;\"></img><img src=\"\" style=\"max-height:124px;\"></img></td>\n",
       "      <td>8953</td>\n",
       "      <td>4.76</td>\n",
       "    </tr>\n",
       "    <tr>\n",
       "      <th>4482</th>\n",
       "      <td>It's a Magical World: A Calvin and Hobbes Collection</td>\n",
       "      <td><img src=\"https://images.gr-assets.com/books/1437420710m/24814.jpg\" style=\"max-height:124px;\"></img><img src=\"\" style=\"max-height:124px;\"></img></td>\n",
       "      <td>22351</td>\n",
       "      <td>4.75</td>\n",
       "    </tr>\n",
       "    <tr>\n",
       "      <th>6360</th>\n",
       "      <td>There's Treasure Everywhere: A Calvin and Hobbes Collection</td>\n",
       "      <td><img src=\"https://s.gr-assets.com/assets/nophoto/book/111x148-bcc042a9c91a29c1d680899eff700a03.png\" style=\"max-height:124px;\"></img><img src=\"\" style=\"max-height:124px;\"></img></td>\n",
       "      <td>16766</td>\n",
       "      <td>4.74</td>\n",
       "    </tr>\n",
       "    <tr>\n",
       "      <th>421</th>\n",
       "      <td>Complete Harry Potter Boxed Set</td>\n",
       "      <td><img src=\"https://images.gr-assets.com/books/1392579059m/862041.jpg\" style=\"max-height:124px;\"></img><img src=\"\" style=\"max-height:124px;\"></img></td>\n",
       "      <td>190050</td>\n",
       "      <td>4.74</td>\n",
       "    </tr>\n",
       "    <tr>\n",
       "      <th>6589</th>\n",
       "      <td>The Authoritative Calvin and Hobbes</td>\n",
       "      <td><img src=\"https://images.gr-assets.com/books/1391114055m/59715.jpg\" style=\"max-height:124px;\"></img><img src=\"\" style=\"max-height:124px;\"></img></td>\n",
       "      <td>16087</td>\n",
       "      <td>4.73</td>\n",
       "    </tr>\n",
       "    <tr>\n",
       "      <th>6919</th>\n",
       "      <td>The Indispensable Calvin and Hobbes: A Calvin and Hobbes Treasury</td>\n",
       "      <td><img src=\"https://s.gr-assets.com/assets/nophoto/book/111x148-bcc042a9c91a29c1d680899eff700a03.png\" style=\"max-height:124px;\"></img><img src=\"\" style=\"max-height:124px;\"></img></td>\n",
       "      <td>14597</td>\n",
       "      <td>4.73</td>\n",
       "    </tr>\n",
       "  </tbody>\n",
       "</table>"
      ],
      "text/plain": [
       "<IPython.core.display.HTML object>"
      ]
     },
     "metadata": {},
     "output_type": "display_data"
    }
   ],
   "source": [
    "high_rating_books['img_html'] = high_rating_books['image_url']\\\n",
    "    .str.replace(\n",
    "        '(.*)', \n",
    "        '<img src=\"\\\\1\" style=\"max-height:124px;\"></img>'\n",
    "    )\n",
    "with pd.option_context('display.max_colwidth', 10000):\n",
    "  \n",
    "  display(HTML(high_rating_books[['original_title', 'img_html','ratings_count', 'average_rating' ]].to_html(escape=False)))"
   ]
  },
  {
   "cell_type": "code",
   "execution_count": 16,
   "id": "4d2d7ed0",
   "metadata": {
    "execution": {
     "iopub.execute_input": "2022-04-11T15:12:15.038835Z",
     "iopub.status.busy": "2022-04-11T15:12:15.038134Z",
     "iopub.status.idle": "2022-04-11T15:12:15.051329Z",
     "shell.execute_reply": "2022-04-11T15:12:15.050764Z",
     "shell.execute_reply.started": "2022-04-11T14:46:58.147326Z"
    },
    "papermill": {
     "duration": 0.260304,
     "end_time": "2022-04-11T15:12:15.051561",
     "exception": false,
     "start_time": "2022-04-11T15:12:14.791257",
     "status": "completed"
    },
    "tags": []
   },
   "outputs": [
    {
     "data": {
      "text/html": [
       "<div>\n",
       "<style scoped>\n",
       "    .dataframe tbody tr th:only-of-type {\n",
       "        vertical-align: middle;\n",
       "    }\n",
       "\n",
       "    .dataframe tbody tr th {\n",
       "        vertical-align: top;\n",
       "    }\n",
       "\n",
       "    .dataframe thead th {\n",
       "        text-align: right;\n",
       "    }\n",
       "</style>\n",
       "<table border=\"1\" class=\"dataframe\">\n",
       "  <thead>\n",
       "    <tr style=\"text-align: right;\">\n",
       "      <th></th>\n",
       "      <th>author</th>\n",
       "      <th>number_of_books</th>\n",
       "    </tr>\n",
       "  </thead>\n",
       "  <tbody>\n",
       "    <tr>\n",
       "      <th>0</th>\n",
       "      <td>Stephen King</td>\n",
       "      <td>60</td>\n",
       "    </tr>\n",
       "    <tr>\n",
       "      <th>1</th>\n",
       "      <td>Nora Roberts</td>\n",
       "      <td>59</td>\n",
       "    </tr>\n",
       "    <tr>\n",
       "      <th>2</th>\n",
       "      <td>Dean Koontz</td>\n",
       "      <td>47</td>\n",
       "    </tr>\n",
       "    <tr>\n",
       "      <th>3</th>\n",
       "      <td>Terry Pratchett</td>\n",
       "      <td>42</td>\n",
       "    </tr>\n",
       "    <tr>\n",
       "      <th>4</th>\n",
       "      <td>Agatha Christie</td>\n",
       "      <td>39</td>\n",
       "    </tr>\n",
       "    <tr>\n",
       "      <th>5</th>\n",
       "      <td>Meg Cabot</td>\n",
       "      <td>37</td>\n",
       "    </tr>\n",
       "    <tr>\n",
       "      <th>6</th>\n",
       "      <td>James Patterson</td>\n",
       "      <td>36</td>\n",
       "    </tr>\n",
       "    <tr>\n",
       "      <th>7</th>\n",
       "      <td>David Baldacci</td>\n",
       "      <td>34</td>\n",
       "    </tr>\n",
       "    <tr>\n",
       "      <th>8</th>\n",
       "      <td>J.D. Robb</td>\n",
       "      <td>33</td>\n",
       "    </tr>\n",
       "    <tr>\n",
       "      <th>9</th>\n",
       "      <td>John Grisham</td>\n",
       "      <td>33</td>\n",
       "    </tr>\n",
       "  </tbody>\n",
       "</table>\n",
       "</div>"
      ],
      "text/plain": [
       "            author  number_of_books\n",
       "0     Stephen King               60\n",
       "1     Nora Roberts               59\n",
       "2      Dean Koontz               47\n",
       "3  Terry Pratchett               42\n",
       "4  Agatha Christie               39\n",
       "5        Meg Cabot               37\n",
       "6  James Patterson               36\n",
       "7   David Baldacci               34\n",
       "8        J.D. Robb               33\n",
       "9     John Grisham               33"
      ]
     },
     "execution_count": 16,
     "metadata": {},
     "output_type": "execute_result"
    }
   ],
   "source": [
    "authors_with_most_books = pd.DataFrame(books_df.authors.value_counts()[0:10]).reset_index()\n",
    "authors_with_most_books.columns = ['author', 'number_of_books']\n",
    "authors_with_most_books"
   ]
  },
  {
   "cell_type": "code",
   "execution_count": 17,
   "id": "66d1f049",
   "metadata": {
    "execution": {
     "iopub.execute_input": "2022-04-11T15:12:15.540521Z",
     "iopub.status.busy": "2022-04-11T15:12:15.537144Z",
     "iopub.status.idle": "2022-04-11T15:12:16.134188Z",
     "shell.execute_reply": "2022-04-11T15:12:16.134914Z",
     "shell.execute_reply.started": "2022-04-11T14:47:01.267503Z"
    },
    "papermill": {
     "duration": 0.840186,
     "end_time": "2022-04-11T15:12:16.135170",
     "exception": false,
     "start_time": "2022-04-11T15:12:15.294984",
     "status": "completed"
    },
    "tags": []
   },
   "outputs": [
    {
     "name": "stdout",
     "output_type": "stream",
     "text": [
      "+-------+-------+------+\n",
      "|book_id|user_id|rating|\n",
      "+-------+-------+------+\n",
      "|      1|    314|     5|\n",
      "|      1|    439|     3|\n",
      "|      1|    588|     5|\n",
      "|      1|   1169|     4|\n",
      "|      1|   1185|     4|\n",
      "+-------+-------+------+\n",
      "only showing top 5 rows\n",
      "\n"
     ]
    },
    {
     "data": {
      "image/png": "[encoded data removed]",
      "text/plain": [
       "<Figure size 864x432 with 1 Axes>"
      ]
     },
     "metadata": {
      "needs_background": "light"
     },
     "output_type": "display_data"
    }
   ],
   "source": [
    "import matplotlib.pyplot as plt\n",
    "plt.figure(figsize=(12,6))\n",
    "plt.title('Distribution of Average Ratings')\n",
    "books_df['average_rating'].hist()\n",
    "display()\n",
    "ratings.show(5)"
   ]
  },
  {
   "cell_type": "code",
   "execution_count": 18,
   "id": "e2fd2fa3",
   "metadata": {
    "execution": {
     "iopub.execute_input": "2022-04-11T15:12:16.630606Z",
     "iopub.status.busy": "2022-04-11T15:12:16.629376Z",
     "iopub.status.idle": "2022-04-11T15:12:18.890609Z",
     "shell.execute_reply": "2022-04-11T15:12:18.891372Z",
     "shell.execute_reply.started": "2022-04-11T14:47:05.578108Z"
    },
    "papermill": {
     "duration": 2.501319,
     "end_time": "2022-04-11T15:12:18.891657",
     "exception": false,
     "start_time": "2022-04-11T15:12:16.390338",
     "status": "completed"
    },
    "tags": []
   },
   "outputs": [
    {
     "name": "stderr",
     "output_type": "stream",
     "text": [
      "[Stage 8:=======================================>                   (2 + 1) / 3]\r"
     ]
    },
    {
     "name": "stdout",
     "output_type": "stream",
     "text": [
      "+-------+-----------------+------------------+------------------+\n",
      "|summary|          book_id|           user_id|            rating|\n",
      "+-------+-----------------+------------------+------------------+\n",
      "|  count|           981756|            981756|            981756|\n",
      "|   mean|4943.275635697668|25616.759933221696|3.8565335989797873|\n",
      "| stddev|2873.207414896143|15228.338825882149|0.9839408559619973|\n",
      "|    min|                1|                 1|                 1|\n",
      "|    max|            10000|             53424|                 5|\n",
      "+-------+-----------------+------------------+------------------+\n",
      "\n"
     ]
    },
    {
     "name": "stderr",
     "output_type": "stream",
     "text": [
      "                                                                                \r"
     ]
    }
   ],
   "source": [
    "#1 million ratings\n",
    "\n",
    "ratings.describe().show()"
   ]
  },
  {
   "cell_type": "code",
   "execution_count": 19,
   "id": "879a395a",
   "metadata": {
    "execution": {
     "iopub.execute_input": "2022-04-11T15:12:19.454583Z",
     "iopub.status.busy": "2022-04-11T15:12:19.453520Z",
     "iopub.status.idle": "2022-04-11T15:12:21.806165Z",
     "shell.execute_reply": "2022-04-11T15:12:21.806946Z",
     "shell.execute_reply.started": "2022-04-11T14:47:14.666813Z"
    },
    "papermill": {
     "duration": 2.592133,
     "end_time": "2022-04-11T15:12:21.807202",
     "exception": false,
     "start_time": "2022-04-11T15:12:19.215069",
     "status": "completed"
    },
    "tags": []
   },
   "outputs": [
    {
     "name": "stderr",
     "output_type": "stream",
     "text": [
      "[Stage 11:>                                                         (0 + 3) / 3]\r"
     ]
    },
    {
     "name": "stdout",
     "output_type": "stream",
     "text": [
      "+-------+-----+\n",
      "|book_id|count|\n",
      "+-------+-----+\n",
      "|    148|  100|\n",
      "|    463|  100|\n",
      "|    471|  100|\n",
      "|    496|  100|\n",
      "|    833|  100|\n",
      "|   1088|  100|\n",
      "|   1238|  100|\n",
      "|   1342|  100|\n",
      "|   1580|  100|\n",
      "|   1591|  100|\n",
      "|   1645|  100|\n",
      "|   1829|  100|\n",
      "|   1959|  100|\n",
      "|   2122|  100|\n",
      "|   2142|  100|\n",
      "|   2366|  100|\n",
      "|   2659|  100|\n",
      "|   2866|  100|\n",
      "|   3175|  100|\n",
      "|    243|  100|\n",
      "+-------+-----+\n",
      "only showing top 20 rows\n",
      "\n"
     ]
    },
    {
     "name": "stderr",
     "output_type": "stream",
     "text": [
      "                                                                                \r"
     ]
    }
   ],
   "source": [
    "#Each book has 100 ratings in the ratingss dataframe\n",
    "\n",
    "ratings.groupby('book_id').count().show()"
   ]
  },
  {
   "cell_type": "markdown",
   "id": "0a57e51e",
   "metadata": {
    "execution": {
     "iopub.execute_input": "2022-04-11T14:51:46.905921Z",
     "iopub.status.busy": "2022-04-11T14:51:46.904903Z",
     "iopub.status.idle": "2022-04-11T14:51:46.914161Z",
     "shell.execute_reply": "2022-04-11T14:51:46.912911Z",
     "shell.execute_reply.started": "2022-04-11T14:51:46.905856Z"
    },
    "papermill": {
     "duration": 0.233294,
     "end_time": "2022-04-11T15:12:22.279118",
     "exception": false,
     "start_time": "2022-04-11T15:12:22.045824",
     "status": "completed"
    },
    "tags": []
   },
   "source": [
    "%sql\n",
    "\n",
    "SELECT b.original_title, r.book_id,count(*)  FROM ratings r inner join books b on b.book_id = r.book_id group by r.book_id, b.original_title having count(1)<10"
   ]
  },
  {
   "cell_type": "code",
   "execution_count": 20,
   "id": "ac848fc1",
   "metadata": {
    "execution": {
     "iopub.execute_input": "2022-04-11T15:12:22.752421Z",
     "iopub.status.busy": "2022-04-11T15:12:22.751362Z",
     "iopub.status.idle": "2022-04-11T15:12:22.899864Z",
     "shell.execute_reply": "2022-04-11T15:12:22.898507Z",
     "shell.execute_reply.started": "2022-04-11T14:52:32.949469Z"
    },
    "papermill": {
     "duration": 0.3883,
     "end_time": "2022-04-11T15:12:22.900114",
     "exception": false,
     "start_time": "2022-04-11T15:12:22.511814",
     "status": "completed"
    },
    "tags": []
   },
   "outputs": [
    {
     "name": "stdout",
     "output_type": "stream",
     "text": [
      "+-------+-------+------+\n",
      "|user_id|book_id|rating|\n",
      "+-------+-------+------+\n",
      "|    314|      1|   5.0|\n",
      "|    439|      1|   3.0|\n",
      "|    588|      1|   5.0|\n",
      "|   1169|      1|   4.0|\n",
      "|   1185|      1|   4.0|\n",
      "+-------+-------+------+\n",
      "only showing top 5 rows\n",
      "\n"
     ]
    }
   ],
   "source": [
    "ratings = ratings.select(ratings.user_id,\n",
    "                         ratings.book_id,\n",
    "                         ratings.rating.cast(\"double\"))\n",
    "ratings.show(5)"
   ]
  },
  {
   "cell_type": "code",
   "execution_count": 21,
   "id": "804846ac",
   "metadata": {
    "execution": {
     "iopub.execute_input": "2022-04-11T15:12:23.433989Z",
     "iopub.status.busy": "2022-04-11T15:12:23.430614Z",
     "iopub.status.idle": "2022-04-11T15:12:27.652240Z",
     "shell.execute_reply": "2022-04-11T15:12:27.653312Z",
     "shell.execute_reply.started": "2022-04-11T14:52:36.738041Z"
    },
    "papermill": {
     "duration": 4.457954,
     "end_time": "2022-04-11T15:12:27.653619",
     "exception": false,
     "start_time": "2022-04-11T15:12:23.195665",
     "status": "completed"
    },
    "tags": []
   },
   "outputs": [
    {
     "name": "stderr",
     "output_type": "stream",
     "text": [
      "[Stage 24:======================================>                   (2 + 1) / 3]\r"
     ]
    },
    {
     "name": "stdout",
     "output_type": "stream",
     "text": [
      "The ratings dataframe is  99.82% empty.\n"
     ]
    },
    {
     "name": "stderr",
     "output_type": "stream",
     "text": [
      "                                                                                \r"
     ]
    }
   ],
   "source": [
    "# Count the total number of ratings in the dataset\n",
    "numerator = ratings.select(\"rating\").count()\n",
    "\n",
    "# Count the number of distinct Id's\n",
    "num_users = ratings.select(\"user_id\").distinct().count()\n",
    "num_items = ratings.select(\"book_id\").distinct().count()\n",
    "\n",
    "# Set the denominator equal to the number of users multiplied by the number of items\n",
    "denominator = num_users * num_items\n",
    "\n",
    "# Divide the numerator by the denominator\n",
    "sparsity = (1.0 - (numerator * 1.0)/ denominator) * 100\n",
    "print(\"The ratings dataframe is \", \"%.2f\" % sparsity + \"% empty.\")"
   ]
  },
  {
   "cell_type": "code",
   "execution_count": 22,
   "id": "b1245bf9",
   "metadata": {
    "execution": {
     "iopub.execute_input": "2022-04-11T15:12:28.160460Z",
     "iopub.status.busy": "2022-04-11T15:12:28.159461Z",
     "iopub.status.idle": "2022-04-11T15:12:29.531962Z",
     "shell.execute_reply": "2022-04-11T15:12:29.531325Z",
     "shell.execute_reply.started": "2022-04-11T14:52:45.952440Z"
    },
    "papermill": {
     "duration": 1.623205,
     "end_time": "2022-04-11T15:12:29.532123",
     "exception": false,
     "start_time": "2022-04-11T15:12:27.908918",
     "status": "completed"
    },
    "tags": []
   },
   "outputs": [
    {
     "name": "stdout",
     "output_type": "stream",
     "text": [
      "Item with the fewest ratings: \n"
     ]
    },
    {
     "name": "stderr",
     "output_type": "stream",
     "text": [
      "[Stage 30:======================================>                   (2 + 1) / 3]\r"
     ]
    },
    {
     "name": "stdout",
     "output_type": "stream",
     "text": [
      "+-------+-----+\n",
      "|book_id|count|\n",
      "+-------+-----+\n",
      "|   7803|    8|\n",
      "|   9345|   11|\n",
      "|   9486|   24|\n",
      "|   1935|   34|\n",
      "|   9315|   36|\n",
      "|   9553|   41|\n",
      "|   8181|   44|\n",
      "|   9260|   46|\n",
      "|   9479|   47|\n",
      "|   9705|   48|\n",
      "+-------+-----+\n",
      "only showing top 10 rows\n",
      "\n"
     ]
    },
    {
     "name": "stderr",
     "output_type": "stream",
     "text": [
      "                                                                                \r"
     ]
    }
   ],
   "source": [
    "# Min num ratings \n",
    "print(\"Item with the fewest ratings: \")\n",
    "ratings.groupBy(\"book_id\").count().sort('count').show(10)"
   ]
  },
  {
   "cell_type": "code",
   "execution_count": 23,
   "id": "50d77b3e",
   "metadata": {
    "execution": {
     "iopub.execute_input": "2022-04-11T15:12:30.036963Z",
     "iopub.status.busy": "2022-04-11T15:12:30.035838Z",
     "iopub.status.idle": "2022-04-11T15:12:31.709911Z",
     "shell.execute_reply": "2022-04-11T15:12:31.709053Z",
     "shell.execute_reply.started": "2022-04-11T14:52:51.140951Z"
    },
    "papermill": {
     "duration": 1.931234,
     "end_time": "2022-04-11T15:12:31.710110",
     "exception": false,
     "start_time": "2022-04-11T15:12:29.778876",
     "status": "completed"
    },
    "tags": []
   },
   "outputs": [
    {
     "name": "stderr",
     "output_type": "stream",
     "text": [
      "[Stage 33:>                                                         (0 + 3) / 3]\r"
     ]
    },
    {
     "name": "stdout",
     "output_type": "stream",
     "text": [
      "+-------+-----+\n",
      "|user_id|count|\n",
      "+-------+-----+\n",
      "|  12874|  200|\n",
      "|  30944|  200|\n",
      "|  12381|  199|\n",
      "|  28158|  199|\n",
      "|  52036|  199|\n",
      "|  45554|  197|\n",
      "|  37834|  197|\n",
      "|   6630|  197|\n",
      "|  15604|  196|\n",
      "|  19729|  196|\n",
      "+-------+-----+\n",
      "only showing top 10 rows\n",
      "\n"
     ]
    },
    {
     "name": "stderr",
     "output_type": "stream",
     "text": [
      "                                                                                \r"
     ]
    }
   ],
   "source": [
    "# Group data by user_id, count ratings\n",
    "(ratings.groupBy(\"user_id\")\n",
    "    .count()\n",
    "    .filter(\"`count` >= 5\")\n",
    "    .orderBy('count', ascending=False)\n",
    "    .show(n = 10))"
   ]
  },
  {
   "cell_type": "code",
   "execution_count": 24,
   "id": "3e5c4a87",
   "metadata": {
    "execution": {
     "iopub.execute_input": "2022-04-11T15:12:32.286369Z",
     "iopub.status.busy": "2022-04-11T15:12:32.285646Z",
     "iopub.status.idle": "2022-04-11T15:12:33.780305Z",
     "shell.execute_reply": "2022-04-11T15:12:33.779470Z",
     "shell.execute_reply.started": "2022-04-11T14:52:56.712729Z"
    },
    "papermill": {
     "duration": 1.738833,
     "end_time": "2022-04-11T15:12:33.780522",
     "exception": false,
     "start_time": "2022-04-11T15:12:32.041689",
     "status": "completed"
    },
    "tags": []
   },
   "outputs": [
    {
     "name": "stderr",
     "output_type": "stream",
     "text": [
      "[Stage 36:>                                                         (0 + 3) / 3]\r"
     ]
    },
    {
     "name": "stdout",
     "output_type": "stream",
     "text": [
      "+-------+-----+\n",
      "|book_id|count|\n",
      "+-------+-----+\n",
      "|    148|  100|\n",
      "|    463|  100|\n",
      "|    471|  100|\n",
      "|    496|  100|\n",
      "|    833|  100|\n",
      "|   1088|  100|\n",
      "|   1238|  100|\n",
      "|   1342|  100|\n",
      "|   1580|  100|\n",
      "|   1591|  100|\n",
      "+-------+-----+\n",
      "only showing top 10 rows\n",
      "\n"
     ]
    },
    {
     "name": "stderr",
     "output_type": "stream",
     "text": [
      "                                                                                \r"
     ]
    }
   ],
   "source": [
    "(ratings.groupBy(\"book_id\")\n",
    "    .count()\n",
    "    .filter(\"`count` > 1\")\n",
    "    .orderBy('count', ascending=False)\n",
    "    .show(n = 10))"
   ]
  },
  {
   "cell_type": "code",
   "execution_count": 25,
   "id": "42aacc5e",
   "metadata": {
    "execution": {
     "iopub.execute_input": "2022-04-11T15:12:34.297824Z",
     "iopub.status.busy": "2022-04-11T15:12:34.296727Z",
     "iopub.status.idle": "2022-04-11T15:12:35.694836Z",
     "shell.execute_reply": "2022-04-11T15:12:35.695327Z",
     "shell.execute_reply.started": "2022-04-11T14:53:01.707227Z"
    },
    "papermill": {
     "duration": 1.645697,
     "end_time": "2022-04-11T15:12:35.695551",
     "exception": false,
     "start_time": "2022-04-11T15:12:34.049854",
     "status": "completed"
    },
    "tags": []
   },
   "outputs": [
    {
     "name": "stderr",
     "output_type": "stream",
     "text": [
      "[Stage 39:>                                                         (0 + 1) / 1]\r"
     ]
    },
    {
     "name": "stdout",
     "output_type": "stream",
     "text": [
      "+-------+-------+------+\n",
      "|user_id|book_id|rating|\n",
      "+-------+-------+------+\n",
      "|      7|    956|   5.0|\n",
      "|      7|   1620|   5.0|\n",
      "|      7|   1873|   4.0|\n",
      "|      7|   1969|   5.0|\n",
      "|      7|   2129|   5.0|\n",
      "+-------+-------+------+\n",
      "only showing top 5 rows\n",
      "\n"
     ]
    },
    {
     "name": "stderr",
     "output_type": "stream",
     "text": [
      "                                                                                \r"
     ]
    }
   ],
   "source": [
    "(training, test) = ratings.randomSplit([0.8, 0.2])\n",
    "test.show(5)"
   ]
  },
  {
   "cell_type": "code",
   "execution_count": 26,
   "id": "5ca82b7d",
   "metadata": {
    "execution": {
     "iopub.execute_input": "2022-04-11T15:12:36.186283Z",
     "iopub.status.busy": "2022-04-11T15:12:36.185269Z",
     "iopub.status.idle": "2022-04-11T15:12:36.265331Z",
     "shell.execute_reply": "2022-04-11T15:12:36.264736Z",
     "shell.execute_reply.started": "2022-04-11T14:53:06.531225Z"
    },
    "papermill": {
     "duration": 0.32747,
     "end_time": "2022-04-11T15:12:36.265507",
     "exception": false,
     "start_time": "2022-04-11T15:12:35.938037",
     "status": "completed"
    },
    "tags": []
   },
   "outputs": [],
   "source": [
    "from pyspark.ml.evaluation import RegressionEvaluator\n",
    "from pyspark.ml.recommendation import ALS\n",
    "from pyspark.sql import Row\n",
    "als = ALS( userCol=\"user_id\", itemCol=\"book_id\", ratingCol=\"rating\",\n",
    "          coldStartStrategy=\"drop\", nonnegative = True, implicitPrefs = False)"
   ]
  },
  {
   "cell_type": "code",
   "execution_count": 27,
   "id": "4998d5d8",
   "metadata": {
    "execution": {
     "iopub.execute_input": "2022-04-11T15:12:36.750070Z",
     "iopub.status.busy": "2022-04-11T15:12:36.749257Z",
     "iopub.status.idle": "2022-04-11T15:12:36.755807Z",
     "shell.execute_reply": "2022-04-11T15:12:36.756333Z",
     "shell.execute_reply.started": "2022-04-11T14:53:09.684059Z"
    },
    "papermill": {
     "duration": 0.251655,
     "end_time": "2022-04-11T15:12:36.756525",
     "exception": false,
     "start_time": "2022-04-11T15:12:36.504870",
     "status": "completed"
    },
    "tags": []
   },
   "outputs": [
    {
     "data": {
      "text/plain": [
       "pyspark.ml.recommendation.ALS"
      ]
     },
     "execution_count": 27,
     "metadata": {},
     "output_type": "execute_result"
    }
   ],
   "source": [
    "type(als)"
   ]
  },
  {
   "cell_type": "code",
   "execution_count": 28,
   "id": "07f497f7",
   "metadata": {
    "execution": {
     "iopub.execute_input": "2022-04-11T15:12:37.243124Z",
     "iopub.status.busy": "2022-04-11T15:12:37.242120Z",
     "iopub.status.idle": "2022-04-11T15:12:37.247651Z",
     "shell.execute_reply": "2022-04-11T15:12:37.248193Z",
     "shell.execute_reply.started": "2022-04-11T14:53:12.104833Z"
    },
    "papermill": {
     "duration": 0.251901,
     "end_time": "2022-04-11T15:12:37.248364",
     "exception": false,
     "start_time": "2022-04-11T15:12:36.996463",
     "status": "completed"
    },
    "tags": []
   },
   "outputs": [],
   "source": [
    "from pyspark.ml.tuning import ParamGridBuilder, CrossValidator \n",
    "\n",
    "param_grid = ParamGridBuilder() \\\n",
    "            .addGrid(als.rank, [10, 50, 75, 100]) \\\n",
    "            .addGrid(als.maxIter, [5, 50, 75, 100]) \\\n",
    "            .addGrid(als.regParam, [.01, .05, .1, .15]) \\\n",
    "            .build()"
   ]
  },
  {
   "cell_type": "code",
   "execution_count": 29,
   "id": "bbfe5109",
   "metadata": {
    "execution": {
     "iopub.execute_input": "2022-04-11T15:12:37.739630Z",
     "iopub.status.busy": "2022-04-11T15:12:37.738527Z",
     "iopub.status.idle": "2022-04-11T15:12:37.749546Z",
     "shell.execute_reply": "2022-04-11T15:12:37.749022Z",
     "shell.execute_reply.started": "2022-04-11T14:53:14.939157Z"
    },
    "papermill": {
     "duration": 0.257906,
     "end_time": "2022-04-11T15:12:37.749692",
     "exception": false,
     "start_time": "2022-04-11T15:12:37.491786",
     "status": "completed"
    },
    "tags": []
   },
   "outputs": [
    {
     "name": "stdout",
     "output_type": "stream",
     "text": [
      "Num models to be tested using param_grid:  64\n"
     ]
    }
   ],
   "source": [
    "# Define evaluator as RMSE\n",
    "evaluator = RegressionEvaluator(metricName = \"rmse\", \n",
    "                                labelCol = \"rating\", \n",
    "                                predictionCol = \"prediction\")\n",
    "# Print length of evaluator\n",
    "print (\"Num models to be tested using param_grid: \", len(param_grid))"
   ]
  },
  {
   "cell_type": "code",
   "execution_count": 30,
   "id": "06f50304",
   "metadata": {
    "execution": {
     "iopub.execute_input": "2022-04-11T15:12:38.240300Z",
     "iopub.status.busy": "2022-04-11T15:12:38.239637Z",
     "iopub.status.idle": "2022-04-11T15:12:38.242356Z",
     "shell.execute_reply": "2022-04-11T15:12:38.243072Z",
     "shell.execute_reply.started": "2022-04-11T14:53:17.314064Z"
    },
    "papermill": {
     "duration": 0.251158,
     "end_time": "2022-04-11T15:12:38.243292",
     "exception": false,
     "start_time": "2022-04-11T15:12:37.992134",
     "status": "completed"
    },
    "tags": []
   },
   "outputs": [
    {
     "name": "stdout",
     "output_type": "stream",
     "text": [
      "CrossValidator_c5d59d333529\n"
     ]
    }
   ],
   "source": [
    "# Build cross validation using CrossValidator\n",
    "cv = CrossValidator(estimator = als, \n",
    "                    estimatorParamMaps = param_grid, \n",
    "                    evaluator = evaluator, \n",
    "                    numFolds = 5)\n",
    "print(cv)"
   ]
  },
  {
   "cell_type": "code",
   "execution_count": 31,
   "id": "3df65e29",
   "metadata": {
    "execution": {
     "iopub.execute_input": "2022-04-11T15:12:38.731526Z",
     "iopub.status.busy": "2022-04-11T15:12:38.730534Z",
     "iopub.status.idle": "2022-04-11T15:13:16.602380Z",
     "shell.execute_reply": "2022-04-11T15:13:16.601542Z",
     "shell.execute_reply.started": "2022-04-11T14:53:20.735680Z"
    },
    "papermill": {
     "duration": 38.118027,
     "end_time": "2022-04-11T15:13:16.602624",
     "exception": false,
     "start_time": "2022-04-11T15:12:38.484597",
     "status": "completed"
    },
    "tags": []
   },
   "outputs": [
    {
     "name": "stderr",
     "output_type": "stream",
     "text": [
      "                                                                                \r"
     ]
    },
    {
     "name": "stdout",
     "output_type": "stream",
     "text": [
      "+-------+-------+------+----------+\n",
      "|user_id|book_id|rating|prediction|\n",
      "+-------+-------+------+----------+\n",
      "|    148|   2334|   4.0| 3.7462537|\n",
      "|    148|   2700|   4.0|  3.185718|\n",
      "|   1088|     94|   4.0| 4.4503756|\n",
      "|   1088|    110|   4.0| 3.8567455|\n",
      "|   1088|    188|   4.0| 3.7929378|\n",
      "|   1088|    197|   2.0| 2.5686135|\n",
      "|   1088|    228|   2.0| 2.5240974|\n",
      "|   1088|    231|   3.0| 3.5306485|\n",
      "|   1088|    237|   2.0| 3.3762357|\n",
      "|   1088|    268|   2.0| 3.5801044|\n",
      "+-------+-------+------+----------+\n",
      "only showing top 10 rows\n",
      "\n"
     ]
    }
   ],
   "source": [
    "model = als.fit(training)\n",
    "predictions = model.transform(test)\n",
    "predictions.show(n = 10)"
   ]
  },
  {
   "cell_type": "code",
   "execution_count": 32,
   "id": "49e80f4f",
   "metadata": {
    "execution": {
     "iopub.execute_input": "2022-04-11T15:13:17.155274Z",
     "iopub.status.busy": "2022-04-11T15:13:17.154157Z",
     "iopub.status.idle": "2022-04-11T15:13:19.783659Z",
     "shell.execute_reply": "2022-04-11T15:13:19.781737Z",
     "shell.execute_reply.started": "2022-04-11T15:00:22.558597Z"
    },
    "papermill": {
     "duration": 2.898849,
     "end_time": "2022-04-11T15:13:19.783897",
     "exception": false,
     "start_time": "2022-04-11T15:13:16.885048",
     "status": "completed"
    },
    "tags": []
   },
   "outputs": [
    {
     "name": "stderr",
     "output_type": "stream",
     "text": [
      "                                                                                \r"
     ]
    },
    {
     "data": {
      "text/plain": [
       "Row(user_id=148, book_id=2334, rating=4.0, prediction=3.746253728866577)"
      ]
     },
     "execution_count": 32,
     "metadata": {},
     "output_type": "execute_result"
    }
   ],
   "source": [
    "predictions.createOrReplaceTempView(\"predictions\")\n",
    "predictions.head()"
   ]
  },
  {
   "cell_type": "markdown",
   "id": "b3772f9a",
   "metadata": {
    "execution": {
     "iopub.execute_input": "2022-04-11T14:59:41.106394Z",
     "iopub.status.busy": "2022-04-11T14:59:41.106017Z",
     "iopub.status.idle": "2022-04-11T14:59:41.114903Z",
     "shell.execute_reply": "2022-04-11T14:59:41.112802Z",
     "shell.execute_reply.started": "2022-04-11T14:59:41.106356Z"
    },
    "papermill": {
     "duration": 0.27595,
     "end_time": "2022-04-11T15:13:20.357190",
     "exception": false,
     "start_time": "2022-04-11T15:13:20.081240",
     "status": "completed"
    },
    "tags": []
   },
   "source": [
    "predictions.createOrReplaceTempView(\"predictions\")\n",
    "%sql\n",
    "select * from predictions"
   ]
  },
  {
   "cell_type": "markdown",
   "id": "8e7a1c10",
   "metadata": {
    "execution": {
     "iopub.execute_input": "2022-04-11T15:02:53.918674Z",
     "iopub.status.busy": "2022-04-11T15:02:53.918294Z",
     "iopub.status.idle": "2022-04-11T15:02:53.930236Z",
     "shell.execute_reply": "2022-04-11T15:02:53.928953Z",
     "shell.execute_reply.started": "2022-04-11T15:02:53.918637Z"
    },
    "papermill": {
     "duration": 0.262632,
     "end_time": "2022-04-11T15:13:20.882925",
     "exception": false,
     "start_time": "2022-04-11T15:13:20.620293",
     "status": "completed"
    },
    "tags": []
   },
   "source": [
    "%sql\n",
    "select predictions.user_id, predictions.book_id, predictions.rating, predictions.prediction, books.title from \n",
    "predictions inner join books \n",
    "ON predictions.book_id = books.id"
   ]
  },
  {
   "cell_type": "code",
   "execution_count": 33,
   "id": "be6586b1",
   "metadata": {
    "execution": {
     "iopub.execute_input": "2022-04-11T15:13:21.415892Z",
     "iopub.status.busy": "2022-04-11T15:13:21.414852Z",
     "iopub.status.idle": "2022-04-11T15:13:25.080344Z",
     "shell.execute_reply": "2022-04-11T15:13:25.079677Z",
     "shell.execute_reply.started": "2022-04-11T15:03:02.982459Z"
    },
    "papermill": {
     "duration": 3.934389,
     "end_time": "2022-04-11T15:13:25.080544",
     "exception": false,
     "start_time": "2022-04-11T15:13:21.146155",
     "status": "completed"
    },
    "tags": []
   },
   "outputs": [
    {
     "name": "stderr",
     "output_type": "stream",
     "text": [
      "[Stage 192:>                                                        (0 + 1) / 1]\r"
     ]
    },
    {
     "name": "stdout",
     "output_type": "stream",
     "text": [
      "Root-mean-square error = 0.9181826598617502\n"
     ]
    },
    {
     "name": "stderr",
     "output_type": "stream",
     "text": [
      "                                                                                \r"
     ]
    }
   ],
   "source": [
    "rmse = evaluator.evaluate(predictions)\n",
    "print(\"Root-mean-square error = \" + str(rmse))"
   ]
  },
  {
   "cell_type": "code",
   "execution_count": 34,
   "id": "94af0490",
   "metadata": {
    "execution": {
     "iopub.execute_input": "2022-04-11T15:13:25.631470Z",
     "iopub.status.busy": "2022-04-11T15:13:25.630412Z",
     "iopub.status.idle": "2022-04-11T15:13:26.098188Z",
     "shell.execute_reply": "2022-04-11T15:13:26.099132Z",
     "shell.execute_reply.started": "2022-04-11T15:03:10.620785Z"
    },
    "papermill": {
     "duration": 0.744833,
     "end_time": "2022-04-11T15:13:26.099398",
     "exception": false,
     "start_time": "2022-04-11T15:13:25.354565",
     "status": "completed"
    },
    "tags": []
   },
   "outputs": [
    {
     "name": "stderr",
     "output_type": "stream",
     "text": [
      "/opt/conda/lib/python3.7/site-packages/pyspark/sql/context.py:127: FutureWarning: Deprecated in 3.0.0. Use SparkSession.builder.getOrCreate() instead.\n",
      "  FutureWarning\n"
     ]
    }
   ],
   "source": [
    "# Generate n recommendations for all users\n",
    "ALS_recommendations = model.recommendForAllUsers(numItems = 10) # n - 10"
   ]
  },
  {
   "cell_type": "code",
   "execution_count": 35,
   "id": "c6045abe",
   "metadata": {
    "execution": {
     "iopub.execute_input": "2022-04-11T15:13:26.668846Z",
     "iopub.status.busy": "2022-04-11T15:13:26.667763Z",
     "iopub.status.idle": "2022-04-11T15:13:51.699491Z",
     "shell.execute_reply": "2022-04-11T15:13:51.698579Z",
     "shell.execute_reply.started": "2022-04-11T15:03:28.018294Z"
    },
    "papermill": {
     "duration": 25.312908,
     "end_time": "2022-04-11T15:13:51.699719",
     "exception": false,
     "start_time": "2022-04-11T15:13:26.386811",
     "status": "completed"
    },
    "tags": []
   },
   "outputs": [
    {
     "name": "stderr",
     "output_type": "stream",
     "text": [
      "[Stage 216:====================================================> (98 + 2) / 100]\r"
     ]
    },
    {
     "name": "stdout",
     "output_type": "stream",
     "text": [
      "+-------+--------------------+\n",
      "|user_id|     recommendations|\n",
      "+-------+--------------------+\n",
      "|      1|[{4154, 4.394998}...|\n",
      "|      6|[{2840, 4.4206657...|\n",
      "|     13|[{6590, 4.381621}...|\n",
      "|     16|[{4868, 4.556119}...|\n",
      "|     22|[{6928, 4.5455503...|\n",
      "|     26|[{8616, 4.3663516...|\n",
      "|     27|[{6590, 4.792485}...|\n",
      "|     28|[{8976, 4.5465574...|\n",
      "|     31|[{2840, 4.082802}...|\n",
      "|     34|[{7254, 3.359406}...|\n",
      "+-------+--------------------+\n",
      "only showing top 10 rows\n",
      "\n"
     ]
    },
    {
     "name": "stderr",
     "output_type": "stream",
     "text": [
      "                                                                                \r"
     ]
    }
   ],
   "source": [
    "ALS_recommendations.show(n = 10)"
   ]
  },
  {
   "cell_type": "code",
   "execution_count": 36,
   "id": "1a986aee",
   "metadata": {
    "execution": {
     "iopub.execute_input": "2022-04-11T15:13:52.298680Z",
     "iopub.status.busy": "2022-04-11T15:13:52.296853Z",
     "iopub.status.idle": "2022-04-11T15:14:12.473467Z",
     "shell.execute_reply": "2022-04-11T15:14:12.472914Z",
     "shell.execute_reply.started": "2022-04-11T15:04:01.295738Z"
    },
    "papermill": {
     "duration": 20.471099,
     "end_time": "2022-04-11T15:14:12.473724",
     "exception": false,
     "start_time": "2022-04-11T15:13:52.002625",
     "status": "completed"
    },
    "tags": []
   },
   "outputs": [
    {
     "name": "stderr",
     "output_type": "stream",
     "text": [
      "/opt/conda/lib/python3.7/site-packages/pyspark/sql/dataframe.py:140: FutureWarning: Deprecated in 2.0, use createOrReplaceTempView instead.\n",
      "  FutureWarning\n",
      "[Stage 265:====================================================> (98 + 2) / 100]\r"
     ]
    },
    {
     "name": "stdout",
     "output_type": "stream",
     "text": [
      "+-------+-------+----------+\n",
      "|user_id|book_id|prediction|\n",
      "+-------+-------+----------+\n",
      "|      1|   4154|  4.394998|\n",
      "|      1|   4868|  4.310389|\n",
      "|      1|   1338| 4.2751117|\n",
      "|      1|   8521|  4.239498|\n",
      "|      1|   4750|  4.225227|\n",
      "|      1|   9842|  4.188964|\n",
      "|      1|   5919| 4.1828556|\n",
      "|      1|   7063|  4.163772|\n",
      "|      1|   3093| 4.1505466|\n",
      "|      1|   2151|  4.142167|\n",
      "|      6|   2840| 4.4206657|\n",
      "|      6|   4868| 4.3392906|\n",
      "|      6|   9076|  4.297622|\n",
      "|      6|   4336| 4.2480836|\n",
      "|      6|   1265| 4.2471375|\n",
      "|      6|   9222| 4.2438064|\n",
      "|      6|   2149|  4.239881|\n",
      "|      6|   2527|  4.236942|\n",
      "|      6|   2831| 4.2348995|\n",
      "|      6|   9569| 4.2321076|\n",
      "+-------+-------+----------+\n",
      "only showing top 20 rows\n",
      "\n"
     ]
    },
    {
     "name": "stderr",
     "output_type": "stream",
     "text": [
      "                                                                                \r"
     ]
    }
   ],
   "source": [
    "# Temporary table\n",
    "ALS_recommendations.registerTempTable(\"ALS_recs_temp\")\n",
    "clean_recs = spark.sql(\"\"\"SELECT user_id,\n",
    "                            movieIds_and_ratings.book_id AS book_id,\n",
    "                            movieIds_and_ratings.rating AS prediction\n",
    "                        FROM ALS_recs_temp\n",
    "                        LATERAL VIEW explode(recommendations) exploded_table\n",
    "                            AS movieIds_and_ratings\"\"\")\n",
    "clean_recs.show()"
   ]
  },
  {
   "cell_type": "code",
   "execution_count": 37,
   "id": "4f47047d",
   "metadata": {
    "execution": {
     "iopub.execute_input": "2022-04-11T15:14:13.077585Z",
     "iopub.status.busy": "2022-04-11T15:14:13.076850Z",
     "iopub.status.idle": "2022-04-11T15:14:38.796098Z",
     "shell.execute_reply": "2022-04-11T15:14:38.795103Z",
     "shell.execute_reply.started": "2022-04-11T15:04:29.171549Z"
    },
    "papermill": {
     "duration": 26.022403,
     "end_time": "2022-04-11T15:14:38.796336",
     "exception": false,
     "start_time": "2022-04-11T15:14:12.773933",
     "status": "completed"
    },
    "tags": []
   },
   "outputs": [
    {
     "name": "stderr",
     "output_type": "stream",
     "text": [
      "[Stage 340:==========================================>              (3 + 1) / 4]\r"
     ]
    },
    {
     "name": "stdout",
     "output_type": "stream",
     "text": [
      "+-------+-------+----------+------+\n",
      "|user_id|book_id|prediction|rating|\n",
      "+-------+-------+----------+------+\n",
      "|      1|   1338| 4.2751117|  null|\n",
      "|      1|   4154|  4.394998|  null|\n",
      "|      1|   4750|  4.225227|  null|\n",
      "|      2|   4346| 4.7603173|  null|\n",
      "|      2|   8663|  4.894432|  null|\n",
      "|      4|    635|  5.385114|  null|\n",
      "|      4|   6392|  5.407191|  null|\n",
      "|      4|   8337|  5.395429|  null|\n",
      "|      5|   7063| 4.7881355|  null|\n",
      "|      6|   1265| 4.2471375|  null|\n",
      "|      6|   2149|  4.239881|  null|\n",
      "|      6|   2840| 4.4206657|  null|\n",
      "|      7|   1788|  4.612254|  null|\n",
      "|      7|   9209| 4.6826725|  null|\n",
      "|      8|     28|  4.994852|  null|\n",
      "|      8|   4765|  5.216422|  null|\n",
      "|      8|   6089|  5.096838|  null|\n",
      "|      8|   9716| 5.0250697|  null|\n",
      "|     10|   4721| 5.0159583|  null|\n",
      "|     10|   6220|  5.035681|  null|\n",
      "+-------+-------+----------+------+\n",
      "only showing top 20 rows\n",
      "\n"
     ]
    },
    {
     "name": "stderr",
     "output_type": "stream",
     "text": [
      "                                                                                \r"
     ]
    }
   ],
   "source": [
    "# Recommendations for unread books\n",
    "(clean_recs.join(ratings, [\"user_id\", \"book_id\"], \"left\")\n",
    "    .filter(ratings.rating.isNull()).show())"
   ]
  },
  {
   "cell_type": "code",
   "execution_count": 38,
   "id": "bd4be761",
   "metadata": {
    "execution": {
     "iopub.execute_input": "2022-04-11T15:14:39.448969Z",
     "iopub.status.busy": "2022-04-11T15:14:39.448233Z",
     "iopub.status.idle": "2022-04-11T15:15:05.202003Z",
     "shell.execute_reply": "2022-04-11T15:15:05.202814Z",
     "shell.execute_reply.started": "2022-04-11T15:05:21.480161Z"
    },
    "papermill": {
     "duration": 26.075227,
     "end_time": "2022-04-11T15:15:05.203095",
     "exception": false,
     "start_time": "2022-04-11T15:14:39.127868",
     "status": "completed"
    },
    "tags": []
   },
   "outputs": [
    {
     "name": "stderr",
     "output_type": "stream",
     "text": [
      "[Stage 444:>                                                        (0 + 4) / 4]\r"
     ]
    },
    {
     "name": "stdout",
     "output_type": "stream",
     "text": [
      "521618\n"
     ]
    },
    {
     "name": "stderr",
     "output_type": "stream",
     "text": [
      "                                                                                \r"
     ]
    }
   ],
   "source": [
    "new_books = (clean_recs.join(ratings, [\"user_id\", \"book_id\"], \"left\")\n",
    "    .filter(ratings.rating.isNull()))\n",
    "print(new_books.count())"
   ]
  },
  {
   "cell_type": "code",
   "execution_count": 39,
   "id": "ba11267c",
   "metadata": {
    "execution": {
     "iopub.execute_input": "2022-04-11T15:15:05.880046Z",
     "iopub.status.busy": "2022-04-11T15:15:05.879307Z",
     "iopub.status.idle": "2022-04-11T15:15:29.964475Z",
     "shell.execute_reply": "2022-04-11T15:15:29.963781Z",
     "shell.execute_reply.started": "2022-04-11T15:05:54.152113Z"
    },
    "papermill": {
     "duration": 24.419073,
     "end_time": "2022-04-11T15:15:29.964631",
     "exception": false,
     "start_time": "2022-04-11T15:15:05.545558",
     "status": "completed"
    },
    "tags": []
   },
   "outputs": [
    {
     "name": "stderr",
     "output_type": "stream",
     "text": [
      "[Stage 522:============================>                            (2 + 2) / 4]\r"
     ]
    },
    {
     "name": "stdout",
     "output_type": "stream",
     "text": [
      "+-------+-------+----------+------+\n",
      "|user_id|book_id|prediction|rating|\n",
      "+-------+-------+----------+------+\n",
      "|      1|   1338| 4.2751117|  null|\n",
      "|      1|   4154|  4.394998|  null|\n",
      "|      1|   4750|  4.225227|  null|\n",
      "|      2|   4346| 4.7603173|  null|\n",
      "|      2|   8663|  4.894432|  null|\n",
      "+-------+-------+----------+------+\n",
      "only showing top 5 rows\n",
      "\n"
     ]
    },
    {
     "name": "stderr",
     "output_type": "stream",
     "text": [
      "                                                                                \r"
     ]
    }
   ],
   "source": [
    "new_books.show(5)"
   ]
  },
  {
   "cell_type": "code",
   "execution_count": 40,
   "id": "0a2e37c8",
   "metadata": {
    "execution": {
     "iopub.execute_input": "2022-04-11T15:15:30.677833Z",
     "iopub.status.busy": "2022-04-11T15:15:30.677146Z",
     "iopub.status.idle": "2022-04-11T15:15:30.775797Z",
     "shell.execute_reply": "2022-04-11T15:15:30.777224Z",
     "shell.execute_reply.started": "2022-04-11T15:06:23.548541Z"
    },
    "papermill": {
     "duration": 0.468528,
     "end_time": "2022-04-11T15:15:30.777483",
     "exception": false,
     "start_time": "2022-04-11T15:15:30.308955",
     "status": "completed"
    },
    "tags": []
   },
   "outputs": [
    {
     "name": "stdout",
     "output_type": "stream",
     "text": [
      "+-------+-------+\n",
      "|user_id|book_id|\n",
      "+-------+-------+\n",
      "|      1|    112|\n",
      "|      1|    235|\n",
      "|      1|    533|\n",
      "|      1|   1198|\n",
      "|      1|   1874|\n",
      "+-------+-------+\n",
      "only showing top 5 rows\n",
      "\n"
     ]
    }
   ],
   "source": [
    "to_read.show(5)"
   ]
  },
  {
   "cell_type": "code",
   "execution_count": 41,
   "id": "b09a6838",
   "metadata": {
    "execution": {
     "iopub.execute_input": "2022-04-11T15:15:31.474977Z",
     "iopub.status.busy": "2022-04-11T15:15:31.474237Z",
     "iopub.status.idle": "2022-04-11T15:15:56.306062Z",
     "shell.execute_reply": "2022-04-11T15:15:56.305009Z",
     "shell.execute_reply.started": "2022-04-11T15:06:30.947980Z"
    },
    "papermill": {
     "duration": 25.179484,
     "end_time": "2022-04-11T15:15:56.306344",
     "exception": false,
     "start_time": "2022-04-11T15:15:31.126860",
     "status": "completed"
    },
    "tags": []
   },
   "outputs": [
    {
     "name": "stderr",
     "output_type": "stream",
     "text": [
      "[Stage 627:>                                                        (0 + 4) / 4]\r"
     ]
    },
    {
     "name": "stdout",
     "output_type": "stream",
     "text": [
      "521618\n"
     ]
    },
    {
     "name": "stderr",
     "output_type": "stream",
     "text": [
      "                                                                                \r"
     ]
    }
   ],
   "source": [
    "# Create Temporary Tables\n",
    "new_books.createOrReplaceTempView(\"new_books\")\n",
    "print(new_books.count())"
   ]
  },
  {
   "cell_type": "code",
   "execution_count": 42,
   "id": "2d96df5a",
   "metadata": {
    "execution": {
     "iopub.execute_input": "2022-04-11T15:15:57.038461Z",
     "iopub.status.busy": "2022-04-11T15:15:57.037705Z",
     "iopub.status.idle": "2022-04-11T15:15:57.507386Z",
     "shell.execute_reply": "2022-04-11T15:15:57.508019Z",
     "shell.execute_reply.started": "2022-04-11T15:07:34.081452Z"
    },
    "papermill": {
     "duration": 0.83532,
     "end_time": "2022-04-11T15:15:57.508209",
     "exception": false,
     "start_time": "2022-04-11T15:15:56.672889",
     "status": "completed"
    },
    "tags": []
   },
   "outputs": [
    {
     "name": "stdout",
     "output_type": "stream",
     "text": [
      "912705\n"
     ]
    }
   ],
   "source": [
    "print(to_read.count())"
   ]
  },
  {
   "cell_type": "code",
   "execution_count": 43,
   "id": "3197b9d2",
   "metadata": {
    "execution": {
     "iopub.execute_input": "2022-04-11T15:15:58.235830Z",
     "iopub.status.busy": "2022-04-11T15:15:58.233634Z",
     "iopub.status.idle": "2022-04-11T15:16:23.607427Z",
     "shell.execute_reply": "2022-04-11T15:16:23.606523Z",
     "shell.execute_reply.started": "2022-04-11T15:07:39.676656Z"
    },
    "papermill": {
     "duration": 25.740164,
     "end_time": "2022-04-11T15:16:23.607726",
     "exception": false,
     "start_time": "2022-04-11T15:15:57.867562",
     "status": "completed"
    },
    "tags": []
   },
   "outputs": [
    {
     "name": "stderr",
     "output_type": "stream",
     "text": [
      "[Stage 709:==========================================>              (3 + 1) / 4]\r"
     ]
    },
    {
     "name": "stdout",
     "output_type": "stream",
     "text": [
      "+-------+-------+----------+------+\n",
      "|user_id|book_id|prediction|rating|\n",
      "+-------+-------+----------+------+\n",
      "|    162|   3586| 3.9156423|  null|\n",
      "|    305|   7401|  3.368175|  null|\n",
      "|    438|    143| 3.8858554|  null|\n",
      "|   1147|   5276| 3.5514288|  null|\n",
      "|   1266|   2840| 4.4482207|  null|\n",
      "|   1827|   3491| 4.5974245|  null|\n",
      "|   1959|   3491|  3.452016|  null|\n",
      "|   2122|   1146| 3.7598944|  null|\n",
      "|   2129|   4256|  4.665878|  null|\n",
      "|   2312|   1471| 5.0848017|  null|\n",
      "|   3391|   1265| 3.1481571|  null|\n",
      "|   4062|   9222| 4.2084765|  null|\n",
      "|   4400|   4868| 4.9333487|  null|\n",
      "|   4520|   4344| 3.8911712|  null|\n",
      "|   4804|    192| 4.1170177|  null|\n",
      "|   5083|   2844|  4.176055|  null|\n",
      "|   5083|   7305| 4.2788925|  null|\n",
      "|   5800|    481| 5.1571956|  null|\n",
      "|   7112|    717| 3.9358373|  null|\n",
      "|   7375|   2590| 4.8764005|  null|\n",
      "+-------+-------+----------+------+\n",
      "only showing top 20 rows\n",
      "\n",
      "None\n"
     ]
    },
    {
     "name": "stderr",
     "output_type": "stream",
     "text": [
      "                                                                                \r"
     ]
    }
   ],
   "source": [
    "# Create Temporary Tables\n",
    "to_read.createOrReplaceTempView(\"to_read\")\n",
    "recommendations = new_books.join(to_read,\n",
    "                              on = [\"user_id\", \"book_id\"], \n",
    "                              how = \"inner\")\n",
    "print(recommendations.show())"
   ]
  },
  {
   "cell_type": "code",
   "execution_count": 44,
   "id": "59a8bfdb",
   "metadata": {
    "execution": {
     "iopub.execute_input": "2022-04-11T15:16:24.369036Z",
     "iopub.status.busy": "2022-04-11T15:16:24.368264Z",
     "iopub.status.idle": "2022-04-11T15:16:50.536243Z",
     "shell.execute_reply": "2022-04-11T15:16:50.536933Z",
     "shell.execute_reply.started": "2022-04-11T15:08:11.547356Z"
    },
    "papermill": {
     "duration": 26.553027,
     "end_time": "2022-04-11T15:16:50.537152",
     "exception": false,
     "start_time": "2022-04-11T15:16:23.984125",
     "status": "completed"
    },
    "tags": []
   },
   "outputs": [
    {
     "name": "stderr",
     "output_type": "stream",
     "text": [
      "[Stage 814:>                                                        (0 + 4) / 4]\r"
     ]
    },
    {
     "name": "stdout",
     "output_type": "stream",
     "text": [
      "694\n"
     ]
    },
    {
     "name": "stderr",
     "output_type": "stream",
     "text": [
      "                                                                                \r"
     ]
    }
   ],
   "source": [
    "print(recommendations.count())"
   ]
  },
  {
   "cell_type": "code",
   "execution_count": 45,
   "id": "d5129e35",
   "metadata": {
    "execution": {
     "iopub.execute_input": "2022-04-11T15:16:51.315321Z",
     "iopub.status.busy": "2022-04-11T15:16:51.314641Z",
     "iopub.status.idle": "2022-04-11T15:17:17.738250Z",
     "shell.execute_reply": "2022-04-11T15:17:17.739124Z",
     "shell.execute_reply.started": "2022-04-11T15:08:44.260123Z"
    },
    "papermill": {
     "duration": 26.817153,
     "end_time": "2022-04-11T15:17:17.739393",
     "exception": false,
     "start_time": "2022-04-11T15:16:50.922240",
     "status": "completed"
    },
    "tags": []
   },
   "outputs": [
    {
     "name": "stderr",
     "output_type": "stream",
     "text": [
      "[Stage 920:==========================================>              (3 + 1) / 4]\r"
     ]
    },
    {
     "name": "stdout",
     "output_type": "stream",
     "text": [
      "+----------+-----+\n",
      "|pred_trunc|count|\n",
      "+----------+-----+\n",
      "|         1|    2|\n",
      "|         2|   15|\n",
      "|         3|  114|\n",
      "|         4|  386|\n",
      "|         5|  176|\n",
      "|         6|    1|\n",
      "+----------+-----+\n",
      "\n"
     ]
    },
    {
     "name": "stderr",
     "output_type": "stream",
     "text": [
      "                                                                                \r"
     ]
    }
   ],
   "source": [
    "(recommendations\n",
    "     .withColumn('pred_trunc', recommendations.prediction.substr(1,1))\n",
    "     .groupby('pred_trunc')\n",
    "     .count()\n",
    "     .sort('pred_trunc')\n",
    "    .show())"
   ]
  },
  {
   "cell_type": "code",
   "execution_count": 46,
   "id": "e77075ad",
   "metadata": {
    "execution": {
     "iopub.execute_input": "2022-04-11T15:17:18.559507Z",
     "iopub.status.busy": "2022-04-11T15:17:18.558748Z",
     "iopub.status.idle": "2022-04-11T15:17:43.282775Z",
     "shell.execute_reply": "2022-04-11T15:17:43.281673Z",
     "shell.execute_reply.started": "2022-04-11T15:09:31.760164Z"
    },
    "papermill": {
     "duration": 25.1312,
     "end_time": "2022-04-11T15:17:43.282960",
     "exception": false,
     "start_time": "2022-04-11T15:17:18.151760",
     "status": "completed"
    },
    "tags": []
   },
   "outputs": [
    {
     "name": "stderr",
     "output_type": "stream",
     "text": [
      "                                                                                \r"
     ]
    },
    {
     "data": {
      "image/png": "[encoded data removed]",
      "text/plain": [
       "<Figure size 864x432 with 1 Axes>"
      ]
     },
     "metadata": {
      "needs_background": "light"
     },
     "output_type": "display_data"
    }
   ],
   "source": [
    "# Create Temporary Tables\n",
    "recommendations.createOrReplaceTempView(\"recommendations\")\n",
    "import matplotlib.pyplot as plt\n",
    "plt.figure(figsize=(12,6))\n",
    "plt.title('Most of the predicted ratings are above 3.8', fontsize = 12)\n",
    "plt.suptitle('Distribution of predictedd ratings for the to_do lists', fontsize = 18)\n",
    "rec = recommendations.toPandas()\n",
    "rec['prediction'].hist()\n",
    "display()"
   ]
  },
  {
   "cell_type": "code",
   "execution_count": null,
   "id": "4e561ef4",
   "metadata": {
    "papermill": {
     "duration": 0.423759,
     "end_time": "2022-04-11T15:17:44.132899",
     "exception": false,
     "start_time": "2022-04-11T15:17:43.709140",
     "status": "completed"
    },
    "tags": []
   },
   "outputs": [],
   "source": []
  },
  {
   "cell_type": "code",
   "execution_count": null,
   "id": "8db12f83",
   "metadata": {
    "papermill": {
     "duration": 0.41873,
     "end_time": "2022-04-11T15:17:44.981294",
     "exception": false,
     "start_time": "2022-04-11T15:17:44.562564",
     "status": "completed"
    },
    "tags": []
   },
   "outputs": [],
   "source": []
  },
  {
   "cell_type": "code",
   "execution_count": null,
   "id": "02008897",
   "metadata": {
    "papermill": {
     "duration": 0.418622,
     "end_time": "2022-04-11T15:17:45.823994",
     "exception": false,
     "start_time": "2022-04-11T15:17:45.405372",
     "status": "completed"
    },
    "tags": []
   },
   "outputs": [],
   "source": []
  },
  {
   "cell_type": "code",
   "execution_count": null,
   "id": "3ab350fa",
   "metadata": {
    "papermill": {
     "duration": 0.433929,
     "end_time": "2022-04-11T15:17:46.681708",
     "exception": false,
     "start_time": "2022-04-11T15:17:46.247779",
     "status": "completed"
    },
    "tags": []
   },
   "outputs": [],
   "source": []
  },
  {
   "cell_type": "code",
   "execution_count": null,
   "id": "0d90e62e",
   "metadata": {
    "papermill": {
     "duration": 0.424532,
     "end_time": "2022-04-11T15:17:47.523382",
     "exception": false,
     "start_time": "2022-04-11T15:17:47.098850",
     "status": "completed"
    },
    "tags": []
   },
   "outputs": [],
   "source": []
  },
  {
   "cell_type": "code",
   "execution_count": null,
   "id": "87a14391",
   "metadata": {
    "papermill": {
     "duration": 0.417359,
     "end_time": "2022-04-11T15:17:48.356734",
     "exception": false,
     "start_time": "2022-04-11T15:17:47.939375",
     "status": "completed"
    },
    "tags": []
   },
   "outputs": [],
   "source": []
  },
  {
   "cell_type": "code",
   "execution_count": null,
   "id": "6d22c39f",
   "metadata": {
    "papermill": {
     "duration": 0.421002,
     "end_time": "2022-04-11T15:17:49.201724",
     "exception": false,
     "start_time": "2022-04-11T15:17:48.780722",
     "status": "completed"
    },
    "tags": []
   },
   "outputs": [],
   "source": []
  },
  {
   "cell_type": "code",
   "execution_count": null,
   "id": "6f22b291",
   "metadata": {
    "papermill": {
     "duration": 0.418735,
     "end_time": "2022-04-11T15:17:50.042578",
     "exception": false,
     "start_time": "2022-04-11T15:17:49.623843",
     "status": "completed"
    },
    "tags": []
   },
   "outputs": [],
   "source": []
  }
 ],
 "metadata": {
  "kernelspec": {
   "display_name": "Python 3",
   "language": "python",
   "name": "python3"
  },
  "language_info": {
   "codemirror_mode": {
    "name": "ipython",
    "version": 3
   },
   "file_extension": ".py",
   "mimetype": "text/x-python",
   "name": "python",
   "nbconvert_exporter": "python",
   "pygments_lexer": "ipython3",
   "version": "3.7.12"
  },
  "papermill": {
   "default_parameters": {},
   "duration": 426.059917,
   "end_time": "2022-04-11T15:17:51.275654",
   "environment_variables": {},
   "exception": null,
   "input_path": "__notebook__.ipynb",
   "output_path": "__notebook__.ipynb",
   "parameters": {},
   "start_time": "2022-04-11T15:10:45.215737",
   "version": "2.3.3"
  }
 },
 "nbformat": 4,
 "nbformat_minor": 5
}
