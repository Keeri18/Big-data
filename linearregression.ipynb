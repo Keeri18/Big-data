{
 "cells": [
  {
   "cell_type": "markdown",
   "id": "57804a18",
   "metadata": {
    "papermill": {
     "duration": 0.02988,
     "end_time": "2022-04-13T08:25:38.638911",
     "exception": false,
     "start_time": "2022-04-13T08:25:38.609031",
     "status": "completed"
    },
    "tags": []
   },
   "source": [
    "# Libraries and Utilities"
   ]
  },
  {
   "cell_type": "code",
   "execution_count": 1,
   "id": "71d4614b",
   "metadata": {
    "_cell_guid": "b1076dfc-b9ad-4769-8c92-a6c4dae69d19",
    "_uuid": "8f2839f25d086af736a60e9eeb907d3b93b6e0e5",
    "execution": {
     "iopub.execute_input": "2022-04-13T08:25:38.714624Z",
     "iopub.status.busy": "2022-04-13T08:25:38.712857Z",
     "iopub.status.idle": "2022-04-13T08:26:22.893655Z",
     "shell.execute_reply": "2022-04-13T08:26:22.892334Z",
     "shell.execute_reply.started": "2022-04-13T08:18:18.846973Z"
    },
    "papermill": {
     "duration": 44.220433,
     "end_time": "2022-04-13T08:26:22.894010",
     "exception": false,
     "start_time": "2022-04-13T08:25:38.673577",
     "status": "completed"
    },
    "tags": []
   },
   "outputs": [
    {
     "name": "stdout",
     "output_type": "stream",
     "text": [
      "Collecting pyspark\r\n",
      "  Downloading pyspark-3.2.1.tar.gz (281.4 MB)\r\n",
      "     |████████████████████████████████| 281.4 MB 32 kB/s               \r\n",
      "\u001b[?25h  Preparing metadata (setup.py) ... \u001b[?25l-\b \bdone\r\n",
      "\u001b[?25hCollecting py4j==0.10.9.3\r\n",
      "  Downloading py4j-0.10.9.3-py2.py3-none-any.whl (198 kB)\r\n",
      "     |████████████████████████████████| 198 kB 70.9 MB/s            \r\n",
      "\u001b[?25hBuilding wheels for collected packages: pyspark\r\n",
      "  Building wheel for pyspark (setup.py) ... \u001b[?25l-\b \b\\\b \b|\b \b/\b \b-\b \b\\\b \b|\b \b/\b \b-\b \b\\\b \b|\b \b/\b \b-\b \b\\\b \b|\b \b/\b \b-\b \b\\\b \b|\b \b/\b \b-\b \b\\\b \b|\b \b/\b \b-\b \b\\\b \b|\b \b/\b \b-\b \b\\\b \b|\b \b/\b \b-\b \b\\\b \b|\b \b/\b \b-\b \b\\\b \b|\b \b/\b \b-\b \b\\\b \b|\b \b/\b \b-\b \b\\\b \b|\b \b/\b \b-\b \b\\\b \b|\b \b/\b \b-\b \b\\\b \b|\b \b/\b \b-\b \b\\\b \b|\b \bdone\r\n",
      "\u001b[?25h  Created wheel for pyspark: filename=pyspark-3.2.1-py2.py3-none-any.whl size=281853642 sha256=e508c0a1dd64fd88f604940c36c91f966ea26667137e7ccc695e613e631a70ab\r\n",
      "  Stored in directory: /root/.cache/pip/wheels/9f/f5/07/7cd8017084dce4e93e84e92efd1e1d5334db05f2e83bcef74f\r\n",
      "Successfully built pyspark\r\n",
      "Installing collected packages: py4j, pyspark\r\n",
      "  Attempting uninstall: py4j\r\n",
      "    Found existing installation: py4j 0.10.9.4\r\n",
      "    Uninstalling py4j-0.10.9.4:\r\n",
      "      Successfully uninstalled py4j-0.10.9.4\r\n",
      "Successfully installed py4j-0.10.9.3 pyspark-3.2.1\r\n",
      "\u001b[33mWARNING: Running pip as the 'root' user can result in broken permissions and conflicting behaviour with the system package manager. It is recommended to use a virtual environment instead: https://pip.pypa.io/warnings/venv\u001b[0m\r\n"
     ]
    }
   ],
   "source": [
    "!pip install pyspark"
   ]
  },
  {
   "cell_type": "code",
   "execution_count": 2,
   "id": "39e6d5f3",
   "metadata": {
    "execution": {
     "iopub.execute_input": "2022-04-13T08:26:23.201490Z",
     "iopub.status.busy": "2022-04-13T08:26:23.200798Z",
     "iopub.status.idle": "2022-04-13T08:26:23.593503Z",
     "shell.execute_reply": "2022-04-13T08:26:23.592930Z",
     "shell.execute_reply.started": "2022-04-13T08:18:28.465539Z"
    },
    "papermill": {
     "duration": 0.545731,
     "end_time": "2022-04-13T08:26:23.593670",
     "exception": false,
     "start_time": "2022-04-13T08:26:23.047939",
     "status": "completed"
    },
    "tags": []
   },
   "outputs": [
    {
     "name": "stdout",
     "output_type": "stream",
     "text": [
      "/kaggle/input/autompg-dataset/auto-mpg.csv\n"
     ]
    }
   ],
   "source": [
    "import os\n",
    "import warnings\n",
    "warnings.filterwarnings('ignore')\n",
    "from pyspark.sql import SparkSession\n",
    "from pyspark.sql.types import StructField, StructType, StringType, IntegerType, FloatType\n",
    "from pyspark.sql.functions import split, count, when, isnan, col, regexp_replace\n",
    "from pyspark.ml.regression import LinearRegression\n",
    "from pyspark.ml.feature import OneHotEncoder, StringIndexer\n",
    "from pyspark.ml.linalg import Vectors\n",
    "from pyspark.ml.feature import VectorAssembler\n",
    "for dirname, _, filenames in os.walk('/kaggle/input'):\n",
    "    for filename in filenames:\n",
    "        print(os.path.join(dirname, filename))"
   ]
  },
  {
   "cell_type": "markdown",
   "id": "deceb001",
   "metadata": {
    "papermill": {
     "duration": 0.13599,
     "end_time": "2022-04-13T08:26:23.868428",
     "exception": false,
     "start_time": "2022-04-13T08:26:23.732438",
     "status": "completed"
    },
    "tags": []
   },
   "source": [
    "# Creating a SparkSession"
   ]
  },
  {
   "cell_type": "code",
   "execution_count": 3,
   "id": "9c85c9a9",
   "metadata": {
    "_kg_hide-output": false,
    "execution": {
     "iopub.execute_input": "2022-04-13T08:26:24.148642Z",
     "iopub.status.busy": "2022-04-13T08:26:24.147962Z",
     "iopub.status.idle": "2022-04-13T08:26:30.797874Z",
     "shell.execute_reply": "2022-04-13T08:26:30.796910Z",
     "shell.execute_reply.started": "2022-04-13T08:18:28.753581Z"
    },
    "papermill": {
     "duration": 6.790773,
     "end_time": "2022-04-13T08:26:30.798152",
     "exception": false,
     "start_time": "2022-04-13T08:26:24.007379",
     "status": "completed"
    },
    "tags": []
   },
   "outputs": [
    {
     "name": "stderr",
     "output_type": "stream",
     "text": [
      "WARNING: An illegal reflective access operation has occurred\n",
      "WARNING: Illegal reflective access by org.apache.spark.unsafe.Platform (file:/opt/conda/lib/python3.7/site-packages/pyspark/jars/spark-unsafe_2.12-3.2.1.jar) to constructor java.nio.DirectByteBuffer(long,int)\n",
      "WARNING: Please consider reporting this to the maintainers of org.apache.spark.unsafe.Platform\n",
      "WARNING: Use --illegal-access=warn to enable warnings of further illegal reflective access operations\n",
      "WARNING: All illegal access operations will be denied in a future release\n",
      "Using Spark's default log4j profile: org/apache/spark/log4j-defaults.properties\n",
      "Setting default log level to \"WARN\".\n",
      "To adjust logging level use sc.setLogLevel(newLevel). For SparkR, use setLogLevel(newLevel).\n",
      "22/04/13 08:26:27 WARN NativeCodeLoader: Unable to load native-hadoop library for your platform... using builtin-java classes where applicable\n"
     ]
    },
    {
     "name": "stdout",
     "output_type": "stream",
     "text": [
      "Spark Version: 3.2.1\n"
     ]
    }
   ],
   "source": [
    "spark = SparkSession.builder.appName('First Session').getOrCreate()\n",
    "\n",
    "print('Spark Version: {}'.format(spark.version))"
   ]
  },
  {
   "cell_type": "markdown",
   "id": "af2e2956",
   "metadata": {
    "papermill": {
     "duration": 0.13739,
     "end_time": "2022-04-13T08:26:31.085559",
     "exception": false,
     "start_time": "2022-04-13T08:26:30.948169",
     "status": "completed"
    },
    "tags": []
   },
   "source": [
    "# Loading Data"
   ]
  },
  {
   "cell_type": "code",
   "execution_count": 4,
   "id": "44fb82c0",
   "metadata": {
    "execution": {
     "iopub.execute_input": "2022-04-13T08:26:31.369818Z",
     "iopub.status.busy": "2022-04-13T08:26:31.368841Z",
     "iopub.status.idle": "2022-04-13T08:26:37.392708Z",
     "shell.execute_reply": "2022-04-13T08:26:37.391886Z",
     "shell.execute_reply.started": "2022-04-13T08:18:28.774958Z"
    },
    "papermill": {
     "duration": 6.169705,
     "end_time": "2022-04-13T08:26:37.392928",
     "exception": false,
     "start_time": "2022-04-13T08:26:31.223223",
     "status": "completed"
    },
    "tags": []
   },
   "outputs": [
    {
     "name": "stderr",
     "output_type": "stream",
     "text": [
      "                                                                                \r"
     ]
    },
    {
     "name": "stdout",
     "output_type": "stream",
     "text": [
      "+----+---------+------------+----------+------+------------+----------+------+--------------------+\n",
      "| mpg|cylinders|displacement|horsepower|weight|acceleration|model year|origin|            car name|\n",
      "+----+---------+------------+----------+------+------------+----------+------+--------------------+\n",
      "|18.0|        8|       307.0|     130.0|  3504|        12.0|        70|     1|chevrolet chevell...|\n",
      "|15.0|        8|       350.0|     165.0|  3693|        11.5|        70|     1|   buick skylark 320|\n",
      "|18.0|        8|       318.0|     150.0|  3436|        11.0|        70|     1|  plymouth satellite|\n",
      "|16.0|        8|       304.0|     150.0|  3433|        12.0|        70|     1|       amc rebel sst|\n",
      "|17.0|        8|       302.0|     140.0|  3449|        10.5|        70|     1|         ford torino|\n",
      "+----+---------+------------+----------+------+------------+----------+------+--------------------+\n",
      "only showing top 5 rows\n",
      "\n"
     ]
    }
   ],
   "source": [
    "#Defining a Schema\n",
    "schema = StructType([StructField('mpg', FloatType(), nullable = True),\n",
    "                     StructField('cylinders', IntegerType(), nullable = True),\n",
    "                     StructField('displacement', FloatType(), nullable = True),\n",
    "                     StructField('horsepower', StringType(), nullable = True),\n",
    "                     StructField('weight', IntegerType(), nullable = True),\n",
    "                     StructField('acceleration', FloatType(), nullable = True),\n",
    "                     StructField('model year', IntegerType(), nullable = True),\n",
    "                     StructField('origin', IntegerType(), nullable = True),\n",
    "                     StructField('car name', StringType(), nullable = True)])\n",
    "\n",
    "file_path = '/kaggle/input/autompg-dataset/auto-mpg.csv'\n",
    "\n",
    "df = spark.read.csv(file_path,\n",
    "                    header = True,\n",
    "                    inferSchema = True,\n",
    "                    nanValue = '?')\n",
    "\n",
    "df.show(5)"
   ]
  },
  {
   "cell_type": "code",
   "execution_count": 5,
   "id": "35cda7a1",
   "metadata": {
    "execution": {
     "iopub.execute_input": "2022-04-13T08:26:37.741308Z",
     "iopub.status.busy": "2022-04-13T08:26:37.740605Z",
     "iopub.status.idle": "2022-04-13T08:26:38.987295Z",
     "shell.execute_reply": "2022-04-13T08:26:38.986460Z",
     "shell.execute_reply.started": "2022-04-13T08:18:35.569917Z"
    },
    "papermill": {
     "duration": 1.394737,
     "end_time": "2022-04-13T08:26:38.987528",
     "exception": false,
     "start_time": "2022-04-13T08:26:37.592791",
     "status": "completed"
    },
    "tags": []
   },
   "outputs": [
    {
     "name": "stdout",
     "output_type": "stream",
     "text": [
      "+---+---------+------------+----------+------+------------+----------+------+--------+\n",
      "|mpg|cylinders|displacement|horsepower|weight|acceleration|model year|origin|car name|\n",
      "+---+---------+------------+----------+------+------------+----------+------+--------+\n",
      "|  0|        0|           0|         6|     0|           0|         0|     0|       0|\n",
      "+---+---------+------------+----------+------+------------+----------+------+--------+\n",
      "\n"
     ]
    }
   ],
   "source": [
    "#Check Missing Values\n",
    "def check_missing(dataframe):\n",
    "    \n",
    "    return dataframe.select([count(when(isnan(c) | col(c).isNull(), c)). \\\n",
    "                             alias(c) for c in dataframe.columns]).show()\n",
    "\n",
    "check_missing(df)"
   ]
  },
  {
   "cell_type": "code",
   "execution_count": 6,
   "id": "df8cb97b",
   "metadata": {
    "execution": {
     "iopub.execute_input": "2022-04-13T08:26:39.305773Z",
     "iopub.status.busy": "2022-04-13T08:26:39.305072Z",
     "iopub.status.idle": "2022-04-13T08:26:39.576895Z",
     "shell.execute_reply": "2022-04-13T08:26:39.578298Z",
     "shell.execute_reply.started": "2022-04-13T08:18:37.219583Z"
    },
    "papermill": {
     "duration": 0.419559,
     "end_time": "2022-04-13T08:26:39.578790",
     "exception": false,
     "start_time": "2022-04-13T08:26:39.159231",
     "status": "completed"
    },
    "tags": []
   },
   "outputs": [
    {
     "name": "stdout",
     "output_type": "stream",
     "text": [
      "+----+---------+------------+----------+------+------------+----------+------+--------------------+\n",
      "| mpg|cylinders|displacement|horsepower|weight|acceleration|model year|origin|            car name|\n",
      "+----+---------+------------+----------+------+------------+----------+------+--------------------+\n",
      "|18.0|        8|       307.0|       130|  3504|        12.0|        70|     1|chevrolet chevell...|\n",
      "|15.0|        8|       350.0|       165|  3693|        11.5|        70|     1|   buick skylark 320|\n",
      "|18.0|        8|       318.0|       150|  3436|        11.0|        70|     1|  plymouth satellite|\n",
      "|16.0|        8|       304.0|       150|  3433|        12.0|        70|     1|       amc rebel sst|\n",
      "|17.0|        8|       302.0|       140|  3449|        10.5|        70|     1|         ford torino|\n",
      "+----+---------+------------+----------+------+------------+----------+------+--------------------+\n",
      "only showing top 5 rows\n",
      "\n"
     ]
    }
   ],
   "source": [
    "#Handling Missing Values\n",
    "df = df.na.drop()\n",
    "\n",
    "df = df.withColumn(\"horsepower\", df[\"horsepower\"].cast(IntegerType())) #convert horsepower from string to int\n",
    "\n",
    "df.show(5)"
   ]
  },
  {
   "cell_type": "code",
   "execution_count": 7,
   "id": "89b8f9ff",
   "metadata": {
    "execution": {
     "iopub.execute_input": "2022-04-13T08:26:39.890113Z",
     "iopub.status.busy": "2022-04-13T08:26:39.889010Z",
     "iopub.status.idle": "2022-04-13T08:26:39.896099Z",
     "shell.execute_reply": "2022-04-13T08:26:39.896570Z",
     "shell.execute_reply.started": "2022-04-13T08:18:37.620683Z"
    },
    "papermill": {
     "duration": 0.157598,
     "end_time": "2022-04-13T08:26:39.896752",
     "exception": false,
     "start_time": "2022-04-13T08:26:39.739154",
     "status": "completed"
    },
    "tags": []
   },
   "outputs": [
    {
     "data": {
      "text/plain": [
       "['mpg',\n",
       " 'cylinders',\n",
       " 'displacement',\n",
       " 'horsepower',\n",
       " 'weight',\n",
       " 'acceleration',\n",
       " 'model year',\n",
       " 'origin',\n",
       " 'car name']"
      ]
     },
     "execution_count": 7,
     "metadata": {},
     "output_type": "execute_result"
    }
   ],
   "source": [
    "#Check column names\n",
    "df.columns"
   ]
  },
  {
   "cell_type": "code",
   "execution_count": 8,
   "id": "663333cb",
   "metadata": {
    "execution": {
     "iopub.execute_input": "2022-04-13T08:26:40.176227Z",
     "iopub.status.busy": "2022-04-13T08:26:40.175601Z",
     "iopub.status.idle": "2022-04-13T08:26:40.465437Z",
     "shell.execute_reply": "2022-04-13T08:26:40.466355Z",
     "shell.execute_reply.started": "2022-04-13T08:18:37.651655Z"
    },
    "papermill": {
     "duration": 0.431962,
     "end_time": "2022-04-13T08:26:40.466653",
     "exception": false,
     "start_time": "2022-04-13T08:26:40.034691",
     "status": "completed"
    },
    "tags": []
   },
   "outputs": [
    {
     "data": {
      "text/html": [
       "<div>\n",
       "<style scoped>\n",
       "    .dataframe tbody tr th:only-of-type {\n",
       "        vertical-align: middle;\n",
       "    }\n",
       "\n",
       "    .dataframe tbody tr th {\n",
       "        vertical-align: top;\n",
       "    }\n",
       "\n",
       "    .dataframe thead th {\n",
       "        text-align: right;\n",
       "    }\n",
       "</style>\n",
       "<table border=\"1\" class=\"dataframe\">\n",
       "  <thead>\n",
       "    <tr style=\"text-align: right;\">\n",
       "      <th></th>\n",
       "      <th>mpg</th>\n",
       "      <th>cylinders</th>\n",
       "      <th>displacement</th>\n",
       "      <th>horsepower</th>\n",
       "      <th>weight</th>\n",
       "      <th>acceleration</th>\n",
       "      <th>model year</th>\n",
       "      <th>origin</th>\n",
       "      <th>car name</th>\n",
       "    </tr>\n",
       "  </thead>\n",
       "  <tbody>\n",
       "    <tr>\n",
       "      <th>0</th>\n",
       "      <td>18.0</td>\n",
       "      <td>8</td>\n",
       "      <td>307.0</td>\n",
       "      <td>130</td>\n",
       "      <td>3504</td>\n",
       "      <td>12.0</td>\n",
       "      <td>70</td>\n",
       "      <td>1</td>\n",
       "      <td>chevrolet chevelle malibu</td>\n",
       "    </tr>\n",
       "    <tr>\n",
       "      <th>1</th>\n",
       "      <td>15.0</td>\n",
       "      <td>8</td>\n",
       "      <td>350.0</td>\n",
       "      <td>165</td>\n",
       "      <td>3693</td>\n",
       "      <td>11.5</td>\n",
       "      <td>70</td>\n",
       "      <td>1</td>\n",
       "      <td>buick skylark 320</td>\n",
       "    </tr>\n",
       "    <tr>\n",
       "      <th>2</th>\n",
       "      <td>18.0</td>\n",
       "      <td>8</td>\n",
       "      <td>318.0</td>\n",
       "      <td>150</td>\n",
       "      <td>3436</td>\n",
       "      <td>11.0</td>\n",
       "      <td>70</td>\n",
       "      <td>1</td>\n",
       "      <td>plymouth satellite</td>\n",
       "    </tr>\n",
       "    <tr>\n",
       "      <th>3</th>\n",
       "      <td>16.0</td>\n",
       "      <td>8</td>\n",
       "      <td>304.0</td>\n",
       "      <td>150</td>\n",
       "      <td>3433</td>\n",
       "      <td>12.0</td>\n",
       "      <td>70</td>\n",
       "      <td>1</td>\n",
       "      <td>amc rebel sst</td>\n",
       "    </tr>\n",
       "    <tr>\n",
       "      <th>4</th>\n",
       "      <td>17.0</td>\n",
       "      <td>8</td>\n",
       "      <td>302.0</td>\n",
       "      <td>140</td>\n",
       "      <td>3449</td>\n",
       "      <td>10.5</td>\n",
       "      <td>70</td>\n",
       "      <td>1</td>\n",
       "      <td>ford torino</td>\n",
       "    </tr>\n",
       "  </tbody>\n",
       "</table>\n",
       "</div>"
      ],
      "text/plain": [
       "    mpg  cylinders  displacement  horsepower  weight  acceleration  \\\n",
       "0  18.0          8         307.0         130    3504          12.0   \n",
       "1  15.0          8         350.0         165    3693          11.5   \n",
       "2  18.0          8         318.0         150    3436          11.0   \n",
       "3  16.0          8         304.0         150    3433          12.0   \n",
       "4  17.0          8         302.0         140    3449          10.5   \n",
       "\n",
       "   model year  origin                   car name  \n",
       "0          70       1  chevrolet chevelle malibu  \n",
       "1          70       1          buick skylark 320  \n",
       "2          70       1         plymouth satellite  \n",
       "3          70       1              amc rebel sst  \n",
       "4          70       1                ford torino  "
      ]
     },
     "execution_count": 8,
     "metadata": {},
     "output_type": "execute_result"
    }
   ],
   "source": [
    "#Display data with pandas format\n",
    "df.toPandas().head()"
   ]
  },
  {
   "cell_type": "code",
   "execution_count": 9,
   "id": "55828b70",
   "metadata": {
    "execution": {
     "iopub.execute_input": "2022-04-13T08:26:40.759457Z",
     "iopub.status.busy": "2022-04-13T08:26:40.758804Z",
     "iopub.status.idle": "2022-04-13T08:26:40.767521Z",
     "shell.execute_reply": "2022-04-13T08:26:40.768380Z",
     "shell.execute_reply.started": "2022-04-13T08:18:38.058573Z"
    },
    "papermill": {
     "duration": 0.157095,
     "end_time": "2022-04-13T08:26:40.768685",
     "exception": false,
     "start_time": "2022-04-13T08:26:40.611590",
     "status": "completed"
    },
    "tags": []
   },
   "outputs": [
    {
     "name": "stdout",
     "output_type": "stream",
     "text": [
      "root\n",
      " |-- mpg: double (nullable = true)\n",
      " |-- cylinders: integer (nullable = true)\n",
      " |-- displacement: double (nullable = true)\n",
      " |-- horsepower: integer (nullable = true)\n",
      " |-- weight: integer (nullable = true)\n",
      " |-- acceleration: double (nullable = true)\n",
      " |-- model year: integer (nullable = true)\n",
      " |-- origin: integer (nullable = true)\n",
      " |-- car name: string (nullable = true)\n",
      "\n"
     ]
    }
   ],
   "source": [
    "#Check the schema\n",
    "df.printSchema()"
   ]
  },
  {
   "cell_type": "code",
   "execution_count": 10,
   "id": "a223f3d8",
   "metadata": {
    "execution": {
     "iopub.execute_input": "2022-04-13T08:26:41.067322Z",
     "iopub.status.busy": "2022-04-13T08:26:41.066704Z",
     "iopub.status.idle": "2022-04-13T08:26:41.253827Z",
     "shell.execute_reply": "2022-04-13T08:26:41.252111Z",
     "shell.execute_reply.started": "2022-04-13T08:18:38.074419Z"
    },
    "papermill": {
     "duration": 0.333746,
     "end_time": "2022-04-13T08:26:41.254232",
     "exception": false,
     "start_time": "2022-04-13T08:26:40.920486",
     "status": "completed"
    },
    "tags": []
   },
   "outputs": [
    {
     "name": "stdout",
     "output_type": "stream",
     "text": [
      "+----+---------+------------+----------+------+------------+----------+------+--------------------+\n",
      "| mpg|cylinders|displacement|horsepower|weight|acceleration|model_year|origin|            car_name|\n",
      "+----+---------+------------+----------+------+------------+----------+------+--------------------+\n",
      "|18.0|        8|       307.0|       130|  3504|        12.0|        70|     1|chevrolet chevell...|\n",
      "|15.0|        8|       350.0|       165|  3693|        11.5|        70|     1|   buick skylark 320|\n",
      "|18.0|        8|       318.0|       150|  3436|        11.0|        70|     1|  plymouth satellite|\n",
      "+----+---------+------------+----------+------+------------+----------+------+--------------------+\n",
      "only showing top 3 rows\n",
      "\n"
     ]
    }
   ],
   "source": [
    "#Renaming Columns\n",
    "df = df.withColumnRenamed('model year', 'model_year')\n",
    "\n",
    "df = df.withColumnRenamed('car name', 'car_name')\n",
    "\n",
    "df.show(3)"
   ]
  },
  {
   "cell_type": "code",
   "execution_count": 11,
   "id": "cd8ba7ab",
   "metadata": {
    "execution": {
     "iopub.execute_input": "2022-04-13T08:26:41.611434Z",
     "iopub.status.busy": "2022-04-13T08:26:41.610361Z",
     "iopub.status.idle": "2022-04-13T08:26:41.759679Z",
     "shell.execute_reply": "2022-04-13T08:26:41.758826Z",
     "shell.execute_reply.started": "2022-04-13T08:18:38.378452Z"
    },
    "papermill": {
     "duration": 0.297653,
     "end_time": "2022-04-13T08:26:41.759873",
     "exception": false,
     "start_time": "2022-04-13T08:26:41.462220",
     "status": "completed"
    },
    "tags": []
   },
   "outputs": [
    {
     "name": "stdout",
     "output_type": "stream",
     "text": [
      "Row(mpg=18.0, cylinders=8, displacement=307.0, horsepower=130, weight=3504, acceleration=12.0, model_year=70, origin=1, car_name='chevrolet chevelle malibu') \n",
      "\n",
      "Row(mpg=15.0, cylinders=8, displacement=350.0, horsepower=165, weight=3693, acceleration=11.5, model_year=70, origin=1, car_name='buick skylark 320') \n",
      "\n",
      "Row(mpg=18.0, cylinders=8, displacement=318.0, horsepower=150, weight=3436, acceleration=11.0, model_year=70, origin=1, car_name='plymouth satellite') \n",
      "\n",
      "Row(mpg=16.0, cylinders=8, displacement=304.0, horsepower=150, weight=3433, acceleration=12.0, model_year=70, origin=1, car_name='amc rebel sst') \n",
      "\n"
     ]
    }
   ],
   "source": [
    "#Get infos from first 4 rows\n",
    "for car in df.head(4):\n",
    "    print(car, '\\n')"
   ]
  },
  {
   "cell_type": "code",
   "execution_count": 12,
   "id": "92067a5a",
   "metadata": {
    "execution": {
     "iopub.execute_input": "2022-04-13T08:26:42.053773Z",
     "iopub.status.busy": "2022-04-13T08:26:42.052656Z",
     "iopub.status.idle": "2022-04-13T08:26:43.491023Z",
     "shell.execute_reply": "2022-04-13T08:26:43.490458Z",
     "shell.execute_reply.started": "2022-04-13T08:18:38.612876Z"
    },
    "papermill": {
     "duration": 1.583901,
     "end_time": "2022-04-13T08:26:43.491175",
     "exception": false,
     "start_time": "2022-04-13T08:26:41.907274",
     "status": "completed"
    },
    "tags": []
   },
   "outputs": [
    {
     "name": "stdout",
     "output_type": "stream",
     "text": [
      "+-------+-----------------+------------------+------------------+------------------+------------------+------------------+-----------------+------------------+--------------------+\n",
      "|summary|              mpg|         cylinders|      displacement|        horsepower|            weight|      acceleration|       model_year|            origin|            car_name|\n",
      "+-------+-----------------+------------------+------------------+------------------+------------------+------------------+-----------------+------------------+--------------------+\n",
      "|  count|              392|               392|               392|               392|               392|               392|              392|               392|                 392|\n",
      "|   mean|23.44591836734694| 5.471938775510204|194.41198979591837|104.46938775510205|2977.5841836734694|15.541326530612228| 75.9795918367347|1.5765306122448979|                null|\n",
      "| stddev|7.805007486571802|1.7057832474527845|104.64400390890465| 38.49115993282846| 849.4025600429486|  2.75886411918808|3.683736543577868|0.8055181834183057|                null|\n",
      "|    min|              9.0|                 3|              68.0|                46|              1613|               8.0|               70|                 1|amc ambassador br...|\n",
      "|    max|             46.6|                 8|             455.0|               230|              5140|              24.8|               82|                 3|    vw rabbit custom|\n",
      "+-------+-----------------+------------------+------------------+------------------+------------------+------------------+-----------------+------------------+--------------------+\n",
      "\n"
     ]
    }
   ],
   "source": [
    "#statistical summary of dataframe\n",
    "df.describe().show()"
   ]
  },
  {
   "cell_type": "code",
   "execution_count": 13,
   "id": "e14086d1",
   "metadata": {
    "execution": {
     "iopub.execute_input": "2022-04-13T08:26:43.947949Z",
     "iopub.status.busy": "2022-04-13T08:26:43.947293Z",
     "iopub.status.idle": "2022-04-13T08:26:44.305490Z",
     "shell.execute_reply": "2022-04-13T08:26:44.304654Z",
     "shell.execute_reply.started": "2022-04-13T08:18:40.608604Z"
    },
    "papermill": {
     "duration": 0.57685,
     "end_time": "2022-04-13T08:26:44.305721",
     "exception": false,
     "start_time": "2022-04-13T08:26:43.728871",
     "status": "completed"
    },
    "tags": []
   },
   "outputs": [
    {
     "name": "stdout",
     "output_type": "stream",
     "text": [
      "+-------+-----------------+------------------+\n",
      "|summary|              mpg|        horsepower|\n",
      "+-------+-----------------+------------------+\n",
      "|  count|              392|               392|\n",
      "|   mean|23.44591836734694|104.46938775510205|\n",
      "| stddev|7.805007486571802| 38.49115993282846|\n",
      "|    min|              9.0|                46|\n",
      "|    max|             46.6|               230|\n",
      "+-------+-----------------+------------------+\n",
      "\n"
     ]
    }
   ],
   "source": [
    "#describe with specific variables\n",
    "df.describe(['mpg', 'horsepower']).show()"
   ]
  },
  {
   "cell_type": "code",
   "execution_count": 14,
   "id": "d193642f",
   "metadata": {
    "execution": {
     "iopub.execute_input": "2022-04-13T08:26:44.815260Z",
     "iopub.status.busy": "2022-04-13T08:26:44.814103Z",
     "iopub.status.idle": "2022-04-13T08:26:45.568556Z",
     "shell.execute_reply": "2022-04-13T08:26:45.567731Z",
     "shell.execute_reply.started": "2022-04-13T08:18:41.112630Z"
    },
    "papermill": {
     "duration": 1.021985,
     "end_time": "2022-04-13T08:26:45.568759",
     "exception": false,
     "start_time": "2022-04-13T08:26:44.546774",
     "status": "completed"
    },
    "tags": []
   },
   "outputs": [
    {
     "name": "stdout",
     "output_type": "stream",
     "text": [
      "+-------+-----------------+------------------+------------------+------------------+------------------+------------------+-----------------+------------------+\n",
      "|summary|              mpg|         cylinders|      displacement|        horsepower|            weight|      acceleration|       model_year|            origin|\n",
      "+-------+-----------------+------------------+------------------+------------------+------------------+------------------+-----------------+------------------+\n",
      "|  count|              392|               392|               392|               392|               392|               392|              392|               392|\n",
      "|   mean|23.44591836734694| 5.471938775510204|194.41198979591837|104.46938775510205|2977.5841836734694|15.541326530612228| 75.9795918367347|1.5765306122448979|\n",
      "| stddev|7.805007486571802|1.7057832474527845|104.64400390890465| 38.49115993282846| 849.4025600429486|  2.75886411918808|3.683736543577868|0.8055181834183057|\n",
      "|    min|              9.0|                 3|              68.0|                46|              1613|               8.0|               70|                 1|\n",
      "|    max|             46.6|                 8|             455.0|               230|              5140|              24.8|               82|                 3|\n",
      "+-------+-----------------+------------------+------------------+------------------+------------------+------------------+-----------------+------------------+\n",
      "\n"
     ]
    }
   ],
   "source": [
    "#describe with numerical columns\n",
    "def get_num_cols(dataframe):\n",
    "    \n",
    "    num_cols = [col for col in dataframe.columns if dataframe.select(col). \\\n",
    "                dtypes[0][1] in ['double', 'int']]\n",
    "    \n",
    "    return num_cols\n",
    "\n",
    "num_cols = get_num_cols(df)\n",
    "    \n",
    "df.describe(num_cols).show()"
   ]
  },
  {
   "cell_type": "markdown",
   "id": "4f7862d5",
   "metadata": {
    "papermill": {
     "duration": 0.144028,
     "end_time": "2022-04-13T08:26:45.964884",
     "exception": false,
     "start_time": "2022-04-13T08:26:45.820856",
     "status": "completed"
    },
    "tags": []
   },
   "source": [
    "# Spark DataFrame Basic Operations\n",
    "\n",
    "## Filtering & Sorting"
   ]
  },
  {
   "cell_type": "code",
   "execution_count": 15,
   "id": "5d9b971e",
   "metadata": {
    "execution": {
     "iopub.execute_input": "2022-04-13T08:26:46.256858Z",
     "iopub.status.busy": "2022-04-13T08:26:46.256080Z",
     "iopub.status.idle": "2022-04-13T08:26:46.509797Z",
     "shell.execute_reply": "2022-04-13T08:26:46.508867Z",
     "shell.execute_reply.started": "2022-04-13T08:18:42.107232Z"
    },
    "papermill": {
     "duration": 0.397372,
     "end_time": "2022-04-13T08:26:46.510065",
     "exception": false,
     "start_time": "2022-04-13T08:26:46.112693",
     "status": "completed"
    },
    "tags": []
   },
   "outputs": [
    {
     "name": "stdout",
     "output_type": "stream",
     "text": [
      "+----+---------+------------+----------+------+------------+----------+------+--------------------+\n",
      "| mpg|cylinders|displacement|horsepower|weight|acceleration|model_year|origin|            car_name|\n",
      "+----+---------+------------+----------+------+------------+----------+------+--------------------+\n",
      "|24.0|        4|       113.0|        95|  2372|        15.0|        70|     3|toyota corona mar...|\n",
      "|27.0|        4|        97.0|        88|  2130|        14.5|        70|     3|        datsun pl510|\n",
      "|26.0|        4|        97.0|        46|  1835|        20.5|        70|     2|volkswagen 1131 d...|\n",
      "|25.0|        4|       110.0|        87|  2672|        17.5|        70|     2|         peugeot 504|\n",
      "|24.0|        4|       107.0|        90|  2430|        14.5|        70|     2|         audi 100 ls|\n",
      "+----+---------+------------+----------+------+------------+----------+------+--------------------+\n",
      "only showing top 5 rows\n",
      "\n"
     ]
    }
   ],
   "source": [
    "#Lets get the cars with mpg more than 23\n",
    "df.filter(df['mpg'] > 23).show(5)"
   ]
  },
  {
   "cell_type": "code",
   "execution_count": 16,
   "id": "a99e0e4a",
   "metadata": {
    "execution": {
     "iopub.execute_input": "2022-04-13T08:26:46.886615Z",
     "iopub.status.busy": "2022-04-13T08:26:46.884579Z",
     "iopub.status.idle": "2022-04-13T08:26:47.100595Z",
     "shell.execute_reply": "2022-04-13T08:26:47.099740Z",
     "shell.execute_reply.started": "2022-04-13T08:18:42.664960Z"
    },
    "papermill": {
     "duration": 0.376942,
     "end_time": "2022-04-13T08:26:47.100809",
     "exception": false,
     "start_time": "2022-04-13T08:26:46.723867",
     "status": "completed"
    },
    "tags": []
   },
   "outputs": [
    {
     "name": "stdout",
     "output_type": "stream",
     "text": [
      "+--------------------+\n",
      "|            car_name|\n",
      "+--------------------+\n",
      "|chevrolet chevell...|\n",
      "|   buick skylark 320|\n",
      "|  plymouth satellite|\n",
      "|       amc rebel sst|\n",
      "|         ford torino|\n",
      "+--------------------+\n",
      "only showing top 5 rows\n",
      "\n"
     ]
    }
   ],
   "source": [
    "#Multiple Conditions\n",
    "df.filter((df['horsepower'] > 80) & \n",
    "          (df['weight'] > 2000)).select('car_name').show(5)"
   ]
  },
  {
   "cell_type": "code",
   "execution_count": 17,
   "id": "4ffa2ded",
   "metadata": {
    "execution": {
     "iopub.execute_input": "2022-04-13T08:26:47.541389Z",
     "iopub.status.busy": "2022-04-13T08:26:47.540144Z",
     "iopub.status.idle": "2022-04-13T08:26:47.903687Z",
     "shell.execute_reply": "2022-04-13T08:26:47.904471Z",
     "shell.execute_reply.started": "2022-04-13T08:18:43.018370Z"
    },
    "papermill": {
     "duration": 0.541298,
     "end_time": "2022-04-13T08:26:47.904780",
     "exception": false,
     "start_time": "2022-04-13T08:26:47.363482",
     "status": "completed"
    },
    "tags": []
   },
   "outputs": [
    {
     "name": "stdout",
     "output_type": "stream",
     "text": [
      "+----+---------+------------+----------+------+------------+----------+------+--------------------+\n",
      "| mpg|cylinders|displacement|horsepower|weight|acceleration|model_year|origin|            car_name|\n",
      "+----+---------+------------+----------+------+------------+----------+------+--------------------+\n",
      "|44.3|        4|        90.0|        48|  2085|        21.7|        80|     2|vw rabbit c (diesel)|\n",
      "|44.0|        4|        97.0|        52|  2130|        24.6|        82|     2|           vw pickup|\n",
      "|43.4|        4|        90.0|        48|  2335|        23.7|        80|     2|  vw dasher (diesel)|\n",
      "|43.1|        4|        90.0|        48|  1985|        21.5|        78|     2|volkswagen rabbit...|\n",
      "|41.5|        4|        98.0|        76|  2144|        14.7|        80|     2|           vw rabbit|\n",
      "+----+---------+------------+----------+------+------------+----------+------+--------------------+\n",
      "only showing top 5 rows\n",
      "\n"
     ]
    }
   ],
   "source": [
    "#Sorting\n",
    "df.filter((df['mpg'] > 25) & (df['origin'] == 2)). \\\n",
    "orderBy('mpg', ascending = False).show(5)"
   ]
  },
  {
   "cell_type": "code",
   "execution_count": 18,
   "id": "bcb095f8",
   "metadata": {
    "execution": {
     "iopub.execute_input": "2022-04-13T08:26:48.316929Z",
     "iopub.status.busy": "2022-04-13T08:26:48.316196Z",
     "iopub.status.idle": "2022-04-13T08:26:48.540949Z",
     "shell.execute_reply": "2022-04-13T08:26:48.540295Z",
     "shell.execute_reply.started": "2022-04-13T08:18:43.485576Z"
    },
    "papermill": {
     "duration": 0.379378,
     "end_time": "2022-04-13T08:26:48.541085",
     "exception": false,
     "start_time": "2022-04-13T08:26:48.161707",
     "status": "completed"
    },
    "tags": []
   },
   "outputs": [
    {
     "name": "stdout",
     "output_type": "stream",
     "text": [
      "+----+---------+------------+----------+------+------------+----------+------+--------------------+\n",
      "| mpg|cylinders|displacement|horsepower|weight|acceleration|model_year|origin|            car_name|\n",
      "+----+---------+------------+----------+------+------------+----------+------+--------------------+\n",
      "|36.0|        4|       105.0|        74|  1980|        15.3|        82|     2| volkswagen rabbit l|\n",
      "|33.0|        4|       105.0|        74|  2190|        14.2|        81|     2|    volkswagen jetta|\n",
      "|31.5|        4|        89.0|        71|  1990|        14.9|        78|     2| volkswagen scirocco|\n",
      "|43.1|        4|        90.0|        48|  1985|        21.5|        78|     2|volkswagen rabbit...|\n",
      "|29.0|        4|        97.0|        78|  1940|        14.5|        77|     2|volkswagen rabbit...|\n",
      "+----+---------+------------+----------+------+------------+----------+------+--------------------+\n",
      "only showing top 5 rows\n",
      "\n"
     ]
    }
   ],
   "source": [
    "#Get the cars with 'volkswagen' in their names, and sort them by model year and horsepower\n",
    "df.filter(df['car_name'].contains('volkswagen')). \\\n",
    "orderBy(['model_year', 'horsepower'], ascending=[False, False]).show(5)"
   ]
  },
  {
   "cell_type": "code",
   "execution_count": 19,
   "id": "1abc4b08",
   "metadata": {
    "execution": {
     "iopub.execute_input": "2022-04-13T08:26:48.941087Z",
     "iopub.status.busy": "2022-04-13T08:26:48.940342Z",
     "iopub.status.idle": "2022-04-13T08:26:49.094343Z",
     "shell.execute_reply": "2022-04-13T08:26:49.095160Z",
     "shell.execute_reply.started": "2022-04-13T08:18:43.756440Z"
    },
    "papermill": {
     "duration": 0.322421,
     "end_time": "2022-04-13T08:26:49.095461",
     "exception": false,
     "start_time": "2022-04-13T08:26:48.773040",
     "status": "completed"
    },
    "tags": []
   },
   "outputs": [
    {
     "name": "stdout",
     "output_type": "stream",
     "text": [
      "+----+---------+------------+----------+------+------------+----------+------+--------------------+\n",
      "| mpg|cylinders|displacement|horsepower|weight|acceleration|model_year|origin|            car_name|\n",
      "+----+---------+------------+----------+------+------------+----------+------+--------------------+\n",
      "|26.0|        4|        97.0|        46|  1835|        20.5|        70|     2|volkswagen 1131 d...|\n",
      "|27.0|        4|        97.0|        60|  1834|        19.0|        71|     2|volkswagen model 111|\n",
      "|23.0|        4|        97.0|        54|  2254|        23.5|        72|     2|   volkswagen type 3|\n",
      "+----+---------+------------+----------+------+------------+----------+------+--------------------+\n",
      "only showing top 3 rows\n",
      "\n"
     ]
    }
   ],
   "source": [
    "df.filter(df['car_name'].like('%volkswagen%')).show(3)"
   ]
  },
  {
   "cell_type": "markdown",
   "id": "81347cc4",
   "metadata": {
    "papermill": {
     "duration": 0.141693,
     "end_time": "2022-04-13T08:26:49.415541",
     "exception": false,
     "start_time": "2022-04-13T08:26:49.273848",
     "status": "completed"
    },
    "tags": []
   },
   "source": [
    "## Filtering with SQL"
   ]
  },
  {
   "cell_type": "code",
   "execution_count": 20,
   "id": "5534c890",
   "metadata": {
    "execution": {
     "iopub.execute_input": "2022-04-13T08:26:49.704234Z",
     "iopub.status.busy": "2022-04-13T08:26:49.703500Z",
     "iopub.status.idle": "2022-04-13T08:26:49.884956Z",
     "shell.execute_reply": "2022-04-13T08:26:49.884117Z",
     "shell.execute_reply.started": "2022-04-13T08:18:44.063086Z"
    },
    "papermill": {
     "duration": 0.330794,
     "end_time": "2022-04-13T08:26:49.885246",
     "exception": false,
     "start_time": "2022-04-13T08:26:49.554452",
     "status": "completed"
    },
    "tags": []
   },
   "outputs": [
    {
     "name": "stdout",
     "output_type": "stream",
     "text": [
      "+----+---------+------------+----------+------+------------+----------+------+--------------------+\n",
      "| mpg|cylinders|displacement|horsepower|weight|acceleration|model_year|origin|            car_name|\n",
      "+----+---------+------------+----------+------+------------+----------+------+--------------------+\n",
      "|24.0|        4|       113.0|        95|  2372|        15.0|        70|     3|toyota corona mar...|\n",
      "|25.0|        4|       113.0|        95|  2228|        14.0|        71|     3|       toyota corona|\n",
      "|31.0|        4|        71.0|        65|  1773|        19.0|        71|     3| toyota corolla 1200|\n",
      "|24.0|        4|       113.0|        95|  2278|        15.5|        72|     3|toyota corona har...|\n",
      "|27.0|        4|        97.0|        88|  2100|        16.5|        72|     3|toyota corolla 16...|\n",
      "+----+---------+------------+----------+------+------------+----------+------+--------------------+\n",
      "only showing top 5 rows\n",
      "\n"
     ]
    }
   ],
   "source": [
    "#Get the cars with 'toyota' in their names\n",
    "df.filter(\"car_name like '%toyota%'\").show(5)"
   ]
  },
  {
   "cell_type": "code",
   "execution_count": 21,
   "id": "b37051a3",
   "metadata": {
    "execution": {
     "iopub.execute_input": "2022-04-13T08:26:50.324338Z",
     "iopub.status.busy": "2022-04-13T08:26:50.323436Z",
     "iopub.status.idle": "2022-04-13T08:26:50.538735Z",
     "shell.execute_reply": "2022-04-13T08:26:50.537754Z",
     "shell.execute_reply.started": "2022-04-13T08:18:44.337403Z"
    },
    "papermill": {
     "duration": 0.40495,
     "end_time": "2022-04-13T08:26:50.538949",
     "exception": false,
     "start_time": "2022-04-13T08:26:50.133999",
     "status": "completed"
    },
    "tags": []
   },
   "outputs": [
    {
     "name": "stdout",
     "output_type": "stream",
     "text": [
      "+----+---------+------------+----------+------+------------+----------+------+--------------------+\n",
      "| mpg|cylinders|displacement|horsepower|weight|acceleration|model_year|origin|            car_name|\n",
      "+----+---------+------------+----------+------+------------+----------+------+--------------------+\n",
      "|24.0|        4|       113.0|        95|  2372|        15.0|        70|     3|toyota corona mar...|\n",
      "|27.0|        4|        97.0|        88|  2130|        14.5|        70|     3|        datsun pl510|\n",
      "|26.0|        4|        97.0|        46|  1835|        20.5|        70|     2|volkswagen 1131 d...|\n",
      "|25.0|        4|       110.0|        87|  2672|        17.5|        70|     2|         peugeot 504|\n",
      "|24.0|        4|       107.0|        90|  2430|        14.5|        70|     2|         audi 100 ls|\n",
      "+----+---------+------------+----------+------+------------+----------+------+--------------------+\n",
      "only showing top 5 rows\n",
      "\n"
     ]
    }
   ],
   "source": [
    "df.filter('mpg > 22').show(5)"
   ]
  },
  {
   "cell_type": "code",
   "execution_count": 22,
   "id": "4343a6dc",
   "metadata": {
    "execution": {
     "iopub.execute_input": "2022-04-13T08:26:50.942818Z",
     "iopub.status.busy": "2022-04-13T08:26:50.942107Z",
     "iopub.status.idle": "2022-04-13T08:26:51.116200Z",
     "shell.execute_reply": "2022-04-13T08:26:51.117024Z",
     "shell.execute_reply.started": "2022-04-13T08:18:44.574843Z"
    },
    "papermill": {
     "duration": 0.338807,
     "end_time": "2022-04-13T08:26:51.117303",
     "exception": false,
     "start_time": "2022-04-13T08:26:50.778496",
     "status": "completed"
    },
    "tags": []
   },
   "outputs": [
    {
     "name": "stdout",
     "output_type": "stream",
     "text": [
      "+----+---------+------------+----------+------+------------+----------+------+-------------+\n",
      "| mpg|cylinders|displacement|horsepower|weight|acceleration|model_year|origin|     car_name|\n",
      "+----+---------+------------+----------+------+------------+----------+------+-------------+\n",
      "|27.0|        4|        97.0|        88|  2130|        14.5|        70|     3| datsun pl510|\n",
      "|24.0|        4|       107.0|        90|  2430|        14.5|        70|     2|  audi 100 ls|\n",
      "|26.0|        4|       121.0|       113|  2234|        12.5|        70|     2|     bmw 2002|\n",
      "|27.0|        4|        97.0|        88|  2130|        14.5|        71|     3| datsun pl510|\n",
      "|25.0|        4|       113.0|        95|  2228|        14.0|        71|     3|toyota corona|\n",
      "+----+---------+------------+----------+------+------------+----------+------+-------------+\n",
      "only showing top 5 rows\n",
      "\n"
     ]
    }
   ],
   "source": [
    "#Multiple Conditions\n",
    "df.filter('mpg > 22 and acceleration < 15').show(5)"
   ]
  },
  {
   "cell_type": "code",
   "execution_count": 23,
   "id": "e782a3b3",
   "metadata": {
    "execution": {
     "iopub.execute_input": "2022-04-13T08:26:51.475864Z",
     "iopub.status.busy": "2022-04-13T08:26:51.474869Z",
     "iopub.status.idle": "2022-04-13T08:26:51.644797Z",
     "shell.execute_reply": "2022-04-13T08:26:51.643447Z",
     "shell.execute_reply.started": "2022-04-13T08:18:44.840345Z"
    },
    "papermill": {
     "duration": 0.314488,
     "end_time": "2022-04-13T08:26:51.645139",
     "exception": false,
     "start_time": "2022-04-13T08:26:51.330651",
     "status": "completed"
    },
    "tags": []
   },
   "outputs": [
    {
     "name": "stdout",
     "output_type": "stream",
     "text": [
      "+----------+------+--------------------+\n",
      "|horsepower|weight|            car_name|\n",
      "+----------+------+--------------------+\n",
      "|        88|  2957|         peugeot 504|\n",
      "|        88|  2740|pontiac sunbird c...|\n",
      "|        88|  2720| ford fairmont (man)|\n",
      "|        88|  2890|     ford fairmont 4|\n",
      "|        88|  2870|       ford fairmont|\n",
      "|        88|  2605|  chevrolet cavalier|\n",
      "|        88|  2640|chevrolet cavalie...|\n",
      "+----------+------+--------------------+\n",
      "\n"
     ]
    }
   ],
   "source": [
    "df.filter('horsepower == 88 and weight between 2600 and 3000') \\\n",
    ".select(['horsepower', 'weight', 'car_name']).show()"
   ]
  },
  {
   "cell_type": "markdown",
   "id": "0e4f5576",
   "metadata": {
    "papermill": {
     "duration": 0.141359,
     "end_time": "2022-04-13T08:26:51.969013",
     "exception": false,
     "start_time": "2022-04-13T08:26:51.827654",
     "status": "completed"
    },
    "tags": []
   },
   "source": [
    "# GroupBy and Aggregate Operations"
   ]
  },
  {
   "cell_type": "code",
   "execution_count": 24,
   "id": "d59f4f28",
   "metadata": {
    "execution": {
     "iopub.execute_input": "2022-04-13T08:26:52.259785Z",
     "iopub.status.busy": "2022-04-13T08:26:52.258744Z",
     "iopub.status.idle": "2022-04-13T08:26:52.664300Z",
     "shell.execute_reply": "2022-04-13T08:26:52.663261Z",
     "shell.execute_reply.started": "2022-04-13T08:18:45.126314Z"
    },
    "papermill": {
     "duration": 0.553492,
     "end_time": "2022-04-13T08:26:52.664515",
     "exception": false,
     "start_time": "2022-04-13T08:26:52.111023",
     "status": "completed"
    },
    "tags": []
   },
   "outputs": [
    {
     "name": "stdout",
     "output_type": "stream",
     "text": [
      "+----+---------+------------+----------+------+------------+----------+------+---------+\n",
      "| mpg|cylinders|displacement|horsepower|weight|acceleration|model_year|origin|    brand|\n",
      "+----+---------+------------+----------+------+------------+----------+------+---------+\n",
      "|18.0|        8|       307.0|       130|  3504|        12.0|        70|     1|chevrolet|\n",
      "|15.0|        8|       350.0|       165|  3693|        11.5|        70|     1|    buick|\n",
      "|18.0|        8|       318.0|       150|  3436|        11.0|        70|     1| plymouth|\n",
      "|16.0|        8|       304.0|       150|  3433|        12.0|        70|     1|      amc|\n",
      "|17.0|        8|       302.0|       140|  3449|        10.5|        70|     1|     ford|\n",
      "+----+---------+------------+----------+------+------------+----------+------+---------+\n",
      "only showing top 5 rows\n",
      "\n"
     ]
    }
   ],
   "source": [
    "#Brands\n",
    "df.createOrReplaceTempView('auto_mpg')\n",
    "\n",
    "df = df.withColumn('brand', split(df['car_name'], ' ').getItem(0)).drop('car_name')\n",
    "\n",
    "#Replacing Misspelled Brands\n",
    "auto_misspelled = {'chevroelt': 'chevrolet',\n",
    "                   'chevy': 'chevrolet',\n",
    "                   'vokswagen': 'volkswagen',\n",
    "                   'vw': 'volkswagen',\n",
    "                   'hi': 'harvester',\n",
    "                   'maxda': 'mazda',\n",
    "                   'toyouta': 'toyota',\n",
    "                   'mercedes-benz': 'mercedes'}\n",
    "\n",
    "for key in auto_misspelled.keys():\n",
    "    \n",
    "    df = df.withColumn('brand', regexp_replace('brand', key, auto_misspelled[key]))\n",
    "\n",
    "df.show(5)"
   ]
  },
  {
   "cell_type": "code",
   "execution_count": 25,
   "id": "f3529b58",
   "metadata": {
    "execution": {
     "iopub.execute_input": "2022-04-13T08:26:52.988368Z",
     "iopub.status.busy": "2022-04-13T08:26:52.987664Z",
     "iopub.status.idle": "2022-04-13T08:26:53.546237Z",
     "shell.execute_reply": "2022-04-13T08:26:53.545421Z",
     "shell.execute_reply.started": "2022-04-13T08:18:45.866191Z"
    },
    "papermill": {
     "duration": 0.708618,
     "end_time": "2022-04-13T08:26:53.546453",
     "exception": false,
     "start_time": "2022-04-13T08:26:52.837835",
     "status": "completed"
    },
    "tags": []
   },
   "outputs": [
    {
     "name": "stdout",
     "output_type": "stream",
     "text": [
      "+--------+------------------+\n",
      "|   brand| avg(acceleration)|\n",
      "+--------+------------------+\n",
      "|   buick|14.700000000000003|\n",
      "| pontiac|14.081249999999999|\n",
      "|mercedes| 19.53333333333333|\n",
      "|  toyota| 16.03846153846154|\n",
      "|    saab|            15.175|\n",
      "+--------+------------------+\n",
      "only showing top 5 rows\n",
      "\n"
     ]
    }
   ],
   "source": [
    "#Avg Acceleration by car brands\n",
    "df.groupBy('brand').agg({'acceleration': 'mean'}).show(5)"
   ]
  },
  {
   "cell_type": "code",
   "execution_count": 26,
   "id": "822606db",
   "metadata": {
    "execution": {
     "iopub.execute_input": "2022-04-13T08:26:54.014739Z",
     "iopub.status.busy": "2022-04-13T08:26:54.013861Z",
     "iopub.status.idle": "2022-04-13T08:26:54.446894Z",
     "shell.execute_reply": "2022-04-13T08:26:54.445980Z",
     "shell.execute_reply.started": "2022-04-13T08:18:46.682070Z"
    },
    "papermill": {
     "duration": 0.651746,
     "end_time": "2022-04-13T08:26:54.447093",
     "exception": false,
     "start_time": "2022-04-13T08:26:53.795347",
     "status": "completed"
    },
    "tags": []
   },
   "outputs": [
    {
     "name": "stdout",
     "output_type": "stream",
     "text": [
      "+--------+--------+\n",
      "|   brand|max(mpg)|\n",
      "+--------+--------+\n",
      "|   buick|    30.0|\n",
      "| pontiac|    33.5|\n",
      "|mercedes|    30.0|\n",
      "|  toyota|    39.1|\n",
      "|    saab|    25.0|\n",
      "+--------+--------+\n",
      "only showing top 5 rows\n",
      "\n"
     ]
    }
   ],
   "source": [
    "#Max MPG by car brands\n",
    "df.groupBy('brand').agg({'mpg': 'max'}).show(5)"
   ]
  },
  {
   "cell_type": "markdown",
   "id": "6bfffd34",
   "metadata": {
    "papermill": {
     "duration": 0.235744,
     "end_time": "2022-04-13T08:26:54.933786",
     "exception": false,
     "start_time": "2022-04-13T08:26:54.698042",
     "status": "completed"
    },
    "tags": []
   },
   "source": [
    "# Preprocessing\n",
    "\n",
    "## Encoding Brands"
   ]
  },
  {
   "cell_type": "code",
   "execution_count": 27,
   "id": "857b6533",
   "metadata": {
    "execution": {
     "iopub.execute_input": "2022-04-13T08:26:55.225116Z",
     "iopub.status.busy": "2022-04-13T08:26:55.224224Z",
     "iopub.status.idle": "2022-04-13T08:26:55.588912Z",
     "shell.execute_reply": "2022-04-13T08:26:55.588052Z",
     "shell.execute_reply.started": "2022-04-13T08:18:47.133512Z"
    },
    "papermill": {
     "duration": 0.508735,
     "end_time": "2022-04-13T08:26:55.589125",
     "exception": false,
     "start_time": "2022-04-13T08:26:55.080390",
     "status": "completed"
    },
    "tags": []
   },
   "outputs": [
    {
     "name": "stdout",
     "output_type": "stream",
     "text": [
      "+---------+-----+\n",
      "|    brand|count|\n",
      "+---------+-----+\n",
      "|     ford|   48|\n",
      "|chevrolet|   47|\n",
      "| plymouth|   31|\n",
      "|    dodge|   28|\n",
      "|      amc|   27|\n",
      "+---------+-----+\n",
      "only showing top 5 rows\n",
      "\n"
     ]
    }
   ],
   "source": [
    "#Check brand frequences first\n",
    "df.groupby('brand').count().orderBy('count', ascending = False).show(5)"
   ]
  },
  {
   "cell_type": "code",
   "execution_count": 28,
   "id": "d7c435c1",
   "metadata": {
    "execution": {
     "iopub.execute_input": "2022-04-13T08:26:56.001317Z",
     "iopub.status.busy": "2022-04-13T08:26:55.996177Z",
     "iopub.status.idle": "2022-04-13T08:26:57.321765Z",
     "shell.execute_reply": "2022-04-13T08:26:57.322506Z",
     "shell.execute_reply.started": "2022-04-13T08:18:47.643888Z"
    },
    "papermill": {
     "duration": 1.474519,
     "end_time": "2022-04-13T08:26:57.322740",
     "exception": false,
     "start_time": "2022-04-13T08:26:55.848221",
     "status": "completed"
    },
    "tags": []
   },
   "outputs": [
    {
     "name": "stdout",
     "output_type": "stream",
     "text": [
      "+----+---------+------------+----------+------+------------+----------+------+-------------------+\n",
      "| mpg|cylinders|displacement|horsepower|weight|acceleration|model_year|origin|brand_OneHotEncoded|\n",
      "+----+---------+------------+----------+------+------------+----------+------+-------------------+\n",
      "|18.0|        8|       307.0|       130|  3504|        12.0|        70|     1|     (29,[1],[1.0])|\n",
      "|15.0|        8|       350.0|       165|  3693|        11.5|        70|     1|     (29,[8],[1.0])|\n",
      "|18.0|        8|       318.0|       150|  3436|        11.0|        70|     1|     (29,[2],[1.0])|\n",
      "|16.0|        8|       304.0|       150|  3433|        12.0|        70|     1|     (29,[4],[1.0])|\n",
      "|17.0|        8|       302.0|       140|  3449|        10.5|        70|     1|     (29,[0],[1.0])|\n",
      "+----+---------+------------+----------+------+------------+----------+------+-------------------+\n",
      "only showing top 5 rows\n",
      "\n"
     ]
    }
   ],
   "source": [
    "def one_hot_encoder(dataframe, col):\n",
    "    \n",
    "    indexed = StringIndexer().setInputCol(col).setOutputCol(col + '_cat'). \\\n",
    "    fit(dataframe).transform(dataframe) #converting categorical values into category indices\n",
    "    \n",
    "    ohe = OneHotEncoder().setInputCol(col + '_cat').setOutputCol(col + '_OneHotEncoded'). \\\n",
    "    fit(indexed).transform(indexed)\n",
    "    \n",
    "    ohe = ohe.drop(*[col, col + '_cat'])\n",
    "    \n",
    "    return ohe\n",
    "\n",
    "df = one_hot_encoder(df, col = 'brand')\n",
    "df.show(5)"
   ]
  },
  {
   "cell_type": "code",
   "execution_count": 29,
   "id": "4c27eb4d",
   "metadata": {
    "execution": {
     "iopub.execute_input": "2022-04-13T08:26:57.727747Z",
     "iopub.status.busy": "2022-04-13T08:26:57.726593Z",
     "iopub.status.idle": "2022-04-13T08:26:58.006640Z",
     "shell.execute_reply": "2022-04-13T08:26:58.005117Z",
     "shell.execute_reply.started": "2022-04-13T08:18:49.331373Z"
    },
    "papermill": {
     "duration": 0.436014,
     "end_time": "2022-04-13T08:26:58.007048",
     "exception": false,
     "start_time": "2022-04-13T08:26:57.571034",
     "status": "completed"
    },
    "tags": []
   },
   "outputs": [
    {
     "name": "stdout",
     "output_type": "stream",
     "text": [
      "+----+--------------------+\n",
      "| mpg|            features|\n",
      "+----+--------------------+\n",
      "|18.0|(36,[0,1,2,3,4,5,...|\n",
      "|15.0|(36,[0,1,2,3,4,5,...|\n",
      "|18.0|(36,[0,1,2,3,4,5,...|\n",
      "|16.0|(36,[0,1,2,3,4,5,...|\n",
      "|17.0|(36,[0,1,2,3,4,5,...|\n",
      "+----+--------------------+\n",
      "only showing top 5 rows\n",
      "\n"
     ]
    }
   ],
   "source": [
    "#Vector Assembler\n",
    "def vector_assembler(dataframe, indep_cols):\n",
    "    \n",
    "    assembler = VectorAssembler(inputCols = indep_cols,\n",
    "                                outputCol = 'features')\n",
    "\n",
    "    output = assembler.transform(dataframe).drop(*indep_cols)\n",
    "    \n",
    "    return output\n",
    "\n",
    "df = vector_assembler(df, indep_cols = df.drop('mpg').columns)\n",
    "df.show(5)"
   ]
  },
  {
   "cell_type": "markdown",
   "id": "c91cfe1f",
   "metadata": {
    "papermill": {
     "duration": 0.141456,
     "end_time": "2022-04-13T08:26:58.298733",
     "exception": false,
     "start_time": "2022-04-13T08:26:58.157277",
     "status": "completed"
    },
    "tags": []
   },
   "source": [
    "## Train-Test Split"
   ]
  },
  {
   "cell_type": "code",
   "execution_count": 30,
   "id": "5a7da2d1",
   "metadata": {
    "execution": {
     "iopub.execute_input": "2022-04-13T08:26:58.590774Z",
     "iopub.status.busy": "2022-04-13T08:26:58.589916Z",
     "iopub.status.idle": "2022-04-13T08:26:59.307856Z",
     "shell.execute_reply": "2022-04-13T08:26:59.306367Z",
     "shell.execute_reply.started": "2022-04-13T08:18:49.738057Z"
    },
    "papermill": {
     "duration": 0.867202,
     "end_time": "2022-04-13T08:26:59.308215",
     "exception": false,
     "start_time": "2022-04-13T08:26:58.441013",
     "status": "completed"
    },
    "tags": []
   },
   "outputs": [
    {
     "name": "stdout",
     "output_type": "stream",
     "text": [
      "Train Shape: (314, 2)\n",
      "Test Shape: (78, 2)\n"
     ]
    }
   ],
   "source": [
    "train_data, test_data = df.randomSplit([0.8, 0.2])\n",
    "\n",
    "print('Train Shape: ({}, {})'.format(train_data.count(), len(train_data.columns)))\n",
    "print('Test Shape: ({}, {})'.format(test_data.count(), len(test_data.columns)))"
   ]
  },
  {
   "cell_type": "markdown",
   "id": "eb2f0d02",
   "metadata": {
    "papermill": {
     "duration": 0.180674,
     "end_time": "2022-04-13T08:26:59.741182",
     "exception": false,
     "start_time": "2022-04-13T08:26:59.560508",
     "status": "completed"
    },
    "tags": []
   },
   "source": [
    "# Multiple Linear Regression with PySpark\n",
    "\n",
    "## Fit the Model"
   ]
  },
  {
   "cell_type": "code",
   "execution_count": 31,
   "id": "0083ca2a",
   "metadata": {
    "execution": {
     "iopub.execute_input": "2022-04-13T08:27:00.033776Z",
     "iopub.status.busy": "2022-04-13T08:27:00.032978Z",
     "iopub.status.idle": "2022-04-13T08:27:01.215907Z",
     "shell.execute_reply": "2022-04-13T08:27:01.216510Z",
     "shell.execute_reply.started": "2022-04-13T08:18:50.574009Z"
    },
    "papermill": {
     "duration": 1.333832,
     "end_time": "2022-04-13T08:27:01.216751",
     "exception": false,
     "start_time": "2022-04-13T08:26:59.882919",
     "status": "completed"
    },
    "tags": []
   },
   "outputs": [],
   "source": [
    "lr = LinearRegression(labelCol = 'mpg',\n",
    "                      featuresCol = 'features',\n",
    "                      regParam = 0.3) #avoid overfitting\n",
    "\n",
    "lr = lr.fit(train_data)"
   ]
  },
  {
   "cell_type": "markdown",
   "id": "bf184ee4",
   "metadata": {
    "papermill": {
     "duration": 0.192929,
     "end_time": "2022-04-13T08:27:01.650656",
     "exception": false,
     "start_time": "2022-04-13T08:27:01.457727",
     "status": "completed"
    },
    "tags": []
   },
   "source": [
    "## Model Evaluation"
   ]
  },
  {
   "cell_type": "code",
   "execution_count": 32,
   "id": "5ee5a61a",
   "metadata": {
    "execution": {
     "iopub.execute_input": "2022-04-13T08:27:01.940269Z",
     "iopub.status.busy": "2022-04-13T08:27:01.939275Z",
     "iopub.status.idle": "2022-04-13T08:27:02.168671Z",
     "shell.execute_reply": "2022-04-13T08:27:02.169283Z",
     "shell.execute_reply.started": "2022-04-13T08:18:52.108218Z"
    },
    "papermill": {
     "duration": 0.376319,
     "end_time": "2022-04-13T08:27:02.169484",
     "exception": false,
     "start_time": "2022-04-13T08:27:01.793165",
     "status": "completed"
    },
    "tags": []
   },
   "outputs": [
    {
     "name": "stdout",
     "output_type": "stream",
     "text": [
      "------------------------LinearRegressionModel-------------------------\n",
      "R2: 0.8406180128873331\n",
      "MSE: 11.075581339462095\n",
      "RMSE: 3.327999600279738\n",
      "MAE: 2.603304358997713\n",
      "----------------------------------------------------------------------\n"
     ]
    }
   ],
   "source": [
    "def evaluate_reg_model(model, test_data):\n",
    "    \n",
    "    print(model.__class__.__name__.center(70, '-'))\n",
    "    model_results = model.evaluate(test_data)\n",
    "    print('R2: {}'.format(model_results.r2))\n",
    "    print('MSE: {}'.format(model_results.meanSquaredError))\n",
    "    print('RMSE: {}'.format(model_results.rootMeanSquaredError))\n",
    "    print('MAE: {}'.format(model_results.meanAbsoluteError))\n",
    "    print(70*'-')\n",
    "\n",
    "evaluate_reg_model(lr, test_data)"
   ]
  },
  {
   "cell_type": "code",
   "execution_count": 33,
   "id": "c02c545f",
   "metadata": {
    "execution": {
     "iopub.execute_input": "2022-04-13T08:27:02.460917Z",
     "iopub.status.busy": "2022-04-13T08:27:02.460220Z",
     "iopub.status.idle": "2022-04-13T08:27:02.930661Z",
     "shell.execute_reply": "2022-04-13T08:27:02.929962Z",
     "shell.execute_reply.started": "2022-04-13T08:18:52.420787Z"
    },
    "papermill": {
     "duration": 0.618903,
     "end_time": "2022-04-13T08:27:02.930802",
     "exception": false,
     "start_time": "2022-04-13T08:27:02.311899",
     "status": "completed"
    },
    "tags": []
   },
   "outputs": [],
   "source": [
    "#End Session\n",
    "spark.stop()"
   ]
  }
 ],
 "metadata": {
  "kernelspec": {
   "display_name": "Python 3",
   "language": "python",
   "name": "python3"
  },
  "language_info": {
   "codemirror_mode": {
    "name": "ipython",
    "version": 3
   },
   "file_extension": ".py",
   "mimetype": "text/x-python",
   "name": "python",
   "nbconvert_exporter": "python",
   "pygments_lexer": "ipython3",
   "version": "3.7.12"
  },
  "papermill": {
   "default_parameters": {},
   "duration": 94.192714,
   "end_time": "2022-04-13T08:27:03.884684",
   "environment_variables": {},
   "exception": null,
   "input_path": "__notebook__.ipynb",
   "output_path": "__notebook__.ipynb",
   "parameters": {},
   "start_time": "2022-04-13T08:25:29.691970",
   "version": "2.3.3"
  }
 },
 "nbformat": 4,
 "nbformat_minor": 5
}
