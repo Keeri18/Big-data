{
 "cells": [
  {
   "cell_type": "code",
   "execution_count": 1,
   "id": "2c3833e2",
   "metadata": {
    "execution": {
     "iopub.execute_input": "2022-04-13T08:55:47.943686Z",
     "iopub.status.busy": "2022-04-13T08:55:47.941960Z",
     "iopub.status.idle": "2022-04-13T08:56:35.771030Z",
     "shell.execute_reply": "2022-04-13T08:56:35.770173Z",
     "shell.execute_reply.started": "2022-04-13T08:28:43.610639Z"
    },
    "papermill": {
     "duration": 47.873303,
     "end_time": "2022-04-13T08:56:35.771200",
     "exception": false,
     "start_time": "2022-04-13T08:55:47.897897",
     "status": "completed"
    },
    "tags": []
   },
   "outputs": [
    {
     "name": "stdout",
     "output_type": "stream",
     "text": [
      "Collecting pyspark\r\n",
      "  Downloading pyspark-3.2.1.tar.gz (281.4 MB)\r\n",
      "     |████████████████████████████████| 281.4 MB 35 kB/s              \r\n",
      "\u001b[?25h  Preparing metadata (setup.py) ... \u001b[?25l-\b \b\\\b \bdone\r\n",
      "\u001b[?25hCollecting py4j==0.10.9.3\r\n",
      "  Downloading py4j-0.10.9.3-py2.py3-none-any.whl (198 kB)\r\n",
      "     |████████████████████████████████| 198 kB 42.5 MB/s            \r\n",
      "\u001b[?25hBuilding wheels for collected packages: pyspark\r\n",
      "  Building wheel for pyspark (setup.py) ... \u001b[?25l-\b \b\\\b \b|\b \b/\b \b-\b \b\\\b \b|\b \b/\b \b-\b \b\\\b \b|\b \b/\b \b-\b \b\\\b \b|\b \b/\b \b-\b \b\\\b \b|\b \b/\b \b-\b \b\\\b \b|\b \b/\b \b-\b \b\\\b \b|\b \b/\b \b-\b \b\\\b \b|\b \b/\b \b-\b \b\\\b \b|\b \b/\b \b-\b \b\\\b \b|\b \b/\b \b-\b \b\\\b \b|\b \b/\b \b-\b \b\\\b \b|\b \b/\b \b-\b \b\\\b \b|\b \b/\b \b-\b \b\\\b \b|\b \b/\b \b-\b \bdone\r\n",
      "\u001b[?25h  Created wheel for pyspark: filename=pyspark-3.2.1-py2.py3-none-any.whl size=281853642 sha256=a8f0ad89f0d25545144df9fbf881b990fc652ea5b6b43cf120b6094d73ff47b8\r\n",
      "  Stored in directory: /root/.cache/pip/wheels/9f/f5/07/7cd8017084dce4e93e84e92efd1e1d5334db05f2e83bcef74f\r\n",
      "Successfully built pyspark\r\n",
      "Installing collected packages: py4j, pyspark\r\n",
      "  Attempting uninstall: py4j\r\n",
      "    Found existing installation: py4j 0.10.9.4\r\n",
      "    Uninstalling py4j-0.10.9.4:\r\n",
      "      Successfully uninstalled py4j-0.10.9.4\r\n",
      "Successfully installed py4j-0.10.9.3 pyspark-3.2.1\r\n",
      "\u001b[33mWARNING: Running pip as the 'root' user can result in broken permissions and conflicting behaviour with the system package manager. It is recommended to use a virtual environment instead: https://pip.pypa.io/warnings/venv\u001b[0m\r\n"
     ]
    }
   ],
   "source": [
    "!pip install pyspark"
   ]
  },
  {
   "cell_type": "code",
   "execution_count": 2,
   "id": "de83dc0c",
   "metadata": {
    "execution": {
     "iopub.execute_input": "2022-04-13T08:56:36.159853Z",
     "iopub.status.busy": "2022-04-13T08:56:36.159138Z",
     "iopub.status.idle": "2022-04-13T08:56:37.310528Z",
     "shell.execute_reply": "2022-04-13T08:56:37.311234Z",
     "shell.execute_reply.started": "2022-04-13T08:29:30.857656Z"
    },
    "papermill": {
     "duration": 1.347938,
     "end_time": "2022-04-13T08:56:37.311415",
     "exception": false,
     "start_time": "2022-04-13T08:56:35.963477",
     "status": "completed"
    },
    "tags": []
   },
   "outputs": [],
   "source": [
    "import numpy as np # linear algebra\n",
    "import pandas as pd # data processing, CSV file I/O (e.g. pd.read_csv)\n",
    "import matplotlib.pyplot as plt\n",
    "import seaborn as sns\n",
    "import sklearn\n",
    "import random\n",
    "import os\n",
    "\n",
    "from pyspark.sql import SparkSession \n",
    "from pyspark.ml  import Pipeline     \n",
    "from pyspark.sql import SQLContext  \n",
    "from pyspark.sql.functions import mean,col,split, col, regexp_extract, when, lit\n",
    "from pyspark.ml.feature import StringIndexer, VectorAssembler\n",
    "from pyspark.ml.evaluation import MulticlassClassificationEvaluator\n",
    "from pyspark.ml.feature import QuantileDiscretizer"
   ]
  },
  {
   "cell_type": "markdown",
   "id": "8ec9f698",
   "metadata": {
    "papermill": {
     "duration": 0.182654,
     "end_time": "2022-04-13T08:56:37.678242",
     "exception": false,
     "start_time": "2022-04-13T08:56:37.495588",
     "status": "completed"
    },
    "tags": []
   },
   "source": [
    "# Classification model in Pyspark"
   ]
  },
  {
   "cell_type": "markdown",
   "id": "aec21b76",
   "metadata": {
    "papermill": {
     "duration": 0.184855,
     "end_time": "2022-04-13T08:56:38.045790",
     "exception": false,
     "start_time": "2022-04-13T08:56:37.860935",
     "status": "completed"
    },
    "tags": []
   },
   "source": [
    "# EDA in Pyspark"
   ]
  },
  {
   "cell_type": "code",
   "execution_count": 3,
   "id": "dbe306b6",
   "metadata": {
    "execution": {
     "iopub.execute_input": "2022-04-13T08:56:38.417145Z",
     "iopub.status.busy": "2022-04-13T08:56:38.416184Z",
     "iopub.status.idle": "2022-04-13T08:56:49.553324Z",
     "shell.execute_reply": "2022-04-13T08:56:49.551817Z",
     "shell.execute_reply.started": "2022-04-13T08:32:59.574048Z"
    },
    "papermill": {
     "duration": 11.323456,
     "end_time": "2022-04-13T08:56:49.553572",
     "exception": false,
     "start_time": "2022-04-13T08:56:38.230116",
     "status": "completed"
    },
    "tags": []
   },
   "outputs": [
    {
     "name": "stderr",
     "output_type": "stream",
     "text": [
      "WARNING: An illegal reflective access operation has occurred\n",
      "WARNING: Illegal reflective access by org.apache.spark.unsafe.Platform (file:/opt/conda/lib/python3.7/site-packages/pyspark/jars/spark-unsafe_2.12-3.2.1.jar) to constructor java.nio.DirectByteBuffer(long,int)\n",
      "WARNING: Please consider reporting this to the maintainers of org.apache.spark.unsafe.Platform\n",
      "WARNING: Use --illegal-access=warn to enable warnings of further illegal reflective access operations\n",
      "WARNING: All illegal access operations will be denied in a future release\n",
      "Using Spark's default log4j profile: org/apache/spark/log4j-defaults.properties\n",
      "Setting default log level to \"WARN\".\n",
      "To adjust logging level use sc.setLogLevel(newLevel). For SparkR, use setLogLevel(newLevel).\n",
      "22/04/13 08:56:41 WARN NativeCodeLoader: Unable to load native-hadoop library for your platform... using builtin-java classes where applicable\n",
      "                                                                                \r"
     ]
    }
   ],
   "source": [
    "# create sparkSession \n",
    "spark = SparkSession.builder.appName('Play with pyspark ML on titatic_dataset').getOrCreate()\n",
    "# After creating spark, we use spark.read.csv to read dataset, like pandas.read_csv\n",
    "df = spark.read.csv('../input/titanic-machine-learning-from-disaster/train.csv',header = 'True',inferSchema='True')"
   ]
  },
  {
   "cell_type": "code",
   "execution_count": 4,
   "id": "d5eadc32",
   "metadata": {
    "execution": {
     "iopub.execute_input": "2022-04-13T08:56:50.002701Z",
     "iopub.status.busy": "2022-04-13T08:56:49.994994Z",
     "iopub.status.idle": "2022-04-13T08:56:50.331410Z",
     "shell.execute_reply": "2022-04-13T08:56:50.331937Z",
     "shell.execute_reply.started": "2022-04-13T08:33:00.079278Z"
    },
    "papermill": {
     "duration": 0.528829,
     "end_time": "2022-04-13T08:56:50.332127",
     "exception": false,
     "start_time": "2022-04-13T08:56:49.803298",
     "status": "completed"
    },
    "tags": []
   },
   "outputs": [
    {
     "data": {
      "text/html": [
       "<div>\n",
       "<style scoped>\n",
       "    .dataframe tbody tr th:only-of-type {\n",
       "        vertical-align: middle;\n",
       "    }\n",
       "\n",
       "    .dataframe tbody tr th {\n",
       "        vertical-align: top;\n",
       "    }\n",
       "\n",
       "    .dataframe thead th {\n",
       "        text-align: right;\n",
       "    }\n",
       "</style>\n",
       "<table border=\"1\" class=\"dataframe\">\n",
       "  <thead>\n",
       "    <tr style=\"text-align: right;\">\n",
       "      <th></th>\n",
       "      <th>PassengerId</th>\n",
       "      <th>Survived</th>\n",
       "      <th>Pclass</th>\n",
       "      <th>Name</th>\n",
       "      <th>Sex</th>\n",
       "      <th>Age</th>\n",
       "      <th>SibSp</th>\n",
       "      <th>Parch</th>\n",
       "      <th>Ticket</th>\n",
       "      <th>Fare</th>\n",
       "      <th>Cabin</th>\n",
       "      <th>Embarked</th>\n",
       "    </tr>\n",
       "  </thead>\n",
       "  <tbody>\n",
       "    <tr>\n",
       "      <th>0</th>\n",
       "      <td>1</td>\n",
       "      <td>0</td>\n",
       "      <td>3</td>\n",
       "      <td>Braund, Mr. Owen Harris</td>\n",
       "      <td>male</td>\n",
       "      <td>22.0</td>\n",
       "      <td>1</td>\n",
       "      <td>0</td>\n",
       "      <td>A/5 21171</td>\n",
       "      <td>7.2500</td>\n",
       "      <td>None</td>\n",
       "      <td>S</td>\n",
       "    </tr>\n",
       "    <tr>\n",
       "      <th>1</th>\n",
       "      <td>2</td>\n",
       "      <td>1</td>\n",
       "      <td>1</td>\n",
       "      <td>Cumings, Mrs. John Bradley (Florence Briggs Th...</td>\n",
       "      <td>female</td>\n",
       "      <td>38.0</td>\n",
       "      <td>1</td>\n",
       "      <td>0</td>\n",
       "      <td>PC 17599</td>\n",
       "      <td>71.2833</td>\n",
       "      <td>C85</td>\n",
       "      <td>C</td>\n",
       "    </tr>\n",
       "    <tr>\n",
       "      <th>2</th>\n",
       "      <td>3</td>\n",
       "      <td>1</td>\n",
       "      <td>3</td>\n",
       "      <td>Heikkinen, Miss. Laina</td>\n",
       "      <td>female</td>\n",
       "      <td>26.0</td>\n",
       "      <td>0</td>\n",
       "      <td>0</td>\n",
       "      <td>STON/O2. 3101282</td>\n",
       "      <td>7.9250</td>\n",
       "      <td>None</td>\n",
       "      <td>S</td>\n",
       "    </tr>\n",
       "  </tbody>\n",
       "</table>\n",
       "</div>"
      ],
      "text/plain": [
       "   PassengerId  Survived  Pclass  \\\n",
       "0            1         0       3   \n",
       "1            2         1       1   \n",
       "2            3         1       3   \n",
       "\n",
       "                                                Name     Sex   Age  SibSp  \\\n",
       "0                            Braund, Mr. Owen Harris    male  22.0      1   \n",
       "1  Cumings, Mrs. John Bradley (Florence Briggs Th...  female  38.0      1   \n",
       "2                             Heikkinen, Miss. Laina  female  26.0      0   \n",
       "\n",
       "   Parch            Ticket     Fare Cabin Embarked  \n",
       "0      0         A/5 21171   7.2500  None        S  \n",
       "1      0          PC 17599  71.2833   C85        C  \n",
       "2      0  STON/O2. 3101282   7.9250  None        S  "
      ]
     },
     "execution_count": 4,
     "metadata": {},
     "output_type": "execute_result"
    }
   ],
   "source": [
    "df.limit(3).toPandas()"
   ]
  },
  {
   "cell_type": "code",
   "execution_count": 5,
   "id": "46d40687",
   "metadata": {
    "execution": {
     "iopub.execute_input": "2022-04-13T08:56:50.711424Z",
     "iopub.status.busy": "2022-04-13T08:56:50.710394Z",
     "iopub.status.idle": "2022-04-13T08:56:50.716628Z",
     "shell.execute_reply": "2022-04-13T08:56:50.716127Z",
     "shell.execute_reply.started": "2022-04-13T08:33:00.403815Z"
    },
    "papermill": {
     "duration": 0.197246,
     "end_time": "2022-04-13T08:56:50.716787",
     "exception": false,
     "start_time": "2022-04-13T08:56:50.519541",
     "status": "completed"
    },
    "tags": []
   },
   "outputs": [
    {
     "name": "stdout",
     "output_type": "stream",
     "text": [
      "root\n",
      " |-- PassengerId: integer (nullable = true)\n",
      " |-- Survived: integer (nullable = true)\n",
      " |-- Pclass: integer (nullable = true)\n",
      " |-- Name: string (nullable = true)\n",
      " |-- Sex: string (nullable = true)\n",
      " |-- Age: double (nullable = true)\n",
      " |-- SibSp: integer (nullable = true)\n",
      " |-- Parch: integer (nullable = true)\n",
      " |-- Ticket: string (nullable = true)\n",
      " |-- Fare: double (nullable = true)\n",
      " |-- Cabin: string (nullable = true)\n",
      " |-- Embarked: string (nullable = true)\n",
      "\n"
     ]
    }
   ],
   "source": [
    "df.printSchema()"
   ]
  },
  {
   "cell_type": "markdown",
   "id": "c6a05ce0",
   "metadata": {
    "papermill": {
     "duration": 0.185595,
     "end_time": "2022-04-13T08:56:51.089867",
     "exception": false,
     "start_time": "2022-04-13T08:56:50.904272",
     "status": "completed"
    },
    "tags": []
   },
   "source": [
    "### For visualization,before using visual library (matplotlib, seaborn, ..)we need to convert SparkDataframe to PandasDataFrame "
   ]
  },
  {
   "cell_type": "code",
   "execution_count": 6,
   "id": "a1572be6",
   "metadata": {
    "execution": {
     "iopub.execute_input": "2022-04-13T08:56:51.467845Z",
     "iopub.status.busy": "2022-04-13T08:56:51.467134Z",
     "iopub.status.idle": "2022-04-13T08:56:52.074341Z",
     "shell.execute_reply": "2022-04-13T08:56:52.074862Z",
     "shell.execute_reply.started": "2022-04-13T08:33:00.414452Z"
    },
    "papermill": {
     "duration": 0.799515,
     "end_time": "2022-04-13T08:56:52.075039",
     "exception": false,
     "start_time": "2022-04-13T08:56:51.275524",
     "status": "completed"
    },
    "tags": []
   },
   "outputs": [
    {
     "name": "stderr",
     "output_type": "stream",
     "text": [
      "/opt/conda/lib/python3.7/site-packages/seaborn/distributions.py:2619: FutureWarning: `distplot` is a deprecated function and will be removed in a future version. Please adapt your code to use either `displot` (a figure-level function with similar flexibility) or `histplot` (an axes-level function for histograms).\n",
      "  warnings.warn(msg, FutureWarning)\n"
     ]
    },
    {
     "data": {
      "image/png": "[encoded data removed]",
      "text/plain": [
       "<Figure size 720x360 with 1 Axes>"
      ]
     },
     "metadata": {
      "needs_background": "light"
     },
     "output_type": "display_data"
    }
   ],
   "source": [
    "pandas_df = df.toPandas()\n",
    "\n",
    "plt.figure(figsize=(10,5))\n",
    "plt.title('Age distribution among all Pasengers')\n",
    "sns.distplot(pandas_df['Age']);"
   ]
  },
  {
   "cell_type": "markdown",
   "id": "66f959e6",
   "metadata": {
    "papermill": {
     "duration": 0.185918,
     "end_time": "2022-04-13T08:56:52.451682",
     "exception": false,
     "start_time": "2022-04-13T08:56:52.265764",
     "status": "completed"
    },
    "tags": []
   },
   "source": [
    "## Checking null values in Pyspark\n",
    "\n",
    "* isnan() is a function of the pysparq.sql.function package, we have to set which column we want to use as an argument of the function. \n",
    "* isNull()\" belongs to pyspark.sql.Column package, to check the null status of a column\n"
   ]
  },
  {
   "cell_type": "code",
   "execution_count": 7,
   "id": "f204c810",
   "metadata": {
    "execution": {
     "iopub.execute_input": "2022-04-13T08:56:52.827864Z",
     "iopub.status.busy": "2022-04-13T08:56:52.827164Z",
     "iopub.status.idle": "2022-04-13T08:56:54.488532Z",
     "shell.execute_reply": "2022-04-13T08:56:54.487871Z",
     "shell.execute_reply.started": "2022-04-13T08:33:01.021639Z"
    },
    "papermill": {
     "duration": 1.851792,
     "end_time": "2022-04-13T08:56:54.488678",
     "exception": false,
     "start_time": "2022-04-13T08:56:52.636886",
     "status": "completed"
    },
    "tags": []
   },
   "outputs": [
    {
     "name": "stdout",
     "output_type": "stream",
     "text": [
      "+-----------+--------+------+----+---+---+-----+-----+------+----+-----+--------+\n",
      "|PassengerId|Survived|Pclass|Name|Sex|Age|SibSp|Parch|Ticket|Fare|Cabin|Embarked|\n",
      "+-----------+--------+------+----+---+---+-----+-----+------+----+-----+--------+\n",
      "|          0|       0|     0|   0|  0|177|    0|    0|     0|   0|  687|       2|\n",
      "+-----------+--------+------+----+---+---+-----+-----+------+----+-----+--------+\n",
      "\n"
     ]
    }
   ],
   "source": [
    "from pyspark.sql.functions import isnan, when, count, col\n",
    "df.select([count(when(isnan(c) | col(c).isNull(), c)).alias(c) for c in df.columns]).show()"
   ]
  },
  {
   "cell_type": "code",
   "execution_count": 8,
   "id": "bf42b177",
   "metadata": {
    "execution": {
     "iopub.execute_input": "2022-04-13T08:56:54.919056Z",
     "iopub.status.busy": "2022-04-13T08:56:54.918355Z",
     "iopub.status.idle": "2022-04-13T08:56:54.933134Z",
     "shell.execute_reply": "2022-04-13T08:56:54.932449Z",
     "shell.execute_reply.started": "2022-04-13T08:33:02.363019Z"
    },
    "papermill": {
     "duration": 0.211904,
     "end_time": "2022-04-13T08:56:54.933276",
     "exception": false,
     "start_time": "2022-04-13T08:56:54.721372",
     "status": "completed"
    },
    "tags": []
   },
   "outputs": [],
   "source": [
    "# Because Cabin column has a lot missing value ( > 50%) so we can remove it\n",
    "df = df.drop(\"Cabin\")"
   ]
  },
  {
   "cell_type": "markdown",
   "id": "25e771cb",
   "metadata": {
    "papermill": {
     "duration": 0.185504,
     "end_time": "2022-04-13T08:56:55.306162",
     "exception": false,
     "start_time": "2022-04-13T08:56:55.120658",
     "status": "completed"
    },
    "tags": []
   },
   "source": [
    "To replace these NaN values, we can assign them the mean age of the dataset.But the problem is, there were many people with many different ages. \n",
    "\n",
    "In 'Name' feature, we can see that the names have a salutation like Mr or Mrs. Thus we can assign the mean values of Mr and Mrs to the respective groups\n",
    "\n",
    "**Using the Regex \"\"[A-Za-z]+).\" we extract the initials from the Name. It looks for strings which lie between A-Z or a-z and followed by a .(dot).**"
   ]
  },
  {
   "cell_type": "code",
   "execution_count": 9,
   "id": "8123027f",
   "metadata": {
    "execution": {
     "iopub.execute_input": "2022-04-13T08:56:55.696282Z",
     "iopub.status.busy": "2022-04-13T08:56:55.695155Z",
     "iopub.status.idle": "2022-04-13T08:56:55.966094Z",
     "shell.execute_reply": "2022-04-13T08:56:55.966749Z",
     "shell.execute_reply.started": "2022-04-13T08:33:02.384033Z"
    },
    "papermill": {
     "duration": 0.473855,
     "end_time": "2022-04-13T08:56:55.966932",
     "exception": false,
     "start_time": "2022-04-13T08:56:55.493077",
     "status": "completed"
    },
    "tags": []
   },
   "outputs": [
    {
     "data": {
      "text/html": [
       "<div>\n",
       "<style scoped>\n",
       "    .dataframe tbody tr th:only-of-type {\n",
       "        vertical-align: middle;\n",
       "    }\n",
       "\n",
       "    .dataframe tbody tr th {\n",
       "        vertical-align: top;\n",
       "    }\n",
       "\n",
       "    .dataframe thead th {\n",
       "        text-align: right;\n",
       "    }\n",
       "</style>\n",
       "<table border=\"1\" class=\"dataframe\">\n",
       "  <thead>\n",
       "    <tr style=\"text-align: right;\">\n",
       "      <th></th>\n",
       "      <th>PassengerId</th>\n",
       "      <th>Survived</th>\n",
       "      <th>Pclass</th>\n",
       "      <th>Name</th>\n",
       "      <th>Sex</th>\n",
       "      <th>Age</th>\n",
       "      <th>SibSp</th>\n",
       "      <th>Parch</th>\n",
       "      <th>Ticket</th>\n",
       "      <th>Fare</th>\n",
       "      <th>Embarked</th>\n",
       "      <th>Initial</th>\n",
       "    </tr>\n",
       "  </thead>\n",
       "  <tbody>\n",
       "    <tr>\n",
       "      <th>0</th>\n",
       "      <td>1</td>\n",
       "      <td>0</td>\n",
       "      <td>3</td>\n",
       "      <td>Braund, Mr. Owen Harris</td>\n",
       "      <td>male</td>\n",
       "      <td>22.0</td>\n",
       "      <td>1</td>\n",
       "      <td>0</td>\n",
       "      <td>A/5 21171</td>\n",
       "      <td>7.2500</td>\n",
       "      <td>S</td>\n",
       "      <td>Mr</td>\n",
       "    </tr>\n",
       "    <tr>\n",
       "      <th>1</th>\n",
       "      <td>2</td>\n",
       "      <td>1</td>\n",
       "      <td>1</td>\n",
       "      <td>Cumings, Mrs. John Bradley (Florence Briggs Th...</td>\n",
       "      <td>female</td>\n",
       "      <td>38.0</td>\n",
       "      <td>1</td>\n",
       "      <td>0</td>\n",
       "      <td>PC 17599</td>\n",
       "      <td>71.2833</td>\n",
       "      <td>C</td>\n",
       "      <td>Mrs</td>\n",
       "    </tr>\n",
       "    <tr>\n",
       "      <th>2</th>\n",
       "      <td>3</td>\n",
       "      <td>1</td>\n",
       "      <td>3</td>\n",
       "      <td>Heikkinen, Miss. Laina</td>\n",
       "      <td>female</td>\n",
       "      <td>26.0</td>\n",
       "      <td>0</td>\n",
       "      <td>0</td>\n",
       "      <td>STON/O2. 3101282</td>\n",
       "      <td>7.9250</td>\n",
       "      <td>S</td>\n",
       "      <td>Miss</td>\n",
       "    </tr>\n",
       "  </tbody>\n",
       "</table>\n",
       "</div>"
      ],
      "text/plain": [
       "   PassengerId  Survived  Pclass  \\\n",
       "0            1         0       3   \n",
       "1            2         1       1   \n",
       "2            3         1       3   \n",
       "\n",
       "                                                Name     Sex   Age  SibSp  \\\n",
       "0                            Braund, Mr. Owen Harris    male  22.0      1   \n",
       "1  Cumings, Mrs. John Bradley (Florence Briggs Th...  female  38.0      1   \n",
       "2                             Heikkinen, Miss. Laina  female  26.0      0   \n",
       "\n",
       "   Parch            Ticket     Fare Embarked Initial  \n",
       "0      0         A/5 21171   7.2500        S      Mr  \n",
       "1      0          PC 17599  71.2833        C     Mrs  \n",
       "2      0  STON/O2. 3101282   7.9250        S    Miss  "
      ]
     },
     "execution_count": 9,
     "metadata": {},
     "output_type": "execute_result"
    }
   ],
   "source": [
    "df = df.withColumn(\"Initial\",regexp_extract(col(\"Name\"),\"([A-Za-z]+)\\.\",1))\n",
    "df.limit(3).toPandas()"
   ]
  },
  {
   "cell_type": "code",
   "execution_count": 10,
   "id": "6e1f0e36",
   "metadata": {
    "execution": {
     "iopub.execute_input": "2022-04-13T08:56:56.346874Z",
     "iopub.status.busy": "2022-04-13T08:56:56.345886Z",
     "iopub.status.idle": "2022-04-13T08:56:57.074160Z",
     "shell.execute_reply": "2022-04-13T08:56:57.075356Z",
     "shell.execute_reply.started": "2022-04-13T08:33:02.707825Z"
    },
    "papermill": {
     "duration": 0.920497,
     "end_time": "2022-04-13T08:56:57.075587",
     "exception": false,
     "start_time": "2022-04-13T08:56:56.155090",
     "status": "completed"
    },
    "tags": []
   },
   "outputs": [
    {
     "data": {
      "text/plain": [
       "[Row(Initial='Miss', avg(Age)=21.86),\n",
       " Row(Initial='Other', avg(Age)=45.888888888888886),\n",
       " Row(Initial='Master', avg(Age)=4.574166666666667),\n",
       " Row(Initial='Mr', avg(Age)=32.73960880195599),\n",
       " Row(Initial='Mrs', avg(Age)=35.981818181818184)]"
      ]
     },
     "execution_count": 10,
     "metadata": {},
     "output_type": "execute_result"
    }
   ],
   "source": [
    "# There are some misspelled Initials like Mlle or Mme that stand for Miss. we will replace them with Miss and same thing for other values.\n",
    "df = df.replace(['Mlle','Mme', 'Ms', 'Dr','Major','Lady','Countess','Jonkheer','Col','Rev','Capt','Sir','Don'],\n",
    "                        ['Miss','Miss','Miss','Mr','Mr',  'Mrs',  'Mrs',  'Other',  'Other','Other','Mr','Mr','Mr'])\n",
    "\n",
    "# Checking the average age by Initials\n",
    "df.groupby('Initial').avg('Age').collect()"
   ]
  },
  {
   "cell_type": "code",
   "execution_count": 11,
   "id": "6f1391de",
   "metadata": {
    "execution": {
     "iopub.execute_input": "2022-04-13T08:56:57.484853Z",
     "iopub.status.busy": "2022-04-13T08:56:57.483892Z",
     "iopub.status.idle": "2022-04-13T08:56:57.640155Z",
     "shell.execute_reply": "2022-04-13T08:56:57.639486Z",
     "shell.execute_reply.started": "2022-04-13T08:33:03.487755Z"
    },
    "papermill": {
     "duration": 0.346488,
     "end_time": "2022-04-13T08:56:57.640304",
     "exception": false,
     "start_time": "2022-04-13T08:56:57.293816",
     "status": "completed"
    },
    "tags": []
   },
   "outputs": [],
   "source": [
    "# Assigning missing values in age feature based on average age of Initials\n",
    "df = df.withColumn(\"Age\",when((df[\"Initial\"] == \"Miss\")   & (df[\"Age\"].isNull()), 22).otherwise(df[\"Age\"]))\n",
    "df = df.withColumn(\"Age\",when((df[\"Initial\"] == \"Other\")  & (df[\"Age\"].isNull()), 46).otherwise(df[\"Age\"]))\n",
    "df = df.withColumn(\"Age\",when((df[\"Initial\"] == \"Master\") & (df[\"Age\"].isNull()), 5).otherwise( df[\"Age\"]))\n",
    "df = df.withColumn(\"Age\",when((df[\"Initial\"] == \"Mr\")     & (df[\"Age\"].isNull()), 33).otherwise(df[\"Age\"]))\n",
    "df = df.withColumn(\"Age\",when((df[\"Initial\"] == \"Mrs\")    & (df[\"Age\"].isNull()), 36).otherwise(df[\"Age\"]))"
   ]
  },
  {
   "cell_type": "code",
   "execution_count": 12,
   "id": "29c1f7a4",
   "metadata": {
    "execution": {
     "iopub.execute_input": "2022-04-13T08:56:58.023447Z",
     "iopub.status.busy": "2022-04-13T08:56:58.022727Z",
     "iopub.status.idle": "2022-04-13T08:56:58.409049Z",
     "shell.execute_reply": "2022-04-13T08:56:58.408256Z",
     "shell.execute_reply.started": "2022-04-13T08:33:03.661682Z"
    },
    "papermill": {
     "duration": 0.577653,
     "end_time": "2022-04-13T08:56:58.409209",
     "exception": false,
     "start_time": "2022-04-13T08:56:57.831556",
     "status": "completed"
    },
    "tags": []
   },
   "outputs": [
    {
     "name": "stdout",
     "output_type": "stream",
     "text": [
      "+--------+-----+\n",
      "|Embarked|count|\n",
      "+--------+-----+\n",
      "|       Q|   77|\n",
      "|    null|    2|\n",
      "|       C|  168|\n",
      "|       S|  644|\n",
      "+--------+-----+\n",
      "\n"
     ]
    }
   ],
   "source": [
    "# Embarked columns has two missing values, let check it\n",
    "df.groupBy(\"Embarked\").count().show()"
   ]
  },
  {
   "cell_type": "markdown",
   "id": "452d720c",
   "metadata": {
    "papermill": {
     "duration": 0.188737,
     "end_time": "2022-04-13T08:56:58.788296",
     "exception": false,
     "start_time": "2022-04-13T08:56:58.599559",
     "status": "completed"
    },
    "tags": []
   },
   "source": [
    "# PysparkDataFrame.na.fill() to fill a value to specific column"
   ]
  },
  {
   "cell_type": "code",
   "execution_count": 13,
   "id": "7136df67",
   "metadata": {
    "execution": {
     "iopub.execute_input": "2022-04-13T08:56:59.178942Z",
     "iopub.status.busy": "2022-04-13T08:56:59.177857Z",
     "iopub.status.idle": "2022-04-13T08:57:00.918001Z",
     "shell.execute_reply": "2022-04-13T08:57:00.916985Z",
     "shell.execute_reply.started": "2022-04-13T08:33:04.100187Z"
    },
    "papermill": {
     "duration": 1.938826,
     "end_time": "2022-04-13T08:57:00.918208",
     "exception": false,
     "start_time": "2022-04-13T08:56:58.979382",
     "status": "completed"
    },
    "tags": []
   },
   "outputs": [
    {
     "name": "stdout",
     "output_type": "stream",
     "text": [
      "+-----------+--------+------+----+---+---+-----+-----+------+----+--------+-------+\n",
      "|PassengerId|Survived|Pclass|Name|Sex|Age|SibSp|Parch|Ticket|Fare|Embarked|Initial|\n",
      "+-----------+--------+------+----+---+---+-----+-----+------+----+--------+-------+\n",
      "|          0|       0|     0|   0|  0|  0|    0|    0|     0|   0|       0|      0|\n",
      "+-----------+--------+------+----+---+---+-----+-----+------+----+--------+-------+\n",
      "\n"
     ]
    }
   ],
   "source": [
    "# As we can see, Majority Passengers boarded from \"S\". We can assign missing value with \"S\"\n",
    "df = df.na.fill({\"Embarked\" : 'S'})\n",
    "# Check again the missing value status\n",
    "df.select([count(when(isnan(c) | col(c).isNull(), c)).alias(c) for c in df.columns]).show()"
   ]
  },
  {
   "cell_type": "markdown",
   "id": "b6715a40",
   "metadata": {
    "papermill": {
     "duration": 0.189433,
     "end_time": "2022-04-13T08:57:01.415658",
     "exception": false,
     "start_time": "2022-04-13T08:57:01.226225",
     "status": "completed"
    },
    "tags": []
   },
   "source": [
    "# simple feature engineering"
   ]
  },
  {
   "cell_type": "code",
   "execution_count": 14,
   "id": "a1493bf9",
   "metadata": {
    "execution": {
     "iopub.execute_input": "2022-04-13T08:57:01.798046Z",
     "iopub.status.busy": "2022-04-13T08:57:01.797271Z",
     "iopub.status.idle": "2022-04-13T08:57:03.443165Z",
     "shell.execute_reply": "2022-04-13T08:57:03.442486Z",
     "shell.execute_reply.started": "2022-04-13T08:33:06.469838Z"
    },
    "papermill": {
     "duration": 1.84002,
     "end_time": "2022-04-13T08:57:03.443312",
     "exception": false,
     "start_time": "2022-04-13T08:57:01.603292",
     "status": "completed"
    },
    "tags": []
   },
   "outputs": [],
   "source": [
    "df = df.withColumn(\"Family_Size\",col('SibSp')+col('Parch')) # Create new column: Family_size\n",
    "df = df.withColumn('Alone',lit(0))  # Create new column: Alone and assign 0 default value to Alone column\n",
    "df = df.withColumn(\"Alone\",when(df[\"Family_Size\"] == 0, 1).otherwise(df[\"Alone\"]))\n",
    "\n",
    "# converting Sex, Embarked & Initial columns from string to number using StringIndexer\n",
    "indexers = [StringIndexer(inputCol=column, outputCol=column+\"_index\").fit(df) for column in [\"Sex\",\"Embarked\",\"Initial\"]]\n",
    "pipeline = Pipeline(stages=indexers)\n",
    "df = pipeline.fit(df).transform(df)"
   ]
  },
  {
   "cell_type": "code",
   "execution_count": 15,
   "id": "e0cbb0d4",
   "metadata": {
    "execution": {
     "iopub.execute_input": "2022-04-13T08:57:03.831289Z",
     "iopub.status.busy": "2022-04-13T08:57:03.830213Z",
     "iopub.status.idle": "2022-04-13T08:57:04.938314Z",
     "shell.execute_reply": "2022-04-13T08:57:04.939634Z",
     "shell.execute_reply.started": "2022-04-13T08:33:08.298582Z"
    },
    "papermill": {
     "duration": 1.30459,
     "end_time": "2022-04-13T08:57:04.939915",
     "exception": false,
     "start_time": "2022-04-13T08:57:03.635325",
     "status": "completed"
    },
    "tags": []
   },
   "outputs": [
    {
     "data": {
      "text/html": [
       "<div>\n",
       "<style scoped>\n",
       "    .dataframe tbody tr th:only-of-type {\n",
       "        vertical-align: middle;\n",
       "    }\n",
       "\n",
       "    .dataframe tbody tr th {\n",
       "        vertical-align: top;\n",
       "    }\n",
       "\n",
       "    .dataframe thead th {\n",
       "        text-align: right;\n",
       "    }\n",
       "</style>\n",
       "<table border=\"1\" class=\"dataframe\">\n",
       "  <thead>\n",
       "    <tr style=\"text-align: right;\">\n",
       "      <th></th>\n",
       "      <th>PassengerId</th>\n",
       "      <th>Survived</th>\n",
       "      <th>Pclass</th>\n",
       "      <th>Name</th>\n",
       "      <th>Sex</th>\n",
       "      <th>Age</th>\n",
       "      <th>SibSp</th>\n",
       "      <th>Parch</th>\n",
       "      <th>Ticket</th>\n",
       "      <th>Fare</th>\n",
       "      <th>Embarked</th>\n",
       "      <th>Initial</th>\n",
       "      <th>Family_Size</th>\n",
       "      <th>Alone</th>\n",
       "      <th>Sex_index</th>\n",
       "      <th>Embarked_index</th>\n",
       "      <th>Initial_index</th>\n",
       "    </tr>\n",
       "  </thead>\n",
       "  <tbody>\n",
       "    <tr>\n",
       "      <th>0</th>\n",
       "      <td>1</td>\n",
       "      <td>0</td>\n",
       "      <td>3</td>\n",
       "      <td>Braund, Mr. Owen Harris</td>\n",
       "      <td>male</td>\n",
       "      <td>22.0</td>\n",
       "      <td>1</td>\n",
       "      <td>0</td>\n",
       "      <td>A/5 21171</td>\n",
       "      <td>7.2500</td>\n",
       "      <td>S</td>\n",
       "      <td>Mr</td>\n",
       "      <td>1</td>\n",
       "      <td>0</td>\n",
       "      <td>0.0</td>\n",
       "      <td>0.0</td>\n",
       "      <td>0.0</td>\n",
       "    </tr>\n",
       "    <tr>\n",
       "      <th>1</th>\n",
       "      <td>2</td>\n",
       "      <td>1</td>\n",
       "      <td>1</td>\n",
       "      <td>Cumings, Mrs. John Bradley (Florence Briggs Th...</td>\n",
       "      <td>female</td>\n",
       "      <td>38.0</td>\n",
       "      <td>1</td>\n",
       "      <td>0</td>\n",
       "      <td>PC 17599</td>\n",
       "      <td>71.2833</td>\n",
       "      <td>C</td>\n",
       "      <td>Mrs</td>\n",
       "      <td>1</td>\n",
       "      <td>0</td>\n",
       "      <td>1.0</td>\n",
       "      <td>1.0</td>\n",
       "      <td>2.0</td>\n",
       "    </tr>\n",
       "    <tr>\n",
       "      <th>2</th>\n",
       "      <td>3</td>\n",
       "      <td>1</td>\n",
       "      <td>3</td>\n",
       "      <td>Heikkinen, Miss. Laina</td>\n",
       "      <td>female</td>\n",
       "      <td>26.0</td>\n",
       "      <td>0</td>\n",
       "      <td>0</td>\n",
       "      <td>STON/O2. 3101282</td>\n",
       "      <td>7.9250</td>\n",
       "      <td>S</td>\n",
       "      <td>Miss</td>\n",
       "      <td>0</td>\n",
       "      <td>1</td>\n",
       "      <td>1.0</td>\n",
       "      <td>0.0</td>\n",
       "      <td>1.0</td>\n",
       "    </tr>\n",
       "  </tbody>\n",
       "</table>\n",
       "</div>"
      ],
      "text/plain": [
       "   PassengerId  Survived  Pclass  \\\n",
       "0            1         0       3   \n",
       "1            2         1       1   \n",
       "2            3         1       3   \n",
       "\n",
       "                                                Name     Sex   Age  SibSp  \\\n",
       "0                            Braund, Mr. Owen Harris    male  22.0      1   \n",
       "1  Cumings, Mrs. John Bradley (Florence Briggs Th...  female  38.0      1   \n",
       "2                             Heikkinen, Miss. Laina  female  26.0      0   \n",
       "\n",
       "   Parch            Ticket     Fare Embarked Initial  Family_Size  Alone  \\\n",
       "0      0         A/5 21171   7.2500        S      Mr            1      0   \n",
       "1      0          PC 17599  71.2833        C     Mrs            1      0   \n",
       "2      0  STON/O2. 3101282   7.9250        S    Miss            0      1   \n",
       "\n",
       "   Sex_index  Embarked_index  Initial_index  \n",
       "0        0.0             0.0            0.0  \n",
       "1        1.0             1.0            2.0  \n",
       "2        1.0             0.0            1.0  "
      ]
     },
     "execution_count": 15,
     "metadata": {},
     "output_type": "execute_result"
    }
   ],
   "source": [
    "df.limit(3).toPandas()"
   ]
  },
  {
   "cell_type": "code",
   "execution_count": 16,
   "id": "e5c2c5bb",
   "metadata": {
    "execution": {
     "iopub.execute_input": "2022-04-13T08:57:05.328200Z",
     "iopub.status.busy": "2022-04-13T08:57:05.327139Z",
     "iopub.status.idle": "2022-04-13T08:57:06.552504Z",
     "shell.execute_reply": "2022-04-13T08:57:06.553081Z",
     "shell.execute_reply.started": "2022-04-13T08:33:09.544629Z"
    },
    "papermill": {
     "duration": 1.422993,
     "end_time": "2022-04-13T08:57:06.553269",
     "exception": false,
     "start_time": "2022-04-13T08:57:05.130276",
     "status": "completed"
    },
    "tags": []
   },
   "outputs": [
    {
     "data": {
      "text/html": [
       "<div>\n",
       "<style scoped>\n",
       "    .dataframe tbody tr th:only-of-type {\n",
       "        vertical-align: middle;\n",
       "    }\n",
       "\n",
       "    .dataframe tbody tr th {\n",
       "        vertical-align: top;\n",
       "    }\n",
       "\n",
       "    .dataframe thead th {\n",
       "        text-align: right;\n",
       "    }\n",
       "</style>\n",
       "<table border=\"1\" class=\"dataframe\">\n",
       "  <thead>\n",
       "    <tr style=\"text-align: right;\">\n",
       "      <th></th>\n",
       "      <th>Survived</th>\n",
       "      <th>Pclass</th>\n",
       "      <th>Age</th>\n",
       "      <th>SibSp</th>\n",
       "      <th>Parch</th>\n",
       "      <th>Fare</th>\n",
       "      <th>Family_Size</th>\n",
       "      <th>Alone</th>\n",
       "      <th>Sex_index</th>\n",
       "      <th>Embarked_index</th>\n",
       "      <th>Initial_index</th>\n",
       "      <th>features</th>\n",
       "    </tr>\n",
       "  </thead>\n",
       "  <tbody>\n",
       "    <tr>\n",
       "      <th>0</th>\n",
       "      <td>0</td>\n",
       "      <td>3</td>\n",
       "      <td>22.0</td>\n",
       "      <td>1</td>\n",
       "      <td>0</td>\n",
       "      <td>7.2500</td>\n",
       "      <td>1</td>\n",
       "      <td>0</td>\n",
       "      <td>0.0</td>\n",
       "      <td>0.0</td>\n",
       "      <td>0.0</td>\n",
       "      <td>(3.0, 22.0, 1.0, 0.0, 7.25, 1.0, 0.0, 0.0, 0.0...</td>\n",
       "    </tr>\n",
       "    <tr>\n",
       "      <th>1</th>\n",
       "      <td>1</td>\n",
       "      <td>1</td>\n",
       "      <td>38.0</td>\n",
       "      <td>1</td>\n",
       "      <td>0</td>\n",
       "      <td>71.2833</td>\n",
       "      <td>1</td>\n",
       "      <td>0</td>\n",
       "      <td>1.0</td>\n",
       "      <td>1.0</td>\n",
       "      <td>2.0</td>\n",
       "      <td>[1.0, 38.0, 1.0, 0.0, 71.2833, 1.0, 0.0, 1.0, ...</td>\n",
       "    </tr>\n",
       "    <tr>\n",
       "      <th>2</th>\n",
       "      <td>1</td>\n",
       "      <td>3</td>\n",
       "      <td>26.0</td>\n",
       "      <td>0</td>\n",
       "      <td>0</td>\n",
       "      <td>7.9250</td>\n",
       "      <td>0</td>\n",
       "      <td>1</td>\n",
       "      <td>1.0</td>\n",
       "      <td>0.0</td>\n",
       "      <td>1.0</td>\n",
       "      <td>[3.0, 26.0, 0.0, 0.0, 7.925, 0.0, 1.0, 1.0, 0....</td>\n",
       "    </tr>\n",
       "  </tbody>\n",
       "</table>\n",
       "</div>"
      ],
      "text/plain": [
       "   Survived  Pclass   Age  SibSp  Parch     Fare  Family_Size  Alone  \\\n",
       "0         0       3  22.0      1      0   7.2500            1      0   \n",
       "1         1       1  38.0      1      0  71.2833            1      0   \n",
       "2         1       3  26.0      0      0   7.9250            0      1   \n",
       "\n",
       "   Sex_index  Embarked_index  Initial_index  \\\n",
       "0        0.0             0.0            0.0   \n",
       "1        1.0             1.0            2.0   \n",
       "2        1.0             0.0            1.0   \n",
       "\n",
       "                                            features  \n",
       "0  (3.0, 22.0, 1.0, 0.0, 7.25, 1.0, 0.0, 0.0, 0.0...  \n",
       "1  [1.0, 38.0, 1.0, 0.0, 71.2833, 1.0, 0.0, 1.0, ...  \n",
       "2  [3.0, 26.0, 0.0, 0.0, 7.925, 0.0, 1.0, 1.0, 0....  "
      ]
     },
     "execution_count": 16,
     "metadata": {},
     "output_type": "execute_result"
    }
   ],
   "source": [
    "# Now we drop columns that not needed for modelling\n",
    "df = df.drop(\"PassengerId\",\"Name\",\"Ticket\",\"Cabin\",\"Embarked\",\"Sex\",\"Initial\")\n",
    "\n",
    "# Before modelling in Pyspark, we need to put all features to Vector using Pyspark VectorAssembler\n",
    "feature = VectorAssembler(inputCols = df.columns[1:],outputCol=\"features\")\n",
    "feature_vector= feature.transform(df)\n",
    "feature_vector.limit(3).toPandas()"
   ]
  },
  {
   "cell_type": "code",
   "execution_count": 17,
   "id": "506a87c6",
   "metadata": {
    "execution": {
     "iopub.execute_input": "2022-04-13T08:57:06.944015Z",
     "iopub.status.busy": "2022-04-13T08:57:06.942917Z",
     "iopub.status.idle": "2022-04-13T08:57:06.965382Z",
     "shell.execute_reply": "2022-04-13T08:57:06.964777Z",
     "shell.execute_reply.started": "2022-04-13T08:33:10.836807Z"
    },
    "papermill": {
     "duration": 0.216625,
     "end_time": "2022-04-13T08:57:06.965521",
     "exception": false,
     "start_time": "2022-04-13T08:57:06.748896",
     "status": "completed"
    },
    "tags": []
   },
   "outputs": [],
   "source": [
    "# for data split in pyspark, we can use df.randomSplit()\n",
    "(train_df, test_df) = feature_vector.randomSplit([0.8, 0.2],seed = 11)"
   ]
  },
  {
   "cell_type": "code",
   "execution_count": 18,
   "id": "531a5060",
   "metadata": {
    "execution": {
     "iopub.execute_input": "2022-04-13T08:57:07.349974Z",
     "iopub.status.busy": "2022-04-13T08:57:07.349282Z",
     "iopub.status.idle": "2022-04-13T08:57:07.353097Z",
     "shell.execute_reply": "2022-04-13T08:57:07.353571Z",
     "shell.execute_reply.started": "2022-04-13T08:33:10.873744Z"
    },
    "papermill": {
     "duration": 0.197422,
     "end_time": "2022-04-13T08:57:07.353762",
     "exception": false,
     "start_time": "2022-04-13T08:57:07.156340",
     "status": "completed"
    },
    "tags": []
   },
   "outputs": [
    {
     "name": "stdout",
     "output_type": "stream",
     "text": [
      "root\n",
      " |-- Survived: integer (nullable = true)\n",
      " |-- Pclass: integer (nullable = true)\n",
      " |-- Age: double (nullable = true)\n",
      " |-- SibSp: integer (nullable = true)\n",
      " |-- Parch: integer (nullable = true)\n",
      " |-- Fare: double (nullable = true)\n",
      " |-- Family_Size: integer (nullable = true)\n",
      " |-- Alone: integer (nullable = false)\n",
      " |-- Sex_index: double (nullable = false)\n",
      " |-- Embarked_index: double (nullable = false)\n",
      " |-- Initial_index: double (nullable = false)\n",
      " |-- features: vector (nullable = true)\n",
      "\n"
     ]
    }
   ],
   "source": [
    "train_df.printSchema()"
   ]
  },
  {
   "cell_type": "markdown",
   "id": "1f93bc78",
   "metadata": {
    "papermill": {
     "duration": 0.188759,
     "end_time": "2022-04-13T08:57:07.732377",
     "exception": false,
     "start_time": "2022-04-13T08:57:07.543618",
     "status": "completed"
    },
    "tags": []
   },
   "source": [
    "# Machine learning in pyspark\n",
    "LogisticRegression\n",
    "RandomForestClassifier"
   ]
  },
  {
   "cell_type": "code",
   "execution_count": 19,
   "id": "fe3e2958",
   "metadata": {
    "execution": {
     "iopub.execute_input": "2022-04-13T08:57:08.116909Z",
     "iopub.status.busy": "2022-04-13T08:57:08.116233Z",
     "iopub.status.idle": "2022-04-13T08:57:08.141422Z",
     "shell.execute_reply": "2022-04-13T08:57:08.142010Z",
     "shell.execute_reply.started": "2022-04-13T08:33:10.883150Z"
    },
    "papermill": {
     "duration": 0.220692,
     "end_time": "2022-04-13T08:57:08.142184",
     "exception": false,
     "start_time": "2022-04-13T08:57:07.921492",
     "status": "completed"
    },
    "tags": []
   },
   "outputs": [],
   "source": [
    "# Select features column for features training and 'Survived' as label to predict\n",
    "titanic_df = feature_vector.select(['features','Survived'])\n",
    "# Split the dataset to train_df and test_df\n",
    "train_df,test_df = titanic_df.randomSplit([0.75,0.25])"
   ]
  },
  {
   "cell_type": "markdown",
   "id": "a7d789c9",
   "metadata": {
    "papermill": {
     "duration": 0.189935,
     "end_time": "2022-04-13T08:57:08.523029",
     "exception": false,
     "start_time": "2022-04-13T08:57:08.333094",
     "status": "completed"
    },
    "tags": []
   },
   "source": [
    "## Logistic regression"
   ]
  },
  {
   "cell_type": "code",
   "execution_count": 20,
   "id": "3a136e92",
   "metadata": {
    "execution": {
     "iopub.execute_input": "2022-04-13T08:57:08.911129Z",
     "iopub.status.busy": "2022-04-13T08:57:08.910447Z",
     "iopub.status.idle": "2022-04-13T08:57:33.570819Z",
     "shell.execute_reply": "2022-04-13T08:57:33.569971Z",
     "shell.execute_reply.started": "2022-04-13T08:33:10.924381Z"
    },
    "papermill": {
     "duration": 24.85907,
     "end_time": "2022-04-13T08:57:33.571032",
     "exception": false,
     "start_time": "2022-04-13T08:57:08.711962",
     "status": "completed"
    },
    "tags": []
   },
   "outputs": [
    {
     "name": "stdout",
     "output_type": "stream",
     "text": [
      "Accuracy:  0.8533333333333334\n",
      "Precision:  0.8552722394975916\n"
     ]
    }
   ],
   "source": [
    "# LOAD PYSPARK LIBRARIES\n",
    "from pyspark.ml.classification import LogisticRegression\n",
    "from pyspark.ml.tuning import ParamGridBuilder, TrainValidationSplit\n",
    "from pyspark.ml import Pipeline\n",
    "from pyspark.ml.evaluation import BinaryClassificationEvaluator\n",
    "from pyspark.ml.tuning import CrossValidator, ParamGridBuilder\n",
    "from sklearn.metrics import roc_curve,auc\n",
    "\n",
    "# DEFINE ALGORITHM \n",
    "lr = LogisticRegression(labelCol=\"Survived\")\n",
    "\n",
    "# DEFINE GRID PARAMETERS\n",
    "paramGrid = ParamGridBuilder().addGrid(lr.regParam, (0.01, 0.1))\\\n",
    "                              .addGrid(lr.maxIter, (5, 10))\\\n",
    "                              .addGrid(lr.tol, (1e-4, 1e-5))\\\n",
    "                              .addGrid(lr.elasticNetParam, (0.25,0.75))\\\n",
    "                              .build()\n",
    "\n",
    "# DEFINE CROSS VALIDATION WITH PARAMETERS\n",
    "tvs = TrainValidationSplit( estimator=lr\n",
    "                           ,estimatorParamMaps=paramGrid\n",
    "                           ,evaluator=MulticlassClassificationEvaluator(labelCol='Survived')\n",
    "                           ,trainRatio=0.8)\n",
    "model = tvs.fit(train_df)\n",
    "model_predictions= model.transform(test_df)\n",
    "\n",
    "print('Accuracy: ', MulticlassClassificationEvaluator(labelCol='Survived',metricName='accuracy').evaluate(model_predictions))\n",
    "print('Precision: ',MulticlassClassificationEvaluator(labelCol='Survived',metricName='weightedPrecision').evaluate(model_predictions))\n"
   ]
  },
  {
   "cell_type": "markdown",
   "id": "2e84ed38",
   "metadata": {
    "papermill": {
     "duration": 0.19095,
     "end_time": "2022-04-13T08:57:33.952974",
     "exception": false,
     "start_time": "2022-04-13T08:57:33.762024",
     "status": "completed"
    },
    "tags": []
   },
   "source": [
    "### Evaluating ROC metric"
   ]
  },
  {
   "cell_type": "code",
   "execution_count": 21,
   "id": "c292fefe",
   "metadata": {
    "execution": {
     "iopub.execute_input": "2022-04-13T08:57:34.351318Z",
     "iopub.status.busy": "2022-04-13T08:57:34.350567Z",
     "iopub.status.idle": "2022-04-13T08:57:36.479204Z",
     "shell.execute_reply": "2022-04-13T08:57:36.478208Z",
     "shell.execute_reply.started": "2022-04-13T08:33:36.898434Z"
    },
    "papermill": {
     "duration": 2.331593,
     "end_time": "2022-04-13T08:57:36.479421",
     "exception": false,
     "start_time": "2022-04-13T08:57:34.147828",
     "status": "completed"
    },
    "tags": []
   },
   "outputs": [
    {
     "name": "stderr",
     "output_type": "stream",
     "text": [
      "/opt/conda/lib/python3.7/site-packages/pyspark/sql/context.py:127: FutureWarning: Deprecated in 3.0.0. Use SparkSession.builder.getOrCreate() instead.\n",
      "  FutureWarning\n",
      "                                                                                \r"
     ]
    },
    {
     "name": "stdout",
     "output_type": "stream",
     "text": [
      "The ROC score is :  0.887778149573365\n"
     ]
    }
   ],
   "source": [
    "from pyspark.mllib.evaluation import BinaryClassificationMetrics as metric\n",
    "from pyspark import SparkContext\n",
    "sc =SparkContext.getOrCreate()   # We need to create SparkContext\n",
    "results = model_predictions.select(['probability', 'Survived'])\n",
    " \n",
    "## prepare score-label set\n",
    "results_collect = results.collect()\n",
    "results_list = [(float(i[0][0]), 1.0-float(i[1])) for i in results_collect]\n",
    "scoreAndLabels = sc.parallelize(results_list)\n",
    " \n",
    "metrics = metric(scoreAndLabels)\n",
    "print(\"The ROC score is : \", metrics.areaUnderROC)"
   ]
  },
  {
   "cell_type": "markdown",
   "id": "98275018",
   "metadata": {
    "papermill": {
     "duration": 0.195955,
     "end_time": "2022-04-13T08:57:36.995946",
     "exception": false,
     "start_time": "2022-04-13T08:57:36.799991",
     "status": "completed"
    },
    "tags": []
   },
   "source": [
    "### Visualizing AUC metrics"
   ]
  },
  {
   "cell_type": "code",
   "execution_count": 22,
   "id": "db4219f3",
   "metadata": {
    "execution": {
     "iopub.execute_input": "2022-04-13T08:57:37.421077Z",
     "iopub.status.busy": "2022-04-13T08:57:37.419986Z",
     "iopub.status.idle": "2022-04-13T08:57:37.625150Z",
     "shell.execute_reply": "2022-04-13T08:57:37.625605Z",
     "shell.execute_reply.started": "2022-04-13T08:33:39.263136Z"
    },
    "papermill": {
     "duration": 0.428437,
     "end_time": "2022-04-13T08:57:37.625825",
     "exception": false,
     "start_time": "2022-04-13T08:57:37.197388",
     "status": "completed"
    },
    "tags": []
   },
   "outputs": [
    {
     "data": {
      "image/png": "[encoded data removed]",
      "text/plain": [
       "<Figure size 432x288 with 1 Axes>"
      ]
     },
     "metadata": {
      "needs_background": "light"
     },
     "output_type": "display_data"
    }
   ],
   "source": [
    "from sklearn.metrics import roc_curve, auc\n",
    " \n",
    "fpr = dict()\n",
    "tpr = dict()\n",
    "roc_auc = dict()\n",
    " \n",
    "y_test = [i[1] for i in results_list]\n",
    "y_score = [i[0] for i in results_list]\n",
    " \n",
    "fpr, tpr, _ = roc_curve(y_test, y_score)\n",
    "roc_auc = auc(fpr, tpr)\n",
    " \n",
    "%matplotlib inline\n",
    "plt.figure()\n",
    "plt.plot(fpr, tpr, label='ROC curve (area = %0.2f)' % roc_auc)\n",
    "plt.plot([0, 1], [0, 1], 'k--')\n",
    "plt.xlim([0.0, 1.0])\n",
    "plt.ylim([0.0, 1.05])\n",
    "plt.xlabel('False Positive Rate')\n",
    "plt.ylabel('True Positive Rate')\n",
    "plt.title('Area under the ROC Curve')\n",
    "plt.legend(loc=\"lower right\")\n",
    "plt.show()"
   ]
  },
  {
   "cell_type": "markdown",
   "id": "244a867e",
   "metadata": {
    "papermill": {
     "duration": 0.210116,
     "end_time": "2022-04-13T08:57:38.044216",
     "exception": false,
     "start_time": "2022-04-13T08:57:37.834100",
     "status": "completed"
    },
    "tags": []
   },
   "source": [
    "## Random Forest"
   ]
  },
  {
   "cell_type": "code",
   "execution_count": 23,
   "id": "0122e9c6",
   "metadata": {
    "execution": {
     "iopub.execute_input": "2022-04-13T08:57:38.495334Z",
     "iopub.status.busy": "2022-04-13T08:57:38.494366Z",
     "iopub.status.idle": "2022-04-13T09:01:43.985143Z",
     "shell.execute_reply": "2022-04-13T09:01:43.984254Z",
     "shell.execute_reply.started": "2022-04-13T08:33:39.535524Z"
    },
    "papermill": {
     "duration": 245.729873,
     "end_time": "2022-04-13T09:01:43.985343",
     "exception": false,
     "start_time": "2022-04-13T08:57:38.255470",
     "status": "completed"
    },
    "tags": []
   },
   "outputs": [
    {
     "name": "stderr",
     "output_type": "stream",
     "text": [
      "22/04/13 08:58:55 WARN DAGScheduler: Broadcasting large task binary with size 1006.1 KiB\n",
      "22/04/13 08:58:56 WARN DAGScheduler: Broadcasting large task binary with size 1157.4 KiB\n",
      "22/04/13 08:58:56 WARN DAGScheduler: Broadcasting large task binary with size 1287.9 KiB\n",
      "22/04/13 08:59:01 WARN DAGScheduler: Broadcasting large task binary with size 1087.3 KiB\n",
      "22/04/13 08:59:01 WARN DAGScheduler: Broadcasting large task binary with size 1217.9 KiB\n",
      "22/04/13 08:59:25 WARN DAGScheduler: Broadcasting large task binary with size 1132.6 KiB\n",
      "22/04/13 08:59:25 WARN DAGScheduler: Broadcasting large task binary with size 1261.2 KiB\n",
      "22/04/13 08:59:30 WARN DAGScheduler: Broadcasting large task binary with size 1068.9 KiB\n",
      "22/04/13 08:59:30 WARN DAGScheduler: Broadcasting large task binary with size 1191.3 KiB\n",
      "22/04/13 08:59:51 WARN DAGScheduler: Broadcasting large task binary with size 1128.2 KiB\n",
      "22/04/13 08:59:51 WARN DAGScheduler: Broadcasting large task binary with size 1249.6 KiB\n",
      "22/04/13 08:59:56 WARN DAGScheduler: Broadcasting large task binary with size 1046.2 KiB\n",
      "22/04/13 08:59:56 WARN DAGScheduler: Broadcasting large task binary with size 1164.7 KiB\n",
      "22/04/13 09:00:10 WARN DAGScheduler: Broadcasting large task binary with size 1009.1 KiB\n",
      "22/04/13 09:00:10 WARN DAGScheduler: Broadcasting large task binary with size 1061.1 KiB\n",
      "22/04/13 09:00:10 WARN DAGScheduler: Broadcasting large task binary with size 1004.9 KiB\n",
      "22/04/13 09:00:16 WARN DAGScheduler: Broadcasting large task binary with size 1016.5 KiB\n",
      "22/04/13 09:00:16 WARN DAGScheduler: Broadcasting large task binary with size 1036.7 KiB\n",
      "22/04/13 09:00:21 WARN DAGScheduler: Broadcasting large task binary with size 1006.1 KiB\n",
      "22/04/13 09:00:21 WARN DAGScheduler: Broadcasting large task binary with size 1157.4 KiB\n",
      "22/04/13 09:00:21 WARN DAGScheduler: Broadcasting large task binary with size 1287.9 KiB\n",
      "22/04/13 09:00:21 WARN DAGScheduler: Broadcasting large task binary with size 1392.0 KiB\n",
      "22/04/13 09:00:21 WARN DAGScheduler: Broadcasting large task binary with size 1409.7 KiB\n",
      "22/04/13 09:00:22 WARN DAGScheduler: Broadcasting large task binary with size 1380.7 KiB\n",
      "22/04/13 09:00:22 WARN DAGScheduler: Broadcasting large task binary with size 1165.6 KiB\n",
      "22/04/13 09:00:22 WARN DAGScheduler: Broadcasting large task binary with size 1079.2 KiB\n",
      "22/04/13 09:00:27 WARN DAGScheduler: Broadcasting large task binary with size 1087.3 KiB\n",
      "22/04/13 09:00:27 WARN DAGScheduler: Broadcasting large task binary with size 1217.9 KiB\n",
      "22/04/13 09:00:28 WARN DAGScheduler: Broadcasting large task binary with size 1312.8 KiB\n",
      "22/04/13 09:00:28 WARN DAGScheduler: Broadcasting large task binary with size 1395.8 KiB\n",
      "22/04/13 09:00:28 WARN DAGScheduler: Broadcasting large task binary with size 1393.8 KiB\n",
      "22/04/13 09:00:28 WARN DAGScheduler: Broadcasting large task binary with size 1338.7 KiB\n",
      "22/04/13 09:00:28 WARN DAGScheduler: Broadcasting large task binary with size 1106.7 KiB\n",
      "22/04/13 09:00:29 WARN DAGScheduler: Broadcasting large task binary with size 1081.5 KiB\n",
      "22/04/13 09:00:43 WARN DAGScheduler: Broadcasting large task binary with size 1011.8 KiB\n",
      "22/04/13 09:00:43 WARN DAGScheduler: Broadcasting large task binary with size 1025.5 KiB\n",
      "22/04/13 09:00:49 WARN DAGScheduler: Broadcasting large task binary with size 1030.8 KiB\n",
      "22/04/13 09:00:49 WARN DAGScheduler: Broadcasting large task binary with size 1038.5 KiB\n",
      "22/04/13 09:00:49 WARN DAGScheduler: Broadcasting large task binary with size 1013.6 KiB\n",
      "22/04/13 09:00:54 WARN DAGScheduler: Broadcasting large task binary with size 1132.6 KiB\n",
      "22/04/13 09:00:54 WARN DAGScheduler: Broadcasting large task binary with size 1261.2 KiB\n",
      "22/04/13 09:00:54 WARN DAGScheduler: Broadcasting large task binary with size 1356.0 KiB\n",
      "22/04/13 09:00:55 WARN DAGScheduler: Broadcasting large task binary with size 1366.4 KiB\n",
      "22/04/13 09:00:55 WARN DAGScheduler: Broadcasting large task binary with size 1304.2 KiB\n",
      "22/04/13 09:00:55 WARN DAGScheduler: Broadcasting large task binary with size 1175.1 KiB\n",
      "22/04/13 09:00:56 WARN DAGScheduler: Broadcasting large task binary with size 1083.4 KiB\n",
      "22/04/13 09:01:01 WARN DAGScheduler: Broadcasting large task binary with size 1068.9 KiB\n",
      "22/04/13 09:01:01 WARN DAGScheduler: Broadcasting large task binary with size 1191.3 KiB\n",
      "22/04/13 09:01:01 WARN DAGScheduler: Broadcasting large task binary with size 1291.4 KiB\n",
      "22/04/13 09:01:01 WARN DAGScheduler: Broadcasting large task binary with size 1349.6 KiB\n",
      "22/04/13 09:01:01 WARN DAGScheduler: Broadcasting large task binary with size 1318.1 KiB\n",
      "22/04/13 09:01:01 WARN DAGScheduler: Broadcasting large task binary with size 1161.2 KiB\n",
      "22/04/13 09:01:02 WARN DAGScheduler: Broadcasting large task binary with size 1084.6 KiB\n",
      "22/04/13 09:01:16 WARN DAGScheduler: Broadcasting large task binary with size 1029.2 KiB\n",
      "22/04/13 09:01:16 WARN DAGScheduler: Broadcasting large task binary with size 1013.0 KiB\n",
      "22/04/13 09:01:27 WARN DAGScheduler: Broadcasting large task binary with size 1128.2 KiB\n",
      "22/04/13 09:01:27 WARN DAGScheduler: Broadcasting large task binary with size 1249.6 KiB\n",
      "22/04/13 09:01:27 WARN DAGScheduler: Broadcasting large task binary with size 1342.0 KiB\n",
      "22/04/13 09:01:27 WARN DAGScheduler: Broadcasting large task binary with size 1393.0 KiB\n",
      "22/04/13 09:01:28 WARN DAGScheduler: Broadcasting large task binary with size 1300.8 KiB\n",
      "22/04/13 09:01:28 WARN DAGScheduler: Broadcasting large task binary with size 1149.8 KiB\n",
      "22/04/13 09:01:28 WARN DAGScheduler: Broadcasting large task binary with size 1091.0 KiB\n",
      "22/04/13 09:01:33 WARN DAGScheduler: Broadcasting large task binary with size 1046.2 KiB\n",
      "22/04/13 09:01:34 WARN DAGScheduler: Broadcasting large task binary with size 1164.7 KiB\n",
      "22/04/13 09:01:34 WARN DAGScheduler: Broadcasting large task binary with size 1262.3 KiB\n",
      "22/04/13 09:01:34 WARN DAGScheduler: Broadcasting large task binary with size 1309.0 KiB\n",
      "22/04/13 09:01:34 WARN DAGScheduler: Broadcasting large task binary with size 1310.1 KiB\n",
      "22/04/13 09:01:34 WARN DAGScheduler: Broadcasting large task binary with size 1335.0 KiB\n",
      "22/04/13 09:01:34 WARN DAGScheduler: Broadcasting large task binary with size 1133.3 KiB\n",
      "22/04/13 09:01:35 WARN DAGScheduler: Broadcasting large task binary with size 1081.4 KiB\n"
     ]
    },
    {
     "name": "stdout",
     "output_type": "stream",
     "text": [
      "Accuracy:  0.8444444444444444\n",
      "Precision:  0.847181964573269\n"
     ]
    }
   ],
   "source": [
    "\n",
    "from pyspark.ml.classification import RandomForestClassifier\n",
    "from pyspark.ml.tuning import ParamGridBuilder, TrainValidationSplit\n",
    "rf = RandomForestClassifier(labelCol='Survived')\n",
    "paramGrid = ParamGridBuilder()\\\n",
    "                                .addGrid(rf.maxDepth, [5, 10, 20]) \\\n",
    "                                .addGrid(rf.maxBins, [20, 32, 50]) \\\n",
    "                                .addGrid(rf.numTrees, [20, 40, 60 ]) \\\n",
    "                                .addGrid(rf.impurity, [\"gini\", \"entropy\"]) \\\n",
    "                                .addGrid(rf.minInstancesPerNode, [1, 5, 10]) \\\n",
    "                                .build()\n",
    "\n",
    "\n",
    "tvs = TrainValidationSplit( estimator=rf\n",
    "                           ,estimatorParamMaps=paramGrid\n",
    "                           ,evaluator=MulticlassClassificationEvaluator(labelCol='Survived')\n",
    "                           ,trainRatio=0.8)\n",
    "model = tvs.fit(train_df)\n",
    "model_predictions= model.transform(test_df)\n",
    "\n",
    "\n",
    "print('Accuracy: ', MulticlassClassificationEvaluator(labelCol='Survived',metricName='accuracy').evaluate(model_predictions))\n",
    "print('Precision: ',MulticlassClassificationEvaluator(labelCol='Survived',metricName='weightedPrecision').evaluate(model_predictions))"
   ]
  },
  {
   "cell_type": "markdown",
   "id": "0ab87355",
   "metadata": {
    "papermill": {
     "duration": 0.230214,
     "end_time": "2022-04-13T09:01:44.428241",
     "exception": false,
     "start_time": "2022-04-13T09:01:44.198027",
     "status": "completed"
    },
    "tags": []
   },
   "source": [
    "### Evaluating ROC metrics"
   ]
  },
  {
   "cell_type": "code",
   "execution_count": 24,
   "id": "013025d7",
   "metadata": {
    "execution": {
     "iopub.execute_input": "2022-04-13T09:01:44.873644Z",
     "iopub.status.busy": "2022-04-13T09:01:44.872626Z",
     "iopub.status.idle": "2022-04-13T09:01:45.702578Z",
     "shell.execute_reply": "2022-04-13T09:01:45.701327Z",
     "shell.execute_reply.started": "2022-04-13T08:37:42.504746Z"
    },
    "papermill": {
     "duration": 1.046391,
     "end_time": "2022-04-13T09:01:45.702796",
     "exception": false,
     "start_time": "2022-04-13T09:01:44.656405",
     "status": "completed"
    },
    "tags": []
   },
   "outputs": [
    {
     "name": "stderr",
     "output_type": "stream",
     "text": [
      "/opt/conda/lib/python3.7/site-packages/pyspark/sql/context.py:127: FutureWarning: Deprecated in 3.0.0. Use SparkSession.builder.getOrCreate() instead.\n",
      "  FutureWarning\n"
     ]
    },
    {
     "name": "stdout",
     "output_type": "stream",
     "text": [
      "The ROC score is :  0.8752718755228378\n"
     ]
    }
   ],
   "source": [
    "sc =SparkContext.getOrCreate()   # We need to create SparkContext\n",
    "results = model_predictions.select(['probability', 'Survived'])\n",
    " \n",
    "## prepare score-label set\n",
    "results_collect = results.collect()\n",
    "results_list = [(float(i[0][0]), 1.0-float(i[1])) for i in results_collect]\n",
    "scoreAndLabels = sc.parallelize(results_list)\n",
    " \n",
    "metrics = metric(scoreAndLabels)\n",
    "print(\"The ROC score is : \", metrics.areaUnderROC)"
   ]
  },
  {
   "cell_type": "markdown",
   "id": "cdd650d4",
   "metadata": {
    "papermill": {
     "duration": 0.210798,
     "end_time": "2022-04-13T09:01:46.139358",
     "exception": false,
     "start_time": "2022-04-13T09:01:45.928560",
     "status": "completed"
    },
    "tags": []
   },
   "source": [
    "### Visualizing AUC metrics"
   ]
  },
  {
   "cell_type": "code",
   "execution_count": 25,
   "id": "c6a685ec",
   "metadata": {
    "execution": {
     "iopub.execute_input": "2022-04-13T09:01:46.582098Z",
     "iopub.status.busy": "2022-04-13T09:01:46.581430Z",
     "iopub.status.idle": "2022-04-13T09:01:46.790055Z",
     "shell.execute_reply": "2022-04-13T09:01:46.789219Z",
     "shell.execute_reply.started": "2022-04-13T08:37:43.331810Z"
    },
    "papermill": {
     "duration": 0.430509,
     "end_time": "2022-04-13T09:01:46.790212",
     "exception": false,
     "start_time": "2022-04-13T09:01:46.359703",
     "status": "completed"
    },
    "tags": []
   },
   "outputs": [
    {
     "data": {
      "image/png": "[encoded data removed]",
      "text/plain": [
       "<Figure size 432x288 with 1 Axes>"
      ]
     },
     "metadata": {
      "needs_background": "light"
     },
     "output_type": "display_data"
    }
   ],
   "source": [
    "fpr = dict()\n",
    "tpr = dict()\n",
    "roc_auc = dict()\n",
    " \n",
    "y_test = [i[1] for i in results_list]\n",
    "y_score = [i[0] for i in results_list]\n",
    " \n",
    "fpr, tpr, _ = roc_curve(y_test, y_score)\n",
    "roc_auc = auc(fpr, tpr)\n",
    " \n",
    "%matplotlib inline\n",
    "plt.figure()\n",
    "plt.plot(fpr, tpr, label='ROC curve (area = %0.2f)' % roc_auc)\n",
    "plt.plot([0, 1], [0, 1], 'k--')\n",
    "plt.xlim([0.0, 1.0])\n",
    "plt.ylim([0.0, 1.05])\n",
    "plt.xlabel('False Positive Rate')\n",
    "plt.ylabel('True Positive Rate')\n",
    "plt.title('Area under the ROC Curve')\n",
    "plt.legend(loc=\"lower right\")\n",
    "plt.show()"
   ]
  },
  {
   "cell_type": "code",
   "execution_count": null,
   "id": "d3c5733d",
   "metadata": {
    "papermill": {
     "duration": 0.238848,
     "end_time": "2022-04-13T09:01:47.240274",
     "exception": false,
     "start_time": "2022-04-13T09:01:47.001426",
     "status": "completed"
    },
    "tags": []
   },
   "outputs": [],
   "source": []
  }
 ],
 "metadata": {
  "kernelspec": {
   "display_name": "Python 3",
   "language": "python",
   "name": "python3"
  },
  "language_info": {
   "codemirror_mode": {
    "name": "ipython",
    "version": 3
   },
   "file_extension": ".py",
   "mimetype": "text/x-python",
   "name": "python",
   "nbconvert_exporter": "python",
   "pygments_lexer": "ipython3",
   "version": "3.7.12"
  },
  "papermill": {
   "default_parameters": {},
   "duration": 370.187862,
   "end_time": "2022-04-13T09:01:48.378133",
   "environment_variables": {},
   "exception": null,
   "input_path": "__notebook__.ipynb",
   "output_path": "__notebook__.ipynb",
   "parameters": {},
   "start_time": "2022-04-13T08:55:38.190271",
   "version": "2.3.3"
  }
 },
 "nbformat": 4,
 "nbformat_minor": 5
}
