{
 "cells": [
  {
   "cell_type": "markdown",
   "id": "6210a838",
   "metadata": {
    "id": "B0_lvTv_qwCW",
    "papermill": {
     "duration": 0.028169,
     "end_time": "2022-04-12T17:30:20.610373",
     "exception": false,
     "start_time": "2022-04-12T17:30:20.582204",
     "status": "completed"
    },
    "tags": []
   },
   "source": [
    "* # Spark SQL is a Spark module for structured data processing. \n",
    "* # There is more migration from HIVE to spark SQL\n",
    "* # HIVE limitations\n",
    "  > Lags in performance as it uses MapReduce jobs for executing ad-hoc queries\n",
    "  > does not allow resume a job processing from middle in case of failure\n",
    "\n",
    "\n",
    "\n"
   ]
  },
  {
   "cell_type": "markdown",
   "id": "a390821a",
   "metadata": {
    "id": "U0wlT2scwnOq",
    "papermill": {
     "duration": 0.026319,
     "end_time": "2022-04-12T17:30:20.663964",
     "exception": false,
     "start_time": "2022-04-12T17:30:20.637645",
     "status": "completed"
    },
    "tags": []
   },
   "source": [
    "#SPARK SQL Features\n",
    "  > is a module for structured data processing\n",
    "# Interact with spark SQL\n",
    "  > * dataframe API\n",
    "  > * dataset API\n",
    "  > * RDD API\n",
    "# Highly compatible with SQL based framework like HIVE\n",
    "# Can work on the data which are stored external in RDBMS outside to the big data  set up.\n",
    "# files in HDFS\n",
    "# Easily connect to spark SQL with JDBC or ODBC\n",
    "# Spark does not has its own storage"
   ]
  },
  {
   "cell_type": "code",
   "execution_count": 1,
   "id": "3f87ece8",
   "metadata": {
    "execution": {
     "iopub.execute_input": "2022-04-12T17:30:20.723666Z",
     "iopub.status.busy": "2022-04-12T17:30:20.721905Z",
     "iopub.status.idle": "2022-04-12T17:31:11.654561Z",
     "shell.execute_reply": "2022-04-12T17:31:11.655224Z",
     "shell.execute_reply.started": "2022-04-12T17:14:05.013128Z"
    },
    "papermill": {
     "duration": 50.965218,
     "end_time": "2022-04-12T17:31:11.656060",
     "exception": false,
     "start_time": "2022-04-12T17:30:20.690842",
     "status": "completed"
    },
    "tags": []
   },
   "outputs": [
    {
     "name": "stdout",
     "output_type": "stream",
     "text": [
      "Collecting pyspark\r\n",
      "  Downloading pyspark-3.2.1.tar.gz (281.4 MB)\r\n",
      "     |████████████████████████████████| 281.4 MB 29 kB/s              \r\n",
      "\u001b[?25h  Preparing metadata (setup.py) ... \u001b[?25l-\b \b\\\b \bdone\r\n",
      "\u001b[?25hCollecting py4j==0.10.9.3\r\n",
      "  Downloading py4j-0.10.9.3-py2.py3-none-any.whl (198 kB)\r\n",
      "     |████████████████████████████████| 198 kB 56.4 MB/s            \r\n",
      "\u001b[?25hBuilding wheels for collected packages: pyspark\r\n",
      "  Building wheel for pyspark (setup.py) ... \u001b[?25l-\b \b\\\b \b|\b \b/\b \b-\b \b\\\b \b|\b \b/\b \b-\b \b\\\b \b|\b \b/\b \b-\b \b\\\b \b|\b \b/\b \b-\b \b\\\b \b|\b \b/\b \b-\b \b\\\b \b|\b \b/\b \b-\b \b\\\b \b|\b \b/\b \b-\b \b\\\b \b|\b \b/\b \b-\b \b\\\b \b|\b \b/\b \b-\b \b\\\b \b|\b \b/\b \b-\b \b\\\b \b|\b \b/\b \b-\b \b\\\b \b|\b \b/\b \b-\b \b\\\b \b|\b \b/\b \b-\b \b\\\b \b|\b \b/\b \b-\b \b\\\b \bdone\r\n",
      "\u001b[?25h  Created wheel for pyspark: filename=pyspark-3.2.1-py2.py3-none-any.whl size=281853642 sha256=c4122a0636b4f52f6a0ebd98f2c90cf501280f0a927df566748c46c20d671cae\r\n",
      "  Stored in directory: /root/.cache/pip/wheels/9f/f5/07/7cd8017084dce4e93e84e92efd1e1d5334db05f2e83bcef74f\r\n",
      "Successfully built pyspark\r\n",
      "Installing collected packages: py4j, pyspark\r\n",
      "  Attempting uninstall: py4j\r\n",
      "    Found existing installation: py4j 0.10.9.4\r\n",
      "    Uninstalling py4j-0.10.9.4:\r\n",
      "      Successfully uninstalled py4j-0.10.9.4\r\n",
      "Successfully installed py4j-0.10.9.3 pyspark-3.2.1\r\n",
      "\u001b[33mWARNING: Running pip as the 'root' user can result in broken permissions and conflicting behaviour with the system package manager. It is recommended to use a virtual environment instead: https://pip.pypa.io/warnings/venv\u001b[0m\r\n",
      "Note: you may need to restart the kernel to use updated packages.\n"
     ]
    }
   ],
   "source": [
    "pip install pyspark"
   ]
  },
  {
   "cell_type": "code",
   "execution_count": 2,
   "id": "ba508f7c",
   "metadata": {
    "execution": {
     "iopub.execute_input": "2022-04-12T17:31:12.064228Z",
     "iopub.status.busy": "2022-04-12T17:31:12.063581Z",
     "iopub.status.idle": "2022-04-12T17:31:17.207700Z",
     "shell.execute_reply": "2022-04-12T17:31:17.208417Z",
     "shell.execute_reply.started": "2022-04-12T17:15:24.761545Z"
    },
    "id": "HTaqrOgk1MeV",
    "papermill": {
     "duration": 5.345947,
     "end_time": "2022-04-12T17:31:17.208624",
     "exception": false,
     "start_time": "2022-04-12T17:31:11.862677",
     "status": "completed"
    },
    "tags": []
   },
   "outputs": [
    {
     "name": "stderr",
     "output_type": "stream",
     "text": [
      "WARNING: An illegal reflective access operation has occurred\n",
      "WARNING: Illegal reflective access by org.apache.spark.unsafe.Platform (file:/opt/conda/lib/python3.7/site-packages/pyspark/jars/spark-unsafe_2.12-3.2.1.jar) to constructor java.nio.DirectByteBuffer(long,int)\n",
      "WARNING: Please consider reporting this to the maintainers of org.apache.spark.unsafe.Platform\n",
      "WARNING: Use --illegal-access=warn to enable warnings of further illegal reflective access operations\n",
      "WARNING: All illegal access operations will be denied in a future release\n",
      "Using Spark's default log4j profile: org/apache/spark/log4j-defaults.properties\n",
      "Setting default log level to \"WARN\".\n",
      "To adjust logging level use sc.setLogLevel(newLevel). For SparkR, use setLogLevel(newLevel).\n",
      "22/04/12 17:31:15 WARN NativeCodeLoader: Unable to load native-hadoop library for your platform... using builtin-java classes where applicable\n"
     ]
    }
   ],
   "source": [
    "import pyspark\n",
    "from pyspark.context import SparkContext \n",
    "from pyspark.sql import SparkSession  #Connect spark code on top of spark engine\n",
    "from pyspark import SparkConf \n",
    "sc = SparkContext.getOrCreate(SparkConf().setMaster(\"local[4]\"))"
   ]
  },
  {
   "cell_type": "markdown",
   "id": "bc0b7d0d",
   "metadata": {
    "id": "MMQtPk1U2RB4",
    "papermill": {
     "duration": 0.197968,
     "end_time": "2022-04-12T17:31:17.611075",
     "exception": false,
     "start_time": "2022-04-12T17:31:17.413107",
     "status": "completed"
    },
    "tags": []
   },
   "source": [
    "The architecture contains three layers namely, Language API, Schema RDD, and Data Sources.\n",
    "\n",
    "Language API − Spark is compatible with different languages and Spark SQL. It is also, supported by these languages- API (python, scala, java, HiveQL).\n",
    "\n",
    "Schema RDD − Spark Core is designed with special data structure called RDD. Generally, Spark SQL works on schemas, tables, and records. Therefore, we can use the Schema RDD as temporary table. We can call this Schema RDD as Data Frame.\n",
    "\n",
    "Data Sources − Usually the Data source for spark-core is a text file, Avro file, etc. However, the Data Sources for Spark SQL is different. Those are Parquet file, JSON document, HIVE tables, and Cassandra database.![spark_sql_architecture.jpg](data:image/jpeg;base64,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)"
   ]
  },
  {
   "cell_type": "code",
   "execution_count": 3,
   "id": "95c3a0c8",
   "metadata": {
    "execution": {
     "iopub.execute_input": "2022-04-12T17:31:18.007533Z",
     "iopub.status.busy": "2022-04-12T17:31:18.006551Z",
     "iopub.status.idle": "2022-04-12T17:31:18.022612Z",
     "shell.execute_reply": "2022-04-12T17:31:18.023273Z",
     "shell.execute_reply.started": "2022-04-12T17:15:31.490676Z"
    },
    "id": "sBLZ8T181Nnx",
    "outputId": "e8c022a8-70e7-400a-d52f-e24bb8aef5fe",
    "papermill": {
     "duration": 0.213382,
     "end_time": "2022-04-12T17:31:18.023483",
     "exception": false,
     "start_time": "2022-04-12T17:31:17.810101",
     "status": "completed"
    },
    "tags": []
   },
   "outputs": [
    {
     "name": "stdout",
     "output_type": "stream",
     "text": [
      "Populating the interactive namespace from numpy and matplotlib\n"
     ]
    }
   ],
   "source": [
    "import sys\n",
    "from pyspark import SparkContext\n",
    "from pyspark.sql import SQLContext\n",
    "from pyspark.sql.types import Row, StructField, StructType, StringType, IntegerType\n",
    "%pylab inline"
   ]
  },
  {
   "cell_type": "markdown",
   "id": "33cf7446",
   "metadata": {
    "id": "A1QmuCgPBqgz",
    "papermill": {
     "duration": 0.212872,
     "end_time": "2022-04-12T17:31:18.424072",
     "exception": false,
     "start_time": "2022-04-12T17:31:18.211200",
     "status": "completed"
    },
    "tags": []
   },
   "source": [
    "# SQLContext similar to SparkContext"
   ]
  },
  {
   "cell_type": "code",
   "execution_count": 4,
   "id": "87360115",
   "metadata": {
    "execution": {
     "iopub.execute_input": "2022-04-12T17:31:18.833515Z",
     "iopub.status.busy": "2022-04-12T17:31:18.832416Z",
     "iopub.status.idle": "2022-04-12T17:31:18.999749Z",
     "shell.execute_reply": "2022-04-12T17:31:19.000507Z",
     "shell.execute_reply.started": "2022-04-12T17:15:36.277979Z"
    },
    "id": "9XGlOFh9BplM",
    "outputId": "9e894294-1426-43bd-cb10-39baa2e95fcf",
    "papermill": {
     "duration": 0.364593,
     "end_time": "2022-04-12T17:31:19.000734",
     "exception": false,
     "start_time": "2022-04-12T17:31:18.636141",
     "status": "completed"
    },
    "tags": []
   },
   "outputs": [
    {
     "name": "stderr",
     "output_type": "stream",
     "text": [
      "/opt/conda/lib/python3.7/site-packages/pyspark/sql/context.py:79: FutureWarning: Deprecated in 3.0.0. Use SparkSession.builder.getOrCreate() instead.\n",
      "  FutureWarning\n"
     ]
    },
    {
     "data": {
      "text/plain": [
       "<pyspark.sql.context.SQLContext at 0x7f4ad62957d0>"
      ]
     },
     "execution_count": 4,
     "metadata": {},
     "output_type": "execute_result"
    }
   ],
   "source": [
    "sqlContext = SQLContext(sc)\n",
    "sqlContext"
   ]
  },
  {
   "cell_type": "markdown",
   "id": "9387e3d0",
   "metadata": {
    "id": "Aicri1jhCLAd",
    "papermill": {
     "duration": 0.189259,
     "end_time": "2022-04-12T17:31:19.413554",
     "exception": false,
     "start_time": "2022-04-12T17:31:19.224295",
     "status": "completed"
    },
    "tags": []
   },
   "source": [
    "# Creating DataFrames\n",
    "DataFrames can be created from an existing RDD, from a Hive table, or from Spark data sources."
   ]
  },
  {
   "cell_type": "code",
   "execution_count": 5,
   "id": "6971e05c",
   "metadata": {
    "execution": {
     "iopub.execute_input": "2022-04-12T17:31:19.806050Z",
     "iopub.status.busy": "2022-04-12T17:31:19.804982Z",
     "iopub.status.idle": "2022-04-12T17:31:20.882236Z",
     "shell.execute_reply": "2022-04-12T17:31:20.883276Z",
     "shell.execute_reply.started": "2022-04-12T17:15:40.548533Z"
    },
    "id": "7HaOSLzBCW3k",
    "outputId": "66caa162-7c79-4a3d-dd4e-efb2eb32db08",
    "papermill": {
     "duration": 1.278354,
     "end_time": "2022-04-12T17:31:20.883586",
     "exception": false,
     "start_time": "2022-04-12T17:31:19.605232",
     "status": "completed"
    },
    "tags": []
   },
   "outputs": [
    {
     "data": {
      "text/plain": [
       "[Row(name='Manoj Mukund', age=59),\n",
       " Row(name='Hari Kumar', age=65),\n",
       " Row(name='Vivek Ram', age=65),\n",
       " Row(name='Mr. John', age=19)]"
      ]
     },
     "execution_count": 5,
     "metadata": {},
     "output_type": "execute_result"
    }
   ],
   "source": [
    "# Define an RDD  \n",
    "rdd1 = sc.parallelize([Row(name=\"Manoj Mukund\", age=59),\n",
    "                           Row(name=\"Hari Kumar\", age=65),\n",
    "                           Row(name=\"Vivek Ram\", age=65),\n",
    "                           Row(name=\"Mr. John\", age=19)])\n",
    "rdd1.collect()"
   ]
  },
  {
   "cell_type": "code",
   "execution_count": 6,
   "id": "93f4ff1b",
   "metadata": {
    "execution": {
     "iopub.execute_input": "2022-04-12T17:31:21.311883Z",
     "iopub.status.busy": "2022-04-12T17:31:21.311016Z",
     "iopub.status.idle": "2022-04-12T17:31:25.619587Z",
     "shell.execute_reply": "2022-04-12T17:31:25.618529Z",
     "shell.execute_reply.started": "2022-04-12T17:15:44.700963Z"
    },
    "id": "NLWD4SZfDTRX",
    "outputId": "ddeb93d9-4486-453b-eca7-def93a4e707c",
    "papermill": {
     "duration": 4.499625,
     "end_time": "2022-04-12T17:31:25.619794",
     "exception": false,
     "start_time": "2022-04-12T17:31:21.120169",
     "status": "completed"
    },
    "tags": []
   },
   "outputs": [
    {
     "name": "stderr",
     "output_type": "stream",
     "text": [
      "                                                                                \r"
     ]
    },
    {
     "name": "stdout",
     "output_type": "stream",
     "text": [
      "root\n",
      " |-- name: string (nullable = true)\n",
      " |-- age: long (nullable = true)\n",
      "\n"
     ]
    }
   ],
   "source": [
    "# The DataFrame is a Dataset of Rows in Scala and Java API, In Python, it’s possible to access a DataFrame’s columns either by attribute (df.age) or by indexing (df['age']).\n",
    "# Infer schema from the first row, create a DataFrame and print the schema\n",
    "df1 = sqlContext.createDataFrame(rdd1)\n",
    "df1.printSchema()"
   ]
  },
  {
   "cell_type": "code",
   "execution_count": 7,
   "id": "35a0c07f",
   "metadata": {
    "execution": {
     "iopub.execute_input": "2022-04-12T17:31:26.029448Z",
     "iopub.status.busy": "2022-04-12T17:31:26.028449Z",
     "iopub.status.idle": "2022-04-12T17:31:27.757589Z",
     "shell.execute_reply": "2022-04-12T17:31:27.756571Z",
     "shell.execute_reply.started": "2022-04-12T17:15:49.909532Z"
    },
    "id": "MLtAhIE0KPmH",
    "outputId": "386835e7-e6bb-42e5-fbcd-b69c71f3c427",
    "papermill": {
     "duration": 1.929722,
     "end_time": "2022-04-12T17:31:27.757824",
     "exception": false,
     "start_time": "2022-04-12T17:31:25.828102",
     "status": "completed"
    },
    "tags": []
   },
   "outputs": [
    {
     "name": "stdout",
     "output_type": "stream",
     "text": [
      "+------------+\n",
      "|        name|\n",
      "+------------+\n",
      "|Manoj Mukund|\n",
      "|  Hari Kumar|\n",
      "|   Vivek Ram|\n",
      "|    Mr. John|\n",
      "+------------+\n",
      "\n"
     ]
    }
   ],
   "source": [
    "# Select only the \"name\" column\n",
    "df1.select(\"name\").show()"
   ]
  },
  {
   "cell_type": "code",
   "execution_count": 8,
   "id": "92237df3",
   "metadata": {
    "execution": {
     "iopub.execute_input": "2022-04-12T17:31:28.266150Z",
     "iopub.status.busy": "2022-04-12T17:31:28.265392Z",
     "iopub.status.idle": "2022-04-12T17:31:28.787521Z",
     "shell.execute_reply": "2022-04-12T17:31:28.786784Z",
     "shell.execute_reply.started": "2022-04-12T17:15:54.925875Z"
    },
    "id": "OO-loC11KmPk",
    "outputId": "3c4465e5-ce45-4c9a-f1b5-ee1f09de0a8f",
    "papermill": {
     "duration": 0.732135,
     "end_time": "2022-04-12T17:31:28.787669",
     "exception": false,
     "start_time": "2022-04-12T17:31:28.055534",
     "status": "completed"
    },
    "tags": []
   },
   "outputs": [
    {
     "name": "stdout",
     "output_type": "stream",
     "text": [
      "+------------+---------+\n",
      "|        name|(age + 1)|\n",
      "+------------+---------+\n",
      "|Manoj Mukund|       60|\n",
      "|  Hari Kumar|       66|\n",
      "|   Vivek Ram|       66|\n",
      "|    Mr. John|       20|\n",
      "+------------+---------+\n",
      "\n"
     ]
    }
   ],
   "source": [
    "# Select everybody, but increment the age by 1\n",
    "df1.select(df1['name'], df1['age'] + 1).show()"
   ]
  },
  {
   "cell_type": "code",
   "execution_count": 9,
   "id": "cd533e91",
   "metadata": {
    "execution": {
     "iopub.execute_input": "2022-04-12T17:31:29.255323Z",
     "iopub.status.busy": "2022-04-12T17:31:29.252977Z",
     "iopub.status.idle": "2022-04-12T17:31:29.634978Z",
     "shell.execute_reply": "2022-04-12T17:31:29.634131Z",
     "shell.execute_reply.started": "2022-04-12T17:15:57.926568Z"
    },
    "id": "QudCTn6rKsqs",
    "outputId": "50d1dcf3-895c-4284-9bf7-c2f712f1091b",
    "papermill": {
     "duration": 0.623325,
     "end_time": "2022-04-12T17:31:29.635197",
     "exception": false,
     "start_time": "2022-04-12T17:31:29.011872",
     "status": "completed"
    },
    "tags": []
   },
   "outputs": [
    {
     "name": "stdout",
     "output_type": "stream",
     "text": [
      "+------------+---+\n",
      "|        name|age|\n",
      "+------------+---+\n",
      "|Manoj Mukund| 59|\n",
      "|  Hari Kumar| 65|\n",
      "|   Vivek Ram| 65|\n",
      "+------------+---+\n",
      "\n"
     ]
    }
   ],
   "source": [
    "# Select people older than 55\n",
    "df1.filter(df1['age'] > 55).show()"
   ]
  },
  {
   "cell_type": "code",
   "execution_count": 10,
   "id": "677a6a72",
   "metadata": {
    "execution": {
     "iopub.execute_input": "2022-04-12T17:31:30.056380Z",
     "iopub.status.busy": "2022-04-12T17:31:30.055507Z",
     "iopub.status.idle": "2022-04-12T17:31:31.156557Z",
     "shell.execute_reply": "2022-04-12T17:31:31.155235Z",
     "shell.execute_reply.started": "2022-04-12T17:16:00.075679Z"
    },
    "id": "n_iE9FXyK0GQ",
    "outputId": "a73d6905-acb6-404c-ba49-db5427605c5f",
    "papermill": {
     "duration": 1.299104,
     "end_time": "2022-04-12T17:31:31.156820",
     "exception": false,
     "start_time": "2022-04-12T17:31:29.857716",
     "status": "completed"
    },
    "tags": []
   },
   "outputs": [
    {
     "name": "stdout",
     "output_type": "stream",
     "text": [
      "+---+-----+\n",
      "|age|count|\n",
      "+---+-----+\n",
      "| 59|    1|\n",
      "| 65|    2|\n",
      "| 19|    1|\n",
      "+---+-----+\n",
      "\n"
     ]
    }
   ],
   "source": [
    "# Count people by age\n",
    "df1.groupBy(\"age\").count().show()"
   ]
  },
  {
   "cell_type": "code",
   "execution_count": 11,
   "id": "84501d83",
   "metadata": {
    "execution": {
     "iopub.execute_input": "2022-04-12T17:31:31.568256Z",
     "iopub.status.busy": "2022-04-12T17:31:31.567204Z",
     "iopub.status.idle": "2022-04-12T17:31:31.802756Z",
     "shell.execute_reply": "2022-04-12T17:31:31.801511Z",
     "shell.execute_reply.started": "2022-04-12T17:16:04.477462Z"
    },
    "id": "0yjXId0rL7St",
    "outputId": "4dc43804-1873-4de6-e810-13a0ac08dd79",
    "papermill": {
     "duration": 0.438202,
     "end_time": "2022-04-12T17:31:31.803009",
     "exception": false,
     "start_time": "2022-04-12T17:31:31.364807",
     "status": "completed"
    },
    "tags": []
   },
   "outputs": [
    {
     "name": "stdout",
     "output_type": "stream",
     "text": [
      "<class 'pyspark.rdd.RDD'> <class 'pyspark.sql.dataframe.DataFrame'>\n",
      "df1_name= [Row(name='Manoj Mukund', age=59), Row(name='Hari Kumar', age=65), Row(name='Vivek Ram', age=65), Row(name='Mr. John', age=19)]\n",
      "rdd1_name= [Row(name='Manoj Mukund', age=59), Row(name='Hari Kumar', age=65), Row(name='Vivek Ram', age=65), Row(name='Mr. John', age=19)]\n"
     ]
    }
   ],
   "source": [
    "# A dataframe is an RDD of rows plus information on the schema.\n",
    "# performing **collect()* on either the RDD or the DataFrame gives the same result.\n",
    "print(type(rdd1),type(df1))\n",
    "print('df1_name=',df1.collect())\n",
    "print('rdd1_name=',rdd1.collect())"
   ]
  },
  {
   "cell_type": "code",
   "execution_count": 12,
   "id": "cead300a",
   "metadata": {
    "execution": {
     "iopub.execute_input": "2022-04-12T17:31:32.212209Z",
     "iopub.status.busy": "2022-04-12T17:31:32.211544Z",
     "iopub.status.idle": "2022-04-12T17:31:32.216295Z",
     "shell.execute_reply": "2022-04-12T17:31:32.216786Z",
     "shell.execute_reply.started": "2022-04-12T17:16:07.157489Z"
    },
    "id": "ISnaQSmpBZnV",
    "papermill": {
     "duration": 0.206088,
     "end_time": "2022-04-12T17:31:32.216964",
     "exception": false,
     "start_time": "2022-04-12T17:31:32.010876",
     "status": "completed"
    },
    "tags": []
   },
   "outputs": [],
   "source": [
    "from pyspark.sql import SparkSession\n",
    "spark = SparkSession.builder.appName(\"pySparkdf\").getOrCreate()"
   ]
  },
  {
   "cell_type": "code",
   "execution_count": 13,
   "id": "b0ca75d9",
   "metadata": {
    "execution": {
     "iopub.execute_input": "2022-04-12T17:31:32.608758Z",
     "iopub.status.busy": "2022-04-12T17:31:32.607758Z",
     "iopub.status.idle": "2022-04-12T17:31:32.610909Z",
     "shell.execute_reply": "2022-04-12T17:31:32.611491Z",
     "shell.execute_reply.started": "2022-04-12T17:16:13.107544Z"
    },
    "id": "vLOfq8GXB8RA",
    "papermill": {
     "duration": 0.202711,
     "end_time": "2022-04-12T17:31:32.611651",
     "exception": false,
     "start_time": "2022-04-12T17:31:32.408940",
     "status": "completed"
    },
    "tags": []
   },
   "outputs": [],
   "source": [
    "spark = SparkSession.builder.appName(\"pySpark csv df\").getOrCreate()"
   ]
  },
  {
   "cell_type": "code",
   "execution_count": 14,
   "id": "e614c317",
   "metadata": {
    "execution": {
     "iopub.execute_input": "2022-04-12T17:31:32.997056Z",
     "iopub.status.busy": "2022-04-12T17:31:32.994909Z",
     "iopub.status.idle": "2022-04-12T17:31:34.331196Z",
     "shell.execute_reply": "2022-04-12T17:31:34.330562Z",
     "shell.execute_reply.started": "2022-04-12T17:16:54.570884Z"
    },
    "id": "D9R4s_Q1CrEx",
    "outputId": "d2d83302-828e-46d4-d4a7-9c086fcbedea",
    "papermill": {
     "duration": 1.53013,
     "end_time": "2022-04-12T17:31:34.331362",
     "exception": false,
     "start_time": "2022-04-12T17:31:32.801232",
     "status": "completed"
    },
    "tags": []
   },
   "outputs": [
    {
     "name": "stdout",
     "output_type": "stream",
     "text": [
      "<class 'pyspark.sql.dataframe.DataFrame'>\n",
      "+-------------------+---------+--------+---------+-----------+--------+------+----------+----+---------+----------+-------------+--------+------------+--------------------+---------+--------+-------+\n",
      "|                _c0|      _c1|     _c2|      _c3|        _c4|     _c5|   _c6|       _c7| _c8|      _c9|      _c10|         _c11|    _c12|        _c13|                _c14|     _c15|    _c16|   _c17|\n",
      "+-------------------+---------+--------+---------+-----------+--------+------+----------+----+---------+----------+-------------+--------+------------+--------------------+---------+--------+-------+\n",
      "|               date|    price|bedrooms|bathrooms|sqft_living|sqft_lot|floors|waterfront|view|condition|sqft_above|sqft_basement|yr_built|yr_renovated|              street|     city|statezip|country|\n",
      "|2014-05-02 00:00:00| 313000.0|     3.0|      1.5|       1340|    7912|   1.5|         0|   0|        3|      1340|            0|    1955|        2005|18810 Densmore Ave N|Shoreline|WA 98133|    USA|\n",
      "|2014-05-02 00:00:00|2384000.0|     5.0|      2.5|       3650|    9050|   2.0|         0|   4|        5|      3370|          280|    1921|           0|     709 W Blaine St|  Seattle|WA 98119|    USA|\n",
      "|2014-05-02 00:00:00| 342000.0|     3.0|      2.0|       1930|   11947|   1.0|         0|   0|        4|      1930|            0|    1966|           0|26206-26214 143rd...|     Kent|WA 98042|    USA|\n",
      "|2014-05-02 00:00:00| 420000.0|     3.0|     2.25|       2000|    8030|   1.0|         0|   0|        4|      1000|         1000|    1963|           0|     857 170th Pl NE| Bellevue|WA 98008|    USA|\n",
      "+-------------------+---------+--------+---------+-----------+--------+------+----------+----+---------+----------+-------------+--------+------------+--------------------+---------+--------+-------+\n",
      "only showing top 5 rows\n",
      "\n"
     ]
    }
   ],
   "source": [
    "df = spark.read.csv(\"../input/housedata/data.csv\")\n",
    "print(type(df))\n",
    "df.show(5)"
   ]
  },
  {
   "cell_type": "code",
   "execution_count": 15,
   "id": "cb9ef374",
   "metadata": {
    "execution": {
     "iopub.execute_input": "2022-04-12T17:31:34.733887Z",
     "iopub.status.busy": "2022-04-12T17:31:34.733184Z",
     "iopub.status.idle": "2022-04-12T17:31:35.527329Z",
     "shell.execute_reply": "2022-04-12T17:31:35.526337Z",
     "shell.execute_reply.started": "2022-04-12T17:17:21.130444Z"
    },
    "id": "hGIG8vTcC4vB",
    "outputId": "df3ef6f4-df22-4b9a-8d4a-4e5c7e1fb035",
    "papermill": {
     "duration": 0.993333,
     "end_time": "2022-04-12T17:31:35.527592",
     "exception": false,
     "start_time": "2022-04-12T17:31:34.534259",
     "status": "completed"
    },
    "tags": []
   },
   "outputs": [
    {
     "name": "stdout",
     "output_type": "stream",
     "text": [
      "root\n",
      " |-- date: string (nullable = true)\n",
      " |-- price: double (nullable = true)\n",
      " |-- bedrooms: double (nullable = true)\n",
      " |-- bathrooms: double (nullable = true)\n",
      " |-- sqft_living: integer (nullable = true)\n",
      " |-- sqft_lot: integer (nullable = true)\n",
      " |-- floors: double (nullable = true)\n",
      " |-- waterfront: integer (nullable = true)\n",
      " |-- view: integer (nullable = true)\n",
      " |-- condition: integer (nullable = true)\n",
      " |-- sqft_above: integer (nullable = true)\n",
      " |-- sqft_basement: integer (nullable = true)\n",
      " |-- yr_built: integer (nullable = true)\n",
      " |-- yr_renovated: integer (nullable = true)\n",
      " |-- street: string (nullable = true)\n",
      " |-- city: string (nullable = true)\n",
      " |-- statezip: string (nullable = true)\n",
      " |-- country: string (nullable = true)\n",
      "\n",
      "+-------------------+---------+--------+---------+-----------+--------+------+----------+----+---------+----------+-------------+--------+------------+--------------------+---------+--------+-------+\n",
      "|               date|    price|bedrooms|bathrooms|sqft_living|sqft_lot|floors|waterfront|view|condition|sqft_above|sqft_basement|yr_built|yr_renovated|              street|     city|statezip|country|\n",
      "+-------------------+---------+--------+---------+-----------+--------+------+----------+----+---------+----------+-------------+--------+------------+--------------------+---------+--------+-------+\n",
      "|2014-05-02 00:00:00| 313000.0|     3.0|      1.5|       1340|    7912|   1.5|         0|   0|        3|      1340|            0|    1955|        2005|18810 Densmore Ave N|Shoreline|WA 98133|    USA|\n",
      "|2014-05-02 00:00:00|2384000.0|     5.0|      2.5|       3650|    9050|   2.0|         0|   4|        5|      3370|          280|    1921|           0|     709 W Blaine St|  Seattle|WA 98119|    USA|\n",
      "|2014-05-02 00:00:00| 342000.0|     3.0|      2.0|       1930|   11947|   1.0|         0|   0|        4|      1930|            0|    1966|           0|26206-26214 143rd...|     Kent|WA 98042|    USA|\n",
      "|2014-05-02 00:00:00| 420000.0|     3.0|     2.25|       2000|    8030|   1.0|         0|   0|        4|      1000|         1000|    1963|           0|     857 170th Pl NE| Bellevue|WA 98008|    USA|\n",
      "|2014-05-02 00:00:00| 550000.0|     4.0|      2.5|       1940|   10500|   1.0|         0|   0|        4|      1140|          800|    1976|        1992|   9105 170th Ave NE|  Redmond|WA 98052|    USA|\n",
      "+-------------------+---------+--------+---------+-----------+--------+------+----------+----+---------+----------+-------------+--------+------------+--------------------+---------+--------+-------+\n",
      "only showing top 5 rows\n",
      "\n"
     ]
    }
   ],
   "source": [
    "df = spark.read.csv(header=True, inferSchema= True, path= \"../input/housedata/data.csv\")\n",
    "\n",
    "df.printSchema()\n",
    "\n",
    "df.show(5)"
   ]
  },
  {
   "cell_type": "markdown",
   "id": "784becf7",
   "metadata": {
    "id": "t843ZAMQEbGL",
    "papermill": {
     "duration": 0.195701,
     "end_time": "2022-04-12T17:31:36.005718",
     "exception": false,
     "start_time": "2022-04-12T17:31:35.810017",
     "status": "completed"
    },
    "tags": []
   },
   "source": [
    "# Count total records"
   ]
  },
  {
   "cell_type": "code",
   "execution_count": 16,
   "id": "30042cac",
   "metadata": {
    "execution": {
     "iopub.execute_input": "2022-04-12T17:31:36.399727Z",
     "iopub.status.busy": "2022-04-12T17:31:36.398856Z",
     "iopub.status.idle": "2022-04-12T17:31:36.790549Z",
     "shell.execute_reply": "2022-04-12T17:31:36.791546Z",
     "shell.execute_reply.started": "2022-04-12T17:17:25.483758Z"
    },
    "id": "aZYUncyFEb0q",
    "outputId": "57bae7e4-43e8-44ab-f969-ebf93b78c67e",
    "papermill": {
     "duration": 0.590592,
     "end_time": "2022-04-12T17:31:36.791843",
     "exception": false,
     "start_time": "2022-04-12T17:31:36.201251",
     "status": "completed"
    },
    "tags": []
   },
   "outputs": [
    {
     "name": "stdout",
     "output_type": "stream",
     "text": [
      "Total records:4600\n"
     ]
    }
   ],
   "source": [
    "total_records = df.count()\n",
    "print(\"Total records:\" + str(total_records))"
   ]
  },
  {
   "cell_type": "markdown",
   "id": "105a88ee",
   "metadata": {
    "id": "abCqQhh2PBNw",
    "papermill": {
     "duration": 0.201241,
     "end_time": "2022-04-12T17:31:37.233308",
     "exception": false,
     "start_time": "2022-04-12T17:31:37.032067",
     "status": "completed"
    },
    "tags": []
   },
   "source": [
    "# Running SQL Queries Programmatically"
   ]
  },
  {
   "cell_type": "code",
   "execution_count": 17,
   "id": "8c3f773b",
   "metadata": {
    "execution": {
     "iopub.execute_input": "2022-04-12T17:31:37.627038Z",
     "iopub.status.busy": "2022-04-12T17:31:37.625754Z",
     "iopub.status.idle": "2022-04-12T17:31:37.930689Z",
     "shell.execute_reply": "2022-04-12T17:31:37.929181Z",
     "shell.execute_reply.started": "2022-04-12T17:17:30.352987Z"
    },
    "id": "-XkgYRwpPIzD",
    "outputId": "1c06b039-0dc0-4e34-beb8-8bf6089ef401",
    "papermill": {
     "duration": 0.505017,
     "end_time": "2022-04-12T17:31:37.931046",
     "exception": false,
     "start_time": "2022-04-12T17:31:37.426029",
     "status": "completed"
    },
    "tags": []
   },
   "outputs": [
    {
     "name": "stdout",
     "output_type": "stream",
     "text": [
      "+------------+---+\n",
      "|        name|age|\n",
      "+------------+---+\n",
      "|Manoj Mukund| 59|\n",
      "|  Hari Kumar| 65|\n",
      "|   Vivek Ram| 65|\n",
      "|    Mr. John| 19|\n",
      "+------------+---+\n",
      "\n"
     ]
    }
   ],
   "source": [
    "# Register the DataFrame as a SQL temporary view\n",
    "df1.createOrReplaceTempView(\"dfAsView\")\n",
    "\n",
    "sqlDF1 = spark.sql(\"SELECT * FROM dfAsView\")\n",
    "sqlDF1.show()"
   ]
  },
  {
   "cell_type": "markdown",
   "id": "b4f0f447",
   "metadata": {
    "id": "1_bDwSABVLGt",
    "papermill": {
     "duration": 0.339001,
     "end_time": "2022-04-12T17:31:38.527928",
     "exception": false,
     "start_time": "2022-04-12T17:31:38.188927",
     "status": "completed"
    },
    "tags": []
   },
   "source": [
    "# Defining a Schema explicitly"
   ]
  },
  {
   "cell_type": "code",
   "execution_count": 18,
   "id": "78a0ee47",
   "metadata": {
    "execution": {
     "iopub.execute_input": "2022-04-12T17:31:38.936163Z",
     "iopub.status.busy": "2022-04-12T17:31:38.935418Z",
     "iopub.status.idle": "2022-04-12T17:31:38.973511Z",
     "shell.execute_reply": "2022-04-12T17:31:38.975057Z",
     "shell.execute_reply.started": "2022-04-12T17:17:35.16981Z"
    },
    "id": "bE0N5eZbVOj_",
    "outputId": "c22d70b3-90ac-44b8-8fde-c4c19949d9d3",
    "papermill": {
     "duration": 0.241904,
     "end_time": "2022-04-12T17:31:38.975513",
     "exception": false,
     "start_time": "2022-04-12T17:31:38.733609",
     "status": "completed"
    },
    "tags": []
   },
   "outputs": [
    {
     "name": "stdout",
     "output_type": "stream",
     "text": [
      "root\n",
      " |-- person_name: string (nullable = false)\n",
      " |-- person_age: integer (nullable = false)\n",
      "\n"
     ]
    }
   ],
   "source": [
    "# In this case we create the dataframe from an RDD of tuples (rather than Rows) and provide the schema explicitly\n",
    "rdd2 = sc.parallelize([(\"Manoj \", 59), (\"Hari \", 65), (\"Vivek \", 65), (\"John \", 19)])\n",
    "# Schema with two fields - person_name and person_age\n",
    "schema = StructType([StructField(\"person_name\", StringType(), False),\n",
    "                     StructField(\"person_age\", IntegerType(), False)])\n",
    "\n",
    "# Create a DataFrame by applying the schema to the RDD and print the schema\n",
    "df2 = sqlContext.createDataFrame(rdd2, schema)\n",
    "df2.printSchema()\n"
   ]
  },
  {
   "cell_type": "markdown",
   "id": "eb32361c",
   "metadata": {
    "id": "5lgi4Z7nYud8",
    "papermill": {
     "duration": 0.193545,
     "end_time": "2022-04-12T17:31:39.375802",
     "exception": false,
     "start_time": "2022-04-12T17:31:39.182257",
     "status": "completed"
    },
    "tags": []
   },
   "source": [
    "# Inferring the Schema Using Reflection\n",
    "  > Spark SQL can convert an RDD of Row objects to a DataFrame, inferring the datatypes. \n",
    "  > Rows are constructed by passing a list of key/value pairs as kwargs to the Row class. "
   ]
  },
  {
   "cell_type": "code",
   "execution_count": 19,
   "id": "1ee76a16",
   "metadata": {
    "execution": {
     "iopub.execute_input": "2022-04-12T17:31:39.767672Z",
     "iopub.status.busy": "2022-04-12T17:31:39.766999Z",
     "iopub.status.idle": "2022-04-12T17:31:40.253535Z",
     "shell.execute_reply": "2022-04-12T17:31:40.252840Z",
     "shell.execute_reply.started": "2022-04-12T17:18:31.126506Z"
    },
    "id": "AQD-EWiYVdAj",
    "outputId": "21d1e66d-0a5c-421a-895e-f8020b0a6dc7",
    "papermill": {
     "duration": 0.684212,
     "end_time": "2022-04-12T17:31:40.253706",
     "exception": false,
     "start_time": "2022-04-12T17:31:39.569494",
     "status": "completed"
    },
    "tags": []
   },
   "outputs": [
    {
     "name": "stdout",
     "output_type": "stream",
     "text": [
      "Name: Justin\n"
     ]
    }
   ],
   "source": [
    "from pyspark.sql import Row\n",
    "sc = spark.sparkContext\n",
    "\n",
    "# Load a text file and convert each line to a Row.\n",
    "lines = sc.textFile(\"../input/people/people.txt\")\n",
    "parts = lines.map(lambda l: l.split(\",\"))\n",
    "people = parts.map(lambda p: Row(name=p[0], age=int(p[1])))\n",
    "\n",
    "# Infer the schema, and register the DataFrame as a table.\n",
    "schemaPeople = spark.createDataFrame(people)\n",
    "schemaPeople.createOrReplaceTempView(\"people\")\n",
    "\n",
    "# SQL can be run over DataFrames that have been registered as a table.\n",
    "teenagers = spark.sql(\"SELECT name FROM people WHERE age >= 13 AND age <= 19\")\n",
    "\n",
    "# The results of SQL queries are Dataframe objects.\n",
    "# rdd returns the content as an :class:`pyspark.RDD` of :class:`Row`.\n",
    "teenNames = teenagers.rdd.map(lambda p: \"Name: \" + p.name).collect()\n",
    "for name in teenNames: print(name)\n",
    "# Name: Justin"
   ]
  }
 ],
 "metadata": {
  "kernelspec": {
   "display_name": "Python 3",
   "language": "python",
   "name": "python3"
  },
  "language_info": {
   "codemirror_mode": {
    "name": "ipython",
    "version": 3
   },
   "file_extension": ".py",
   "mimetype": "text/x-python",
   "name": "python",
   "nbconvert_exporter": "python",
   "pygments_lexer": "ipython3",
   "version": "3.7.12"
  },
  "papermill": {
   "default_parameters": {},
   "duration": 90.338952,
   "end_time": "2022-04-12T17:31:41.274431",
   "environment_variables": {},
   "exception": null,
   "input_path": "__notebook__.ipynb",
   "output_path": "__notebook__.ipynb",
   "parameters": {},
   "start_time": "2022-04-12T17:30:10.935479",
   "version": "2.3.3"
  }
 },
 "nbformat": 4,
 "nbformat_minor": 5
}
